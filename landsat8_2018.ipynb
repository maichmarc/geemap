{
 "cells": [
  {
   "cell_type": "markdown",
   "id": "da461040",
   "metadata": {},
   "source": [
    "### Install Geemap"
   ]
  },
  {
   "cell_type": "code",
   "execution_count": 1,
   "id": "cd908d03",
   "metadata": {
    "scrolled": true
   },
   "outputs": [
    {
     "name": "stdout",
     "output_type": "stream",
     "text": [
      "Collecting geemap\n",
      "  Downloading geemap-0.35.1-py2.py3-none-any.whl.metadata (12 kB)\n",
      "Collecting bqplot (from geemap)\n",
      "  Downloading bqplot-0.12.43-py2.py3-none-any.whl.metadata (6.4 kB)\n",
      "Collecting colour (from geemap)\n",
      "  Downloading colour-0.1.5-py2.py3-none-any.whl.metadata (18 kB)\n",
      "Collecting earthengine-api>=1.0.0 (from geemap)\n",
      "  Downloading earthengine_api-1.4.0-py3-none-any.whl.metadata (1.8 kB)\n",
      "Collecting eerepr>=0.0.4 (from geemap)\n",
      "  Downloading eerepr-0.0.4-py3-none-any.whl.metadata (4.0 kB)\n",
      "Collecting folium>=0.17.0 (from geemap)\n",
      "  Downloading folium-0.18.0-py2.py3-none-any.whl.metadata (3.8 kB)\n",
      "Collecting geocoder (from geemap)\n",
      "  Downloading geocoder-1.38.1-py2.py3-none-any.whl.metadata (14 kB)\n",
      "Collecting ipyevents (from geemap)\n",
      "  Downloading ipyevents-2.0.2-py3-none-any.whl.metadata (2.9 kB)\n",
      "Collecting ipyfilechooser>=0.6.0 (from geemap)\n",
      "  Downloading ipyfilechooser-0.6.0-py3-none-any.whl.metadata (6.4 kB)\n",
      "Collecting ipyleaflet>=0.19.2 (from geemap)\n",
      "  Downloading ipyleaflet-0.19.2-py3-none-any.whl.metadata (5.3 kB)\n",
      "Collecting ipytree (from geemap)\n",
      "  Downloading ipytree-0.2.2-py2.py3-none-any.whl.metadata (849 bytes)\n",
      "Collecting matplotlib (from geemap)\n",
      "  Downloading matplotlib-3.9.2-cp311-cp311-win_amd64.whl.metadata (11 kB)\n",
      "Collecting numpy (from geemap)\n",
      "  Downloading numpy-2.1.3-cp311-cp311-win_amd64.whl.metadata (60 kB)\n",
      "Collecting pandas (from geemap)\n",
      "  Downloading pandas-2.2.3-cp311-cp311-win_amd64.whl.metadata (19 kB)\n",
      "Collecting plotly (from geemap)\n",
      "  Downloading plotly-5.24.1-py3-none-any.whl.metadata (7.3 kB)\n",
      "Collecting pyperclip (from geemap)\n",
      "  Downloading pyperclip-1.9.0.tar.gz (20 kB)\n",
      "  Preparing metadata (setup.py): started\n",
      "  Preparing metadata (setup.py): finished with status 'done'\n",
      "Collecting pyshp>=2.3.1 (from geemap)\n",
      "  Downloading pyshp-2.3.1-py2.py3-none-any.whl.metadata (55 kB)\n",
      "Collecting python-box (from geemap)\n",
      "  Downloading python_box-7.2.0-cp311-cp311-win_amd64.whl.metadata (8.0 kB)\n",
      "Collecting scooby (from geemap)\n",
      "  Downloading scooby-0.10.0-py3-none-any.whl.metadata (15 kB)\n",
      "Collecting google-cloud-storage (from earthengine-api>=1.0.0->geemap)\n",
      "  Downloading google_cloud_storage-2.18.2-py2.py3-none-any.whl.metadata (9.1 kB)\n",
      "Collecting google-api-python-client>=1.12.1 (from earthengine-api>=1.0.0->geemap)\n",
      "  Downloading google_api_python_client-2.154.0-py2.py3-none-any.whl.metadata (6.7 kB)\n",
      "Collecting google-auth>=1.4.1 (from earthengine-api>=1.0.0->geemap)\n",
      "  Downloading google_auth-2.36.0-py2.py3-none-any.whl.metadata (4.7 kB)\n",
      "Collecting google-auth-httplib2>=0.0.3 (from earthengine-api>=1.0.0->geemap)\n",
      "  Downloading google_auth_httplib2-0.2.0-py2.py3-none-any.whl.metadata (2.2 kB)\n",
      "Collecting httplib2<1dev,>=0.9.2 (from earthengine-api>=1.0.0->geemap)\n",
      "  Downloading httplib2-0.22.0-py3-none-any.whl.metadata (2.6 kB)\n",
      "Requirement already satisfied: requests in c:\\users\\mark\\anaconda3\\envs\\gee\\lib\\site-packages (from earthengine-api>=1.0.0->geemap) (2.32.3)\n",
      "Collecting branca>=0.6.0 (from folium>=0.17.0->geemap)\n",
      "  Downloading branca-0.8.0-py3-none-any.whl.metadata (1.5 kB)\n",
      "Requirement already satisfied: jinja2>=2.9 in c:\\users\\mark\\anaconda3\\envs\\gee\\lib\\site-packages (from folium>=0.17.0->geemap) (3.1.4)\n",
      "Collecting xyzservices (from folium>=0.17.0->geemap)\n",
      "  Downloading xyzservices-2024.9.0-py3-none-any.whl.metadata (4.1 kB)\n",
      "Collecting ipywidgets (from ipyfilechooser>=0.6.0->geemap)\n",
      "  Downloading ipywidgets-8.1.5-py3-none-any.whl.metadata (2.3 kB)\n",
      "Collecting jupyter-leaflet<0.20,>=0.19 (from ipyleaflet>=0.19.2->geemap)\n",
      "  Downloading jupyter_leaflet-0.19.2-py3-none-any.whl.metadata (2.4 kB)\n",
      "Collecting traittypes<3,>=0.2.1 (from ipyleaflet>=0.19.2->geemap)\n",
      "  Downloading traittypes-0.2.1-py2.py3-none-any.whl.metadata (1.0 kB)\n",
      "Requirement already satisfied: traitlets>=4.3.0 in c:\\users\\mark\\anaconda3\\envs\\gee\\lib\\site-packages (from bqplot->geemap) (5.14.3)\n",
      "Requirement already satisfied: python-dateutil>=2.8.2 in c:\\users\\mark\\anaconda3\\envs\\gee\\lib\\site-packages (from pandas->geemap) (2.9.0.post0)\n",
      "Requirement already satisfied: pytz>=2020.1 in c:\\users\\mark\\anaconda3\\envs\\gee\\lib\\site-packages (from pandas->geemap) (2024.1)\n",
      "Collecting tzdata>=2022.7 (from pandas->geemap)\n",
      "  Using cached tzdata-2024.2-py2.py3-none-any.whl.metadata (1.4 kB)\n",
      "Collecting click (from geocoder->geemap)\n",
      "  Downloading click-8.1.7-py3-none-any.whl.metadata (3.0 kB)\n",
      "Collecting future (from geocoder->geemap)\n",
      "  Downloading future-1.0.0-py3-none-any.whl.metadata (4.0 kB)\n",
      "Collecting ratelim (from geocoder->geemap)\n",
      "  Downloading ratelim-0.1.6-py2.py3-none-any.whl.metadata (1.4 kB)\n",
      "Requirement already satisfied: six in c:\\users\\mark\\anaconda3\\envs\\gee\\lib\\site-packages (from geocoder->geemap) (1.16.0)\n",
      "Collecting contourpy>=1.0.1 (from matplotlib->geemap)\n",
      "  Downloading contourpy-1.3.1-cp311-cp311-win_amd64.whl.metadata (5.4 kB)\n",
      "Collecting cycler>=0.10 (from matplotlib->geemap)\n",
      "  Using cached cycler-0.12.1-py3-none-any.whl.metadata (3.8 kB)\n",
      "Collecting fonttools>=4.22.0 (from matplotlib->geemap)\n",
      "  Downloading fonttools-4.55.0-cp311-cp311-win_amd64.whl.metadata (167 kB)\n",
      "Collecting kiwisolver>=1.3.1 (from matplotlib->geemap)\n",
      "  Downloading kiwisolver-1.4.7-cp311-cp311-win_amd64.whl.metadata (6.4 kB)\n",
      "Requirement already satisfied: packaging>=20.0 in c:\\users\\mark\\anaconda3\\envs\\gee\\lib\\site-packages (from matplotlib->geemap) (24.1)\n",
      "Collecting pillow>=8 (from matplotlib->geemap)\n",
      "  Downloading pillow-11.0.0-cp311-cp311-win_amd64.whl.metadata (9.3 kB)\n",
      "Collecting pyparsing>=2.3.1 (from matplotlib->geemap)\n",
      "  Using cached pyparsing-3.2.0-py3-none-any.whl.metadata (5.0 kB)\n",
      "Collecting tenacity>=6.2.0 (from plotly->geemap)\n",
      "  Downloading tenacity-9.0.0-py3-none-any.whl.metadata (1.2 kB)\n",
      "Collecting google-api-core!=2.0.*,!=2.1.*,!=2.2.*,!=2.3.0,<3.0.0.dev0,>=1.31.5 (from google-api-python-client>=1.12.1->earthengine-api>=1.0.0->geemap)\n",
      "  Downloading google_api_core-2.23.0-py3-none-any.whl.metadata (3.0 kB)\n",
      "Collecting uritemplate<5,>=3.0.1 (from google-api-python-client>=1.12.1->earthengine-api>=1.0.0->geemap)\n",
      "  Downloading uritemplate-4.1.1-py2.py3-none-any.whl.metadata (2.9 kB)\n",
      "Collecting cachetools<6.0,>=2.0.0 (from google-auth>=1.4.1->earthengine-api>=1.0.0->geemap)\n",
      "  Downloading cachetools-5.5.0-py3-none-any.whl.metadata (5.3 kB)\n",
      "Collecting pyasn1-modules>=0.2.1 (from google-auth>=1.4.1->earthengine-api>=1.0.0->geemap)\n",
      "  Downloading pyasn1_modules-0.4.1-py3-none-any.whl.metadata (3.5 kB)\n",
      "Collecting rsa<5,>=3.1.4 (from google-auth>=1.4.1->earthengine-api>=1.0.0->geemap)\n",
      "  Downloading rsa-4.9-py3-none-any.whl.metadata (4.2 kB)\n",
      "Requirement already satisfied: comm>=0.1.3 in c:\\users\\mark\\anaconda3\\envs\\gee\\lib\\site-packages (from ipywidgets->ipyfilechooser>=0.6.0->geemap) (0.2.1)\n",
      "Requirement already satisfied: ipython>=6.1.0 in c:\\users\\mark\\anaconda3\\envs\\gee\\lib\\site-packages (from ipywidgets->ipyfilechooser>=0.6.0->geemap) (8.27.0)\n",
      "Collecting widgetsnbextension~=4.0.12 (from ipywidgets->ipyfilechooser>=0.6.0->geemap)\n",
      "  Downloading widgetsnbextension-4.0.13-py3-none-any.whl.metadata (1.6 kB)\n",
      "Collecting jupyterlab-widgets~=3.0.12 (from ipywidgets->ipyfilechooser>=0.6.0->geemap)\n",
      "  Downloading jupyterlab_widgets-3.0.13-py3-none-any.whl.metadata (4.1 kB)\n",
      "Requirement already satisfied: MarkupSafe>=2.0 in c:\\users\\mark\\anaconda3\\envs\\gee\\lib\\site-packages (from jinja2>=2.9->folium>=0.17.0->geemap) (2.1.3)\n",
      "Requirement already satisfied: colorama in c:\\users\\mark\\anaconda3\\envs\\gee\\lib\\site-packages (from click->geocoder->geemap) (0.4.6)\n",
      "Collecting google-cloud-core<3.0dev,>=2.3.0 (from google-cloud-storage->earthengine-api>=1.0.0->geemap)\n",
      "  Downloading google_cloud_core-2.4.1-py2.py3-none-any.whl.metadata (2.7 kB)\n",
      "Collecting google-resumable-media>=2.7.2 (from google-cloud-storage->earthengine-api>=1.0.0->geemap)\n",
      "  Downloading google_resumable_media-2.7.2-py2.py3-none-any.whl.metadata (2.2 kB)\n",
      "Collecting google-crc32c<2.0dev,>=1.0 (from google-cloud-storage->earthengine-api>=1.0.0->geemap)\n",
      "  Downloading google_crc32c-1.6.0-cp311-cp311-win_amd64.whl.metadata (2.4 kB)\n",
      "Requirement already satisfied: charset-normalizer<4,>=2 in c:\\users\\mark\\anaconda3\\envs\\gee\\lib\\site-packages (from requests->earthengine-api>=1.0.0->geemap) (3.3.2)\n",
      "Requirement already satisfied: idna<4,>=2.5 in c:\\users\\mark\\anaconda3\\envs\\gee\\lib\\site-packages (from requests->earthengine-api>=1.0.0->geemap) (3.7)\n",
      "Requirement already satisfied: urllib3<3,>=1.21.1 in c:\\users\\mark\\anaconda3\\envs\\gee\\lib\\site-packages (from requests->earthengine-api>=1.0.0->geemap) (2.2.3)\n",
      "Requirement already satisfied: certifi>=2017.4.17 in c:\\users\\mark\\anaconda3\\envs\\gee\\lib\\site-packages (from requests->earthengine-api>=1.0.0->geemap) (2024.8.30)\n",
      "Requirement already satisfied: decorator in c:\\users\\mark\\anaconda3\\envs\\gee\\lib\\site-packages (from ratelim->geocoder->geemap) (5.1.1)\n",
      "Collecting googleapis-common-protos<2.0.dev0,>=1.56.2 (from google-api-core!=2.0.*,!=2.1.*,!=2.2.*,!=2.3.0,<3.0.0.dev0,>=1.31.5->google-api-python-client>=1.12.1->earthengine-api>=1.0.0->geemap)\n",
      "  Downloading googleapis_common_protos-1.66.0-py2.py3-none-any.whl.metadata (1.5 kB)\n",
      "Collecting protobuf!=3.20.0,!=3.20.1,!=4.21.0,!=4.21.1,!=4.21.2,!=4.21.3,!=4.21.4,!=4.21.5,<6.0.0.dev0,>=3.19.5 (from google-api-core!=2.0.*,!=2.1.*,!=2.2.*,!=2.3.0,<3.0.0.dev0,>=1.31.5->google-api-python-client>=1.12.1->earthengine-api>=1.0.0->geemap)\n",
      "  Downloading protobuf-5.28.3-cp310-abi3-win_amd64.whl.metadata (592 bytes)\n",
      "Collecting proto-plus<2.0.0dev,>=1.22.3 (from google-api-core!=2.0.*,!=2.1.*,!=2.2.*,!=2.3.0,<3.0.0.dev0,>=1.31.5->google-api-python-client>=1.12.1->earthengine-api>=1.0.0->geemap)\n",
      "  Downloading proto_plus-1.25.0-py3-none-any.whl.metadata (2.2 kB)\n",
      "Requirement already satisfied: jedi>=0.16 in c:\\users\\mark\\anaconda3\\envs\\gee\\lib\\site-packages (from ipython>=6.1.0->ipywidgets->ipyfilechooser>=0.6.0->geemap) (0.19.1)\n",
      "Requirement already satisfied: matplotlib-inline in c:\\users\\mark\\anaconda3\\envs\\gee\\lib\\site-packages (from ipython>=6.1.0->ipywidgets->ipyfilechooser>=0.6.0->geemap) (0.1.6)\n",
      "Requirement already satisfied: prompt-toolkit<3.1.0,>=3.0.41 in c:\\users\\mark\\anaconda3\\envs\\gee\\lib\\site-packages (from ipython>=6.1.0->ipywidgets->ipyfilechooser>=0.6.0->geemap) (3.0.43)\n",
      "Requirement already satisfied: pygments>=2.4.0 in c:\\users\\mark\\anaconda3\\envs\\gee\\lib\\site-packages (from ipython>=6.1.0->ipywidgets->ipyfilechooser>=0.6.0->geemap) (2.15.1)\n",
      "Requirement already satisfied: stack-data in c:\\users\\mark\\anaconda3\\envs\\gee\\lib\\site-packages (from ipython>=6.1.0->ipywidgets->ipyfilechooser>=0.6.0->geemap) (0.2.0)\n",
      "Requirement already satisfied: typing-extensions>=4.6 in c:\\users\\mark\\anaconda3\\envs\\gee\\lib\\site-packages (from ipython>=6.1.0->ipywidgets->ipyfilechooser>=0.6.0->geemap) (4.11.0)\n",
      "Collecting pyasn1<0.7.0,>=0.4.6 (from pyasn1-modules>=0.2.1->google-auth>=1.4.1->earthengine-api>=1.0.0->geemap)\n",
      "  Downloading pyasn1-0.6.1-py3-none-any.whl.metadata (8.4 kB)\n",
      "Requirement already satisfied: parso<0.9.0,>=0.8.3 in c:\\users\\mark\\anaconda3\\envs\\gee\\lib\\site-packages (from jedi>=0.16->ipython>=6.1.0->ipywidgets->ipyfilechooser>=0.6.0->geemap) (0.8.3)\n",
      "Requirement already satisfied: wcwidth in c:\\users\\mark\\anaconda3\\envs\\gee\\lib\\site-packages (from prompt-toolkit<3.1.0,>=3.0.41->ipython>=6.1.0->ipywidgets->ipyfilechooser>=0.6.0->geemap) (0.2.5)\n",
      "Requirement already satisfied: executing in c:\\users\\mark\\anaconda3\\envs\\gee\\lib\\site-packages (from stack-data->ipython>=6.1.0->ipywidgets->ipyfilechooser>=0.6.0->geemap) (0.8.3)\n",
      "Requirement already satisfied: asttokens in c:\\users\\mark\\anaconda3\\envs\\gee\\lib\\site-packages (from stack-data->ipython>=6.1.0->ipywidgets->ipyfilechooser>=0.6.0->geemap) (2.0.5)\n",
      "Requirement already satisfied: pure-eval in c:\\users\\mark\\anaconda3\\envs\\gee\\lib\\site-packages (from stack-data->ipython>=6.1.0->ipywidgets->ipyfilechooser>=0.6.0->geemap) (0.2.2)\n",
      "Downloading geemap-0.35.1-py2.py3-none-any.whl (2.3 MB)\n",
      "   ---------------------------------------- 0.0/2.3 MB ? eta -:--:--\n",
      "   --------- ------------------------------ 0.5/2.3 MB 3.4 MB/s eta 0:00:01\n",
      "   --------------------------- ------------ 1.6/2.3 MB 4.0 MB/s eta 0:00:01\n",
      "   --------------------------- ------------ 1.6/2.3 MB 4.0 MB/s eta 0:00:01\n",
      "   --------------------------- ------------ 1.6/2.3 MB 4.0 MB/s eta 0:00:01\n",
      "   ---------------------------------------- 2.3/2.3 MB 2.2 MB/s eta 0:00:00\n",
      "Downloading earthengine_api-1.4.0-py3-none-any.whl (457 kB)\n",
      "Downloading eerepr-0.0.4-py3-none-any.whl (9.7 kB)\n",
      "Downloading folium-0.18.0-py2.py3-none-any.whl (108 kB)\n",
      "Downloading ipyfilechooser-0.6.0-py3-none-any.whl (11 kB)\n",
      "Downloading ipyleaflet-0.19.2-py3-none-any.whl (31 kB)\n",
      "Downloading pyshp-2.3.1-py2.py3-none-any.whl (46 kB)\n",
      "Downloading bqplot-0.12.43-py2.py3-none-any.whl (1.2 MB)\n",
      "   ---------------------------------------- 0.0/1.2 MB ? eta -:--:--\n",
      "   ---------------- ----------------------- 0.5/1.2 MB 16.4 MB/s eta 0:00:01\n",
      "   --------------------------------- ------ 1.0/1.2 MB 2.6 MB/s eta 0:00:01\n",
      "   ---------------------------------------- 1.2/1.2 MB 2.1 MB/s eta 0:00:00\n",
      "Downloading numpy-2.1.3-cp311-cp311-win_amd64.whl (12.9 MB)\n",
      "   ---------------------------------------- 0.0/12.9 MB ? eta -:--:--\n",
      "   -- ------------------------------------- 0.8/12.9 MB 4.8 MB/s eta 0:00:03\n",
      "   ---- ----------------------------------- 1.6/12.9 MB 4.2 MB/s eta 0:00:03\n",
      "   ------- -------------------------------- 2.4/12.9 MB 4.1 MB/s eta 0:00:03\n",
      "   ------- -------------------------------- 2.4/12.9 MB 4.1 MB/s eta 0:00:03\n",
      "   --------- ------------------------------ 3.1/12.9 MB 3.3 MB/s eta 0:00:03\n",
      "   ----------- ---------------------------- 3.7/12.9 MB 3.1 MB/s eta 0:00:03\n",
      "   ------------ --------------------------- 3.9/12.9 MB 2.7 MB/s eta 0:00:04\n",
      "   ------------- -------------------------- 4.2/12.9 MB 2.5 MB/s eta 0:00:04\n",
      "   ------------- -------------------------- 4.2/12.9 MB 2.5 MB/s eta 0:00:04\n",
      "   -------------- ------------------------- 4.7/12.9 MB 2.2 MB/s eta 0:00:04\n",
      "   ----------------- ---------------------- 5.5/12.9 MB 2.4 MB/s eta 0:00:04\n",
      "   ------------------- -------------------- 6.3/12.9 MB 2.5 MB/s eta 0:00:03\n",
      "   ---------------------- ----------------- 7.3/12.9 MB 2.7 MB/s eta 0:00:03\n",
      "   ------------------------- -------------- 8.1/12.9 MB 2.8 MB/s eta 0:00:02\n",
      "   --------------------------- ------------ 8.9/12.9 MB 2.9 MB/s eta 0:00:02\n",
      "   ------------------------------ --------- 10.0/12.9 MB 3.0 MB/s eta 0:00:01\n",
      "   ---------------------------------- ----- 11.0/12.9 MB 3.1 MB/s eta 0:00:01\n",
      "   ------------------------------------ --- 11.8/12.9 MB 3.1 MB/s eta 0:00:01\n",
      "   ---------------------------------------  12.8/12.9 MB 3.2 MB/s eta 0:00:01\n",
      "   ---------------------------------------- 12.9/12.9 MB 3.1 MB/s eta 0:00:00\n",
      "Downloading pandas-2.2.3-cp311-cp311-win_amd64.whl (11.6 MB)\n",
      "   ---------------------------------------- 0.0/11.6 MB ? eta -:--:--\n",
      "   -- ------------------------------------- 0.8/11.6 MB 3.7 MB/s eta 0:00:03\n",
      "   ----- ---------------------------------- 1.6/11.6 MB 4.0 MB/s eta 0:00:03\n",
      "   ------- -------------------------------- 2.1/11.6 MB 3.3 MB/s eta 0:00:03\n",
      "   -------- ------------------------------- 2.4/11.6 MB 3.0 MB/s eta 0:00:04\n",
      "   --------- ------------------------------ 2.9/11.6 MB 2.7 MB/s eta 0:00:04\n",
      "   ----------- ---------------------------- 3.4/11.6 MB 2.6 MB/s eta 0:00:04\n",
      "   ------------- -------------------------- 3.9/11.6 MB 2.6 MB/s eta 0:00:03\n",
      "   --------------- ------------------------ 4.5/11.6 MB 2.6 MB/s eta 0:00:03\n",
      "   ----------------- ---------------------- 5.0/11.6 MB 2.6 MB/s eta 0:00:03\n",
      "   ------------------ --------------------- 5.5/11.6 MB 2.5 MB/s eta 0:00:03\n",
      "   ------------------- -------------------- 5.8/11.6 MB 2.5 MB/s eta 0:00:03\n",
      "   --------------------- ------------------ 6.3/11.6 MB 2.5 MB/s eta 0:00:03\n",
      "   ------------------------ --------------- 7.1/11.6 MB 2.5 MB/s eta 0:00:02\n",
      "   --------------------------- ------------ 7.9/11.6 MB 2.6 MB/s eta 0:00:02\n",
      "   ------------------------------ --------- 8.9/11.6 MB 2.7 MB/s eta 0:00:01\n",
      "   --------------------------------- ------ 9.7/11.6 MB 2.8 MB/s eta 0:00:01\n",
      "   ----------------------------------- ---- 10.2/11.6 MB 2.8 MB/s eta 0:00:01\n",
      "   ------------------------------------- -- 10.7/11.6 MB 2.8 MB/s eta 0:00:01\n",
      "   ---------------------------------------  11.5/11.6 MB 2.8 MB/s eta 0:00:01\n",
      "   ---------------------------------------- 11.6/11.6 MB 2.8 MB/s eta 0:00:00\n",
      "Downloading colour-0.1.5-py2.py3-none-any.whl (23 kB)\n",
      "Downloading geocoder-1.38.1-py2.py3-none-any.whl (98 kB)\n",
      "Downloading ipyevents-2.0.2-py3-none-any.whl (101 kB)\n",
      "Downloading ipytree-0.2.2-py2.py3-none-any.whl (1.3 MB)\n",
      "   ---------------------------------------- 0.0/1.3 MB ? eta -:--:--\n",
      "   ------------------------ --------------- 0.8/1.3 MB 3.7 MB/s eta 0:00:01\n",
      "   ---------------------------------------- 1.3/1.3 MB 3.4 MB/s eta 0:00:00\n",
      "Downloading matplotlib-3.9.2-cp311-cp311-win_amd64.whl (7.8 MB)\n",
      "   ---------------------------------------- 0.0/7.8 MB ? eta -:--:--\n",
      "   ---- ----------------------------------- 0.8/7.8 MB 3.7 MB/s eta 0:00:02\n",
      "   -------- ------------------------------- 1.6/7.8 MB 4.0 MB/s eta 0:00:02\n",
      "   ------------ --------------------------- 2.4/7.8 MB 3.6 MB/s eta 0:00:02\n",
      "   -------------- ------------------------- 2.9/7.8 MB 3.5 MB/s eta 0:00:02\n",
      "   ------------------ --------------------- 3.7/7.8 MB 3.5 MB/s eta 0:00:02\n",
      "   --------------------- ------------------ 4.2/7.8 MB 3.4 MB/s eta 0:00:02\n",
      "   ------------------------- -------------- 5.0/7.8 MB 3.4 MB/s eta 0:00:01\n",
      "   ---------------------------- ----------- 5.5/7.8 MB 3.4 MB/s eta 0:00:01\n",
      "   ------------------------------ --------- 6.0/7.8 MB 3.2 MB/s eta 0:00:01\n",
      "   --------------------------------- ------ 6.6/7.8 MB 3.2 MB/s eta 0:00:01\n",
      "   ------------------------------------- -- 7.3/7.8 MB 3.2 MB/s eta 0:00:01\n",
      "   -------------------------------------- - 7.6/7.8 MB 3.0 MB/s eta 0:00:01\n",
      "   ---------------------------------------- 7.8/7.8 MB 3.0 MB/s eta 0:00:00\n",
      "Downloading plotly-5.24.1-py3-none-any.whl (19.1 MB)\n",
      "   ---------------------------------------- 0.0/19.1 MB ? eta -:--:--\n",
      "    --------------------------------------- 0.3/19.1 MB ? eta -:--:--\n",
      "   - -------------------------------------- 0.8/19.1 MB 2.4 MB/s eta 0:00:08\n",
      "   -- ------------------------------------- 1.3/19.1 MB 2.4 MB/s eta 0:00:08\n",
      "   --- ------------------------------------ 1.8/19.1 MB 2.6 MB/s eta 0:00:07\n",
      "   ---- ----------------------------------- 2.1/19.1 MB 2.3 MB/s eta 0:00:08\n",
      "   ----- ---------------------------------- 2.6/19.1 MB 2.3 MB/s eta 0:00:08\n",
      "   ------- -------------------------------- 3.4/19.1 MB 2.5 MB/s eta 0:00:07\n",
      "   -------- ------------------------------- 4.2/19.1 MB 2.7 MB/s eta 0:00:06\n",
      "   ---------- ----------------------------- 5.0/19.1 MB 2.8 MB/s eta 0:00:05\n",
      "   ----------- ---------------------------- 5.5/19.1 MB 2.9 MB/s eta 0:00:05\n",
      "   ------------ --------------------------- 6.0/19.1 MB 2.8 MB/s eta 0:00:05\n",
      "   -------------- ------------------------- 6.8/19.1 MB 2.9 MB/s eta 0:00:05\n",
      "   --------------- ------------------------ 7.3/19.1 MB 2.9 MB/s eta 0:00:05\n",
      "   ----------------- ---------------------- 8.1/19.1 MB 2.9 MB/s eta 0:00:04\n",
      "   ------------------ --------------------- 8.9/19.1 MB 2.9 MB/s eta 0:00:04\n",
      "   ------------------- -------------------- 9.4/19.1 MB 3.0 MB/s eta 0:00:04\n",
      "   --------------------- ------------------ 10.2/19.1 MB 3.0 MB/s eta 0:00:03\n",
      "   ---------------------- ----------------- 10.7/19.1 MB 3.0 MB/s eta 0:00:03\n",
      "   ------------------------ --------------- 11.5/19.1 MB 3.0 MB/s eta 0:00:03\n",
      "   ------------------------- -------------- 12.1/19.1 MB 3.0 MB/s eta 0:00:03\n",
      "   -------------------------- ------------- 12.6/19.1 MB 2.9 MB/s eta 0:00:03\n",
      "   -------------------------- ------------- 12.8/19.1 MB 2.9 MB/s eta 0:00:03\n",
      "   ---------------------------- ----------- 13.4/19.1 MB 2.9 MB/s eta 0:00:02\n",
      "   ----------------------------- ---------- 13.9/19.1 MB 2.8 MB/s eta 0:00:02\n",
      "   ------------------------------ --------- 14.4/19.1 MB 2.8 MB/s eta 0:00:02\n",
      "   ------------------------------ --------- 14.4/19.1 MB 2.8 MB/s eta 0:00:02\n",
      "   ------------------------------ --------- 14.7/19.1 MB 2.7 MB/s eta 0:00:02\n",
      "   ------------------------------- -------- 14.9/19.1 MB 2.7 MB/s eta 0:00:02\n",
      "   ------------------------------- -------- 14.9/19.1 MB 2.7 MB/s eta 0:00:02\n",
      "   --------------------------------- ------ 15.7/19.1 MB 2.6 MB/s eta 0:00:02\n",
      "   ---------------------------------- ----- 16.3/19.1 MB 2.6 MB/s eta 0:00:02\n",
      "   ----------------------------------- ---- 16.8/19.1 MB 2.6 MB/s eta 0:00:01\n",
      "   ------------------------------------ --- 17.3/19.1 MB 2.5 MB/s eta 0:00:01\n",
      "   ------------------------------------- -- 17.8/19.1 MB 2.5 MB/s eta 0:00:01\n",
      "   ------------------------------------- -- 17.8/19.1 MB 2.5 MB/s eta 0:00:01\n",
      "   ------------------------------------- -- 18.1/19.1 MB 2.5 MB/s eta 0:00:01\n",
      "   -------------------------------------- - 18.4/19.1 MB 2.4 MB/s eta 0:00:01\n",
      "   ---------------------------------------- 19.1/19.1 MB 2.4 MB/s eta 0:00:00\n",
      "Downloading python_box-7.2.0-cp311-cp311-win_amd64.whl (1.2 MB)\n",
      "   ---------------------------------------- 0.0/1.2 MB ? eta -:--:--\n",
      "   ----------------- ---------------------- 0.5/1.2 MB 4.2 MB/s eta 0:00:01\n",
      "   ---------------------------------------- 1.2/1.2 MB 3.1 MB/s eta 0:00:00\n",
      "Downloading scooby-0.10.0-py3-none-any.whl (18 kB)\n",
      "Downloading branca-0.8.0-py3-none-any.whl (25 kB)\n",
      "Downloading contourpy-1.3.1-cp311-cp311-win_amd64.whl (219 kB)\n",
      "Using cached cycler-0.12.1-py3-none-any.whl (8.3 kB)\n",
      "Downloading fonttools-4.55.0-cp311-cp311-win_amd64.whl (2.2 MB)\n",
      "   ---------------------------------------- 0.0/2.2 MB ? eta -:--:--\n",
      "   -------------- ------------------------- 0.8/2.2 MB 2.8 MB/s eta 0:00:01\n",
      "   ----------------------- ---------------- 1.3/2.2 MB 3.2 MB/s eta 0:00:01\n",
      "   ---------------------------------------- 2.2/2.2 MB 3.4 MB/s eta 0:00:00\n",
      "Downloading google_api_python_client-2.154.0-py2.py3-none-any.whl (12.6 MB)\n",
      "   ---------------------------------------- 0.0/12.6 MB ? eta -:--:--\n",
      "   - -------------------------------------- 0.5/12.6 MB 3.4 MB/s eta 0:00:04\n",
      "   --- ------------------------------------ 1.0/12.6 MB 2.5 MB/s eta 0:00:05\n",
      "   ---- ----------------------------------- 1.3/12.6 MB 2.8 MB/s eta 0:00:05\n",
      "   ------- -------------------------------- 2.4/12.6 MB 2.9 MB/s eta 0:00:04\n",
      "   -------- ------------------------------- 2.6/12.6 MB 2.9 MB/s eta 0:00:04\n",
      "   --------- ------------------------------ 2.9/12.6 MB 2.3 MB/s eta 0:00:05\n",
      "   ------------- -------------------------- 4.2/12.6 MB 2.9 MB/s eta 0:00:03\n",
      "   --------------- ------------------------ 4.7/12.6 MB 2.9 MB/s eta 0:00:03\n",
      "   ---------------- ----------------------- 5.2/12.6 MB 2.8 MB/s eta 0:00:03\n",
      "   ----------------- ---------------------- 5.5/12.6 MB 2.7 MB/s eta 0:00:03\n",
      "   -------------------- ------------------- 6.3/12.6 MB 2.7 MB/s eta 0:00:03\n",
      "   --------------------- ------------------ 6.8/12.6 MB 2.8 MB/s eta 0:00:03\n",
      "   ------------------------ --------------- 7.6/12.6 MB 2.8 MB/s eta 0:00:02\n",
      "   -------------------------- ------------- 8.4/12.6 MB 2.9 MB/s eta 0:00:02\n",
      "   --------------------------- ------------ 8.7/12.6 MB 2.9 MB/s eta 0:00:02\n",
      "   ---------------------------- ----------- 8.9/12.6 MB 2.8 MB/s eta 0:00:02\n",
      "   ------------------------------ --------- 9.4/12.6 MB 2.7 MB/s eta 0:00:02\n",
      "   ------------------------------- -------- 10.0/12.6 MB 2.7 MB/s eta 0:00:01\n",
      "   -------------------------------- ------- 10.2/12.6 MB 2.6 MB/s eta 0:00:01\n",
      "   -------------------------------- ------- 10.2/12.6 MB 2.6 MB/s eta 0:00:01\n",
      "   ----------------------------------- ---- 11.3/12.6 MB 2.6 MB/s eta 0:00:01\n",
      "   ------------------------------------ --- 11.5/12.6 MB 2.5 MB/s eta 0:00:01\n",
      "   ------------------------------------- -- 11.8/12.6 MB 2.5 MB/s eta 0:00:01\n",
      "   ------------------------------------- -- 11.8/12.6 MB 2.5 MB/s eta 0:00:01\n",
      "   -------------------------------------- - 12.1/12.6 MB 2.3 MB/s eta 0:00:01\n",
      "   ---------------------------------------- 12.6/12.6 MB 2.4 MB/s eta 0:00:00\n",
      "Downloading google_auth-2.36.0-py2.py3-none-any.whl (209 kB)\n",
      "Downloading google_auth_httplib2-0.2.0-py2.py3-none-any.whl (9.3 kB)\n",
      "Downloading httplib2-0.22.0-py3-none-any.whl (96 kB)\n",
      "Downloading ipywidgets-8.1.5-py3-none-any.whl (139 kB)\n",
      "Downloading jupyter_leaflet-0.19.2-py3-none-any.whl (1.1 MB)\n",
      "   ---------------------------------------- 0.0/1.1 MB ? eta -:--:--\n",
      "   ---------------------------------------- 1.1/1.1 MB 5.8 MB/s eta 0:00:00\n",
      "Downloading kiwisolver-1.4.7-cp311-cp311-win_amd64.whl (56 kB)\n",
      "Downloading pillow-11.0.0-cp311-cp311-win_amd64.whl (2.6 MB)\n",
      "   ---------------------------------------- 0.0/2.6 MB ? eta -:--:--\n",
      "   ---------------------------------------- 0.0/2.6 MB ? eta -:--:--\n",
      "   ---- ----------------------------------- 0.3/2.6 MB ? eta -:--:--\n",
      "   -------- ------------------------------- 0.5/2.6 MB 1.2 MB/s eta 0:00:02\n",
      "   ------------ --------------------------- 0.8/2.6 MB 1.2 MB/s eta 0:00:02\n",
      "   ---------------- ----------------------- 1.0/2.6 MB 1.3 MB/s eta 0:00:02\n",
      "   -------------------- ------------------- 1.3/2.6 MB 1.4 MB/s eta 0:00:01\n",
      "   -------------------------------- ------- 2.1/2.6 MB 1.6 MB/s eta 0:00:01\n",
      "   ---------------------------------------- 2.6/2.6 MB 1.7 MB/s eta 0:00:00\n",
      "Using cached pyparsing-3.2.0-py3-none-any.whl (106 kB)\n",
      "Downloading tenacity-9.0.0-py3-none-any.whl (28 kB)\n",
      "Downloading traittypes-0.2.1-py2.py3-none-any.whl (8.6 kB)\n",
      "Using cached tzdata-2024.2-py2.py3-none-any.whl (346 kB)\n",
      "Downloading xyzservices-2024.9.0-py3-none-any.whl (85 kB)\n",
      "Downloading click-8.1.7-py3-none-any.whl (97 kB)\n",
      "Downloading future-1.0.0-py3-none-any.whl (491 kB)\n",
      "Downloading google_cloud_storage-2.18.2-py2.py3-none-any.whl (130 kB)\n",
      "Downloading ratelim-0.1.6-py2.py3-none-any.whl (4.0 kB)\n",
      "Downloading cachetools-5.5.0-py3-none-any.whl (9.5 kB)\n",
      "Downloading google_api_core-2.23.0-py3-none-any.whl (156 kB)\n",
      "Downloading google_cloud_core-2.4.1-py2.py3-none-any.whl (29 kB)\n",
      "Downloading google_crc32c-1.6.0-cp311-cp311-win_amd64.whl (33 kB)\n",
      "Downloading google_resumable_media-2.7.2-py2.py3-none-any.whl (81 kB)\n",
      "Downloading jupyterlab_widgets-3.0.13-py3-none-any.whl (214 kB)\n",
      "Downloading pyasn1_modules-0.4.1-py3-none-any.whl (181 kB)\n",
      "Downloading rsa-4.9-py3-none-any.whl (34 kB)\n",
      "Downloading uritemplate-4.1.1-py2.py3-none-any.whl (10 kB)\n",
      "Downloading widgetsnbextension-4.0.13-py3-none-any.whl (2.3 MB)\n",
      "   ---------------------------------------- 0.0/2.3 MB ? eta -:--:--\n",
      "   ---- ----------------------------------- 0.3/2.3 MB ? eta -:--:--\n",
      "   ------------- -------------------------- 0.8/2.3 MB 1.8 MB/s eta 0:00:01\n",
      "   ----------------- ---------------------- 1.0/2.3 MB 1.7 MB/s eta 0:00:01\n",
      "   ---------------------- ----------------- 1.3/2.3 MB 1.6 MB/s eta 0:00:01\n",
      "   -------------------------- ------------- 1.6/2.3 MB 1.6 MB/s eta 0:00:01\n",
      "   ---------------------------------------- 2.3/2.3 MB 1.8 MB/s eta 0:00:00\n",
      "Downloading googleapis_common_protos-1.66.0-py2.py3-none-any.whl (221 kB)\n",
      "Downloading proto_plus-1.25.0-py3-none-any.whl (50 kB)\n",
      "Downloading protobuf-5.28.3-cp310-abi3-win_amd64.whl (431 kB)\n",
      "Downloading pyasn1-0.6.1-py3-none-any.whl (83 kB)\n",
      "Building wheels for collected packages: pyperclip\n",
      "  Building wheel for pyperclip (setup.py): started\n",
      "  Building wheel for pyperclip (setup.py): finished with status 'done'\n",
      "  Created wheel for pyperclip: filename=pyperclip-1.9.0-py3-none-any.whl size=11019 sha256=72fb86ecc95500d5beae2b0b95c8b3f5875015ca2a4fb776efdf8bd5a48f8311\n",
      "  Stored in directory: c:\\users\\mark\\appdata\\local\\pip\\cache\\wheels\\e8\\e7\\56\\591cb88ba1783b38c40d584026e766aac9c3a048e34128ce8b\n",
      "Successfully built pyperclip\n",
      "Installing collected packages: pyperclip, colour, xyzservices, widgetsnbextension, uritemplate, tzdata, traittypes, tenacity, scooby, ratelim, python-box, pyshp, pyparsing, pyasn1, protobuf, pillow, numpy, kiwisolver, jupyterlab-widgets, jupyter-leaflet, google-crc32c, future, fonttools, cycler, click, cachetools, rsa, pyasn1-modules, proto-plus, plotly, pandas, httplib2, googleapis-common-protos, google-resumable-media, geocoder, contourpy, branca, matplotlib, google-auth, folium, ipywidgets, google-auth-httplib2, google-api-core, ipytree, ipyleaflet, ipyfilechooser, ipyevents, google-cloud-core, google-api-python-client, bqplot, google-cloud-storage, earthengine-api, eerepr, geemap\n",
      "Successfully installed bqplot-0.12.43 branca-0.8.0 cachetools-5.5.0 click-8.1.7 colour-0.1.5 contourpy-1.3.1 cycler-0.12.1 earthengine-api-1.4.0 eerepr-0.0.4 folium-0.18.0 fonttools-4.55.0 future-1.0.0 geemap-0.35.1 geocoder-1.38.1 google-api-core-2.23.0 google-api-python-client-2.154.0 google-auth-2.36.0 google-auth-httplib2-0.2.0 google-cloud-core-2.4.1 google-cloud-storage-2.18.2 google-crc32c-1.6.0 google-resumable-media-2.7.2 googleapis-common-protos-1.66.0 httplib2-0.22.0 ipyevents-2.0.2 ipyfilechooser-0.6.0 ipyleaflet-0.19.2 ipytree-0.2.2 ipywidgets-8.1.5 jupyter-leaflet-0.19.2 jupyterlab-widgets-3.0.13 kiwisolver-1.4.7 matplotlib-3.9.2 numpy-2.1.3 pandas-2.2.3 pillow-11.0.0 plotly-5.24.1 proto-plus-1.25.0 protobuf-5.28.3 pyasn1-0.6.1 pyasn1-modules-0.4.1 pyparsing-3.2.0 pyperclip-1.9.0 pyshp-2.3.1 python-box-7.2.0 ratelim-0.1.6 rsa-4.9 scooby-0.10.0 tenacity-9.0.0 traittypes-0.2.1 tzdata-2024.2 uritemplate-4.1.1 widgetsnbextension-4.0.13 xyzservices-2024.9.0\n"
     ]
    }
   ],
   "source": [
    "!pip install geemap"
   ]
  },
  {
   "cell_type": "markdown",
   "id": "f0e07599",
   "metadata": {},
   "source": [
    "### Import Geemap"
   ]
  },
  {
   "cell_type": "code",
   "execution_count": 1,
   "id": "60e180f9",
   "metadata": {},
   "outputs": [],
   "source": [
    "import geemap"
   ]
  },
  {
   "cell_type": "code",
   "execution_count": 2,
   "id": "55831710",
   "metadata": {},
   "outputs": [
    {
     "data": {
      "text/html": [
       "\n",
       "            <style>\n",
       "                .geemap-dark {\n",
       "                    --jp-widgets-color: white;\n",
       "                    --jp-widgets-label-color: white;\n",
       "                    --jp-ui-font-color1: white;\n",
       "                    --jp-layout-color2: #454545;\n",
       "                    background-color: #383838;\n",
       "                }\n",
       "\n",
       "                .geemap-dark .jupyter-button {\n",
       "                    --jp-layout-color3: #383838;\n",
       "                }\n",
       "\n",
       "                .geemap-colab {\n",
       "                    background-color: var(--colab-primary-surface-color, white);\n",
       "                }\n",
       "\n",
       "                .geemap-colab .jupyter-button {\n",
       "                    --jp-layout-color3: var(--colab-primary-surface-color, white);\n",
       "                }\n",
       "            </style>\n",
       "            "
      ],
      "text/plain": [
       "<IPython.core.display.HTML object>"
      ]
     },
     "metadata": {},
     "output_type": "display_data"
    }
   ],
   "source": [
    "import ipyleaflet"
   ]
  },
  {
   "cell_type": "markdown",
   "id": "ad334f82",
   "metadata": {},
   "source": [
    "### Verification for Earth Engine to Notebooks"
   ]
  },
  {
   "cell_type": "code",
   "execution_count": 3,
   "id": "5ffc83b1",
   "metadata": {},
   "outputs": [
    {
     "data": {
      "text/html": [
       "\n",
       "            <style>\n",
       "                .geemap-dark {\n",
       "                    --jp-widgets-color: white;\n",
       "                    --jp-widgets-label-color: white;\n",
       "                    --jp-ui-font-color1: white;\n",
       "                    --jp-layout-color2: #454545;\n",
       "                    background-color: #383838;\n",
       "                }\n",
       "\n",
       "                .geemap-dark .jupyter-button {\n",
       "                    --jp-layout-color3: #383838;\n",
       "                }\n",
       "\n",
       "                .geemap-colab {\n",
       "                    background-color: var(--colab-primary-surface-color, white);\n",
       "                }\n",
       "\n",
       "                .geemap-colab .jupyter-button {\n",
       "                    --jp-layout-color3: var(--colab-primary-surface-color, white);\n",
       "                }\n",
       "            </style>\n",
       "            "
      ],
      "text/plain": [
       "<IPython.core.display.HTML object>"
      ]
     },
     "metadata": {},
     "output_type": "display_data"
    }
   ],
   "source": [
    "m = ipyleaflet.Map()"
   ]
  },
  {
   "cell_type": "code",
   "execution_count": 4,
   "id": "5b1e06ff",
   "metadata": {},
   "outputs": [
    {
     "data": {
      "text/html": [
       "\n",
       "            <style>\n",
       "                .geemap-dark {\n",
       "                    --jp-widgets-color: white;\n",
       "                    --jp-widgets-label-color: white;\n",
       "                    --jp-ui-font-color1: white;\n",
       "                    --jp-layout-color2: #454545;\n",
       "                    background-color: #383838;\n",
       "                }\n",
       "\n",
       "                .geemap-dark .jupyter-button {\n",
       "                    --jp-layout-color3: #383838;\n",
       "                }\n",
       "\n",
       "                .geemap-colab {\n",
       "                    background-color: var(--colab-primary-surface-color, white);\n",
       "                }\n",
       "\n",
       "                .geemap-colab .jupyter-button {\n",
       "                    --jp-layout-color3: var(--colab-primary-surface-color, white);\n",
       "                }\n",
       "            </style>\n",
       "            "
      ],
      "text/plain": [
       "<IPython.core.display.HTML object>"
      ]
     },
     "metadata": {},
     "output_type": "display_data"
    },
    {
     "data": {
      "application/vnd.jupyter.widget-view+json": {
       "model_id": "266225c7dbdd4f3d813e74ef4cf3a036",
       "version_major": 2,
       "version_minor": 0
      },
      "text/plain": [
       "Map(center=[0.0, 0.0], controls=(ZoomControl(options=['position', 'zoom_in_text', 'zoom_in_title', 'zoom_out_t…"
      ]
     },
     "execution_count": 4,
     "metadata": {},
     "output_type": "execute_result"
    }
   ],
   "source": [
    "m"
   ]
  },
  {
   "cell_type": "code",
   "execution_count": 5,
   "id": "7e70c6c0",
   "metadata": {},
   "outputs": [
    {
     "data": {
      "text/html": [
       "\n",
       "            <style>\n",
       "                .geemap-dark {\n",
       "                    --jp-widgets-color: white;\n",
       "                    --jp-widgets-label-color: white;\n",
       "                    --jp-ui-font-color1: white;\n",
       "                    --jp-layout-color2: #454545;\n",
       "                    background-color: #383838;\n",
       "                }\n",
       "\n",
       "                .geemap-dark .jupyter-button {\n",
       "                    --jp-layout-color3: #383838;\n",
       "                }\n",
       "\n",
       "                .geemap-colab {\n",
       "                    background-color: var(--colab-primary-surface-color, white);\n",
       "                }\n",
       "\n",
       "                .geemap-colab .jupyter-button {\n",
       "                    --jp-layout-color3: var(--colab-primary-surface-color, white);\n",
       "                }\n",
       "            </style>\n",
       "            "
      ],
      "text/plain": [
       "<IPython.core.display.HTML object>"
      ]
     },
     "metadata": {},
     "output_type": "display_data"
    },
    {
     "name": "stderr",
     "output_type": "stream",
     "text": [
      "*** Earth Engine *** Share your feedback by taking our Annual Developer Satisfaction Survey: https://google.qualtrics.com/jfe/form/SV_0JLhFqfSY1uiEaW?source=Init\n"
     ]
    },
    {
     "data": {
      "application/vnd.jupyter.widget-view+json": {
       "model_id": "4013b33d829d4cfeb762ad51bbea838b",
       "version_major": 2,
       "version_minor": 0
      },
      "text/plain": [
       "Map(center=[0, 0], controls=(WidgetControl(options=['position', 'transparent_bg'], widget=SearchDataGUI(childr…"
      ]
     },
     "execution_count": 5,
     "metadata": {},
     "output_type": "execute_result"
    }
   ],
   "source": [
    "my_map = geemap.Map()\n",
    "my_map"
   ]
  },
  {
   "cell_type": "markdown",
   "id": "d6a01a2f",
   "metadata": {},
   "source": [
    "### Import Earth Engine"
   ]
  },
  {
   "cell_type": "code",
   "execution_count": 6,
   "id": "d0d917f8",
   "metadata": {},
   "outputs": [
    {
     "data": {
      "text/html": [
       "\n",
       "            <style>\n",
       "                .geemap-dark {\n",
       "                    --jp-widgets-color: white;\n",
       "                    --jp-widgets-label-color: white;\n",
       "                    --jp-ui-font-color1: white;\n",
       "                    --jp-layout-color2: #454545;\n",
       "                    background-color: #383838;\n",
       "                }\n",
       "\n",
       "                .geemap-dark .jupyter-button {\n",
       "                    --jp-layout-color3: #383838;\n",
       "                }\n",
       "\n",
       "                .geemap-colab {\n",
       "                    background-color: var(--colab-primary-surface-color, white);\n",
       "                }\n",
       "\n",
       "                .geemap-colab .jupyter-button {\n",
       "                    --jp-layout-color3: var(--colab-primary-surface-color, white);\n",
       "                }\n",
       "            </style>\n",
       "            "
      ],
      "text/plain": [
       "<IPython.core.display.HTML object>"
      ]
     },
     "metadata": {},
     "output_type": "display_data"
    }
   ],
   "source": [
    "import ee"
   ]
  },
  {
   "cell_type": "markdown",
   "id": "f37ea6b8",
   "metadata": {},
   "source": [
    "### Import Area of interest"
   ]
  },
  {
   "cell_type": "code",
   "execution_count": 7,
   "id": "ad2c6b25",
   "metadata": {},
   "outputs": [
    {
     "data": {
      "text/html": [
       "\n",
       "            <style>\n",
       "                .geemap-dark {\n",
       "                    --jp-widgets-color: white;\n",
       "                    --jp-widgets-label-color: white;\n",
       "                    --jp-ui-font-color1: white;\n",
       "                    --jp-layout-color2: #454545;\n",
       "                    background-color: #383838;\n",
       "                }\n",
       "\n",
       "                .geemap-dark .jupyter-button {\n",
       "                    --jp-layout-color3: #383838;\n",
       "                }\n",
       "\n",
       "                .geemap-colab {\n",
       "                    background-color: var(--colab-primary-surface-color, white);\n",
       "                }\n",
       "\n",
       "                .geemap-colab .jupyter-button {\n",
       "                    --jp-layout-color3: var(--colab-primary-surface-color, white);\n",
       "                }\n",
       "            </style>\n",
       "            "
      ],
      "text/plain": [
       "<IPython.core.display.HTML object>"
      ]
     },
     "metadata": {},
     "output_type": "display_data"
    }
   ],
   "source": [
    "NMA = ee.FeatureCollection('projects/ee-maichmarc/assets/NMA')"
   ]
  },
  {
   "cell_type": "markdown",
   "id": "a9f95a14",
   "metadata": {},
   "source": [
    "### Import Training Data"
   ]
  },
  {
   "cell_type": "code",
   "execution_count": 8,
   "id": "db6d4cb4",
   "metadata": {},
   "outputs": [
    {
     "data": {
      "text/html": [
       "\n",
       "            <style>\n",
       "                .geemap-dark {\n",
       "                    --jp-widgets-color: white;\n",
       "                    --jp-widgets-label-color: white;\n",
       "                    --jp-ui-font-color1: white;\n",
       "                    --jp-layout-color2: #454545;\n",
       "                    background-color: #383838;\n",
       "                }\n",
       "\n",
       "                .geemap-dark .jupyter-button {\n",
       "                    --jp-layout-color3: #383838;\n",
       "                }\n",
       "\n",
       "                .geemap-colab {\n",
       "                    background-color: var(--colab-primary-surface-color, white);\n",
       "                }\n",
       "\n",
       "                .geemap-colab .jupyter-button {\n",
       "                    --jp-layout-color3: var(--colab-primary-surface-color, white);\n",
       "                }\n",
       "            </style>\n",
       "            "
      ],
      "text/plain": [
       "<IPython.core.display.HTML object>"
      ]
     },
     "metadata": {},
     "output_type": "display_data"
    }
   ],
   "source": [
    "Urban = ee.FeatureCollection('projects/ee-maichmarc/assets/Urban')\n",
    "Forest = ee.FeatureCollection('projects/ee-maichmarc/assets/Forest')\n",
    "Agriculture = ee.FeatureCollection('projects/ee-maichmarc/assets/Agriculture')\n",
    "Water = ee.FeatureCollection('projects/ee-maichmarc/assets/Water')\n",
    "Rangeland = ee.FeatureCollection('projects/ee-maichmarc/assets/Rangeland')"
   ]
  },
  {
   "cell_type": "markdown",
   "id": "660cdd32",
   "metadata": {},
   "source": [
    "### Import landsat 8 data for 2018"
   ]
  },
  {
   "cell_type": "code",
   "execution_count": 9,
   "id": "bed96887",
   "metadata": {},
   "outputs": [
    {
     "data": {
      "text/html": [
       "\n",
       "            <style>\n",
       "                .geemap-dark {\n",
       "                    --jp-widgets-color: white;\n",
       "                    --jp-widgets-label-color: white;\n",
       "                    --jp-ui-font-color1: white;\n",
       "                    --jp-layout-color2: #454545;\n",
       "                    background-color: #383838;\n",
       "                }\n",
       "\n",
       "                .geemap-dark .jupyter-button {\n",
       "                    --jp-layout-color3: #383838;\n",
       "                }\n",
       "\n",
       "                .geemap-colab {\n",
       "                    background-color: var(--colab-primary-surface-color, white);\n",
       "                }\n",
       "\n",
       "                .geemap-colab .jupyter-button {\n",
       "                    --jp-layout-color3: var(--colab-primary-surface-color, white);\n",
       "                }\n",
       "            </style>\n",
       "            "
      ],
      "text/plain": [
       "<IPython.core.display.HTML object>"
      ]
     },
     "metadata": {},
     "output_type": "display_data"
    }
   ],
   "source": [
    "l8_2018_dataset = ee.ImageCollection(\"LANDSAT/LC08/C02/T1_L2\")\\\n",
    "    .filterDate('2018-01-01', '2018-12-31')\\\n",
    "    .filterBounds(NMA)\\\n",
    "    .sort('CLOUD_COVER')\\\n",
    "    .first()"
   ]
  },
  {
   "cell_type": "markdown",
   "id": "8f2fb23e",
   "metadata": {},
   "source": [
    "### Create visaualisation parameters"
   ]
  },
  {
   "cell_type": "code",
   "execution_count": 10,
   "id": "6e1bd689",
   "metadata": {},
   "outputs": [
    {
     "data": {
      "text/html": [
       "\n",
       "            <style>\n",
       "                .geemap-dark {\n",
       "                    --jp-widgets-color: white;\n",
       "                    --jp-widgets-label-color: white;\n",
       "                    --jp-ui-font-color1: white;\n",
       "                    --jp-layout-color2: #454545;\n",
       "                    background-color: #383838;\n",
       "                }\n",
       "\n",
       "                .geemap-dark .jupyter-button {\n",
       "                    --jp-layout-color3: #383838;\n",
       "                }\n",
       "\n",
       "                .geemap-colab {\n",
       "                    background-color: var(--colab-primary-surface-color, white);\n",
       "                }\n",
       "\n",
       "                .geemap-colab .jupyter-button {\n",
       "                    --jp-layout-color3: var(--colab-primary-surface-color, white);\n",
       "                }\n",
       "            </style>\n",
       "            "
      ],
      "text/plain": [
       "<IPython.core.display.HTML object>"
      ]
     },
     "metadata": {},
     "output_type": "display_data"
    }
   ],
   "source": [
    "vis_params = {\n",
    "  'min': 0,\n",
    "  'bands': ['SR_B4', 'SR_B3', 'SR_B2']\n",
    "}"
   ]
  },
  {
   "cell_type": "markdown",
   "id": "12db9b69",
   "metadata": {},
   "source": [
    "### Add imported dataset to our Geemap map"
   ]
  },
  {
   "cell_type": "code",
   "execution_count": 11,
   "id": "1c30a13e",
   "metadata": {},
   "outputs": [
    {
     "data": {
      "text/html": [
       "\n",
       "            <style>\n",
       "                .geemap-dark {\n",
       "                    --jp-widgets-color: white;\n",
       "                    --jp-widgets-label-color: white;\n",
       "                    --jp-ui-font-color1: white;\n",
       "                    --jp-layout-color2: #454545;\n",
       "                    background-color: #383838;\n",
       "                }\n",
       "\n",
       "                .geemap-dark .jupyter-button {\n",
       "                    --jp-layout-color3: #383838;\n",
       "                }\n",
       "\n",
       "                .geemap-colab {\n",
       "                    background-color: var(--colab-primary-surface-color, white);\n",
       "                }\n",
       "\n",
       "                .geemap-colab .jupyter-button {\n",
       "                    --jp-layout-color3: var(--colab-primary-surface-color, white);\n",
       "                }\n",
       "            </style>\n",
       "            "
      ],
      "text/plain": [
       "<IPython.core.display.HTML object>"
      ]
     },
     "metadata": {},
     "output_type": "display_data"
    }
   ],
   "source": [
    "my_map.addLayer(l8_2018_dataset, vis_params,'L8_2018')"
   ]
  },
  {
   "cell_type": "code",
   "execution_count": 12,
   "id": "137ea2a7",
   "metadata": {},
   "outputs": [
    {
     "data": {
      "text/html": [
       "\n",
       "            <style>\n",
       "                .geemap-dark {\n",
       "                    --jp-widgets-color: white;\n",
       "                    --jp-widgets-label-color: white;\n",
       "                    --jp-ui-font-color1: white;\n",
       "                    --jp-layout-color2: #454545;\n",
       "                    background-color: #383838;\n",
       "                }\n",
       "\n",
       "                .geemap-dark .jupyter-button {\n",
       "                    --jp-layout-color3: #383838;\n",
       "                }\n",
       "\n",
       "                .geemap-colab {\n",
       "                    background-color: var(--colab-primary-surface-color, white);\n",
       "                }\n",
       "\n",
       "                .geemap-colab .jupyter-button {\n",
       "                    --jp-layout-color3: var(--colab-primary-surface-color, white);\n",
       "                }\n",
       "            </style>\n",
       "            "
      ],
      "text/plain": [
       "<IPython.core.display.HTML object>"
      ]
     },
     "metadata": {},
     "output_type": "display_data"
    },
    {
     "data": {
      "application/vnd.jupyter.widget-view+json": {
       "model_id": "4013b33d829d4cfeb762ad51bbea838b",
       "version_major": 2,
       "version_minor": 0
      },
      "text/plain": [
       "Map(bottom=812.0, center=[0, 0], controls=(WidgetControl(options=['position', 'transparent_bg'], widget=Search…"
      ]
     },
     "execution_count": 12,
     "metadata": {},
     "output_type": "execute_result"
    }
   ],
   "source": [
    "my_map.centerObject(NMA)\n",
    "my_map"
   ]
  },
  {
   "cell_type": "code",
   "execution_count": 13,
   "id": "78068b6c",
   "metadata": {},
   "outputs": [
    {
     "data": {
      "text/html": [
       "\n",
       "            <style>\n",
       "                .geemap-dark {\n",
       "                    --jp-widgets-color: white;\n",
       "                    --jp-widgets-label-color: white;\n",
       "                    --jp-ui-font-color1: white;\n",
       "                    --jp-layout-color2: #454545;\n",
       "                    background-color: #383838;\n",
       "                }\n",
       "\n",
       "                .geemap-dark .jupyter-button {\n",
       "                    --jp-layout-color3: #383838;\n",
       "                }\n",
       "\n",
       "                .geemap-colab {\n",
       "                    background-color: var(--colab-primary-surface-color, white);\n",
       "                }\n",
       "\n",
       "                .geemap-colab .jupyter-button {\n",
       "                    --jp-layout-color3: var(--colab-primary-surface-color, white);\n",
       "                }\n",
       "            </style>\n",
       "            "
      ],
      "text/plain": [
       "<IPython.core.display.HTML object>"
      ]
     },
     "metadata": {},
     "output_type": "display_data"
    }
   ],
   "source": [
    "map_2018 = geemap.Map()"
   ]
  },
  {
   "cell_type": "code",
   "execution_count": 14,
   "id": "6ff2e35b",
   "metadata": {},
   "outputs": [
    {
     "data": {
      "text/html": [
       "\n",
       "            <style>\n",
       "                .geemap-dark {\n",
       "                    --jp-widgets-color: white;\n",
       "                    --jp-widgets-label-color: white;\n",
       "                    --jp-ui-font-color1: white;\n",
       "                    --jp-layout-color2: #454545;\n",
       "                    background-color: #383838;\n",
       "                }\n",
       "\n",
       "                .geemap-dark .jupyter-button {\n",
       "                    --jp-layout-color3: #383838;\n",
       "                }\n",
       "\n",
       "                .geemap-colab {\n",
       "                    background-color: var(--colab-primary-surface-color, white);\n",
       "                }\n",
       "\n",
       "                .geemap-colab .jupyter-button {\n",
       "                    --jp-layout-color3: var(--colab-primary-surface-color, white);\n",
       "                }\n",
       "            </style>\n",
       "            "
      ],
      "text/plain": [
       "<IPython.core.display.HTML object>"
      ]
     },
     "metadata": {},
     "output_type": "display_data"
    }
   ],
   "source": [
    "l8_2018_NMA = l8_2018_dataset.clip(NMA)"
   ]
  },
  {
   "cell_type": "code",
   "execution_count": 15,
   "id": "5a26d1be",
   "metadata": {},
   "outputs": [
    {
     "data": {
      "text/html": [
       "\n",
       "            <style>\n",
       "                .geemap-dark {\n",
       "                    --jp-widgets-color: white;\n",
       "                    --jp-widgets-label-color: white;\n",
       "                    --jp-ui-font-color1: white;\n",
       "                    --jp-layout-color2: #454545;\n",
       "                    background-color: #383838;\n",
       "                }\n",
       "\n",
       "                .geemap-dark .jupyter-button {\n",
       "                    --jp-layout-color3: #383838;\n",
       "                }\n",
       "\n",
       "                .geemap-colab {\n",
       "                    background-color: var(--colab-primary-surface-color, white);\n",
       "                }\n",
       "\n",
       "                .geemap-colab .jupyter-button {\n",
       "                    --jp-layout-color3: var(--colab-primary-surface-color, white);\n",
       "                }\n",
       "            </style>\n",
       "            "
      ],
      "text/plain": [
       "<IPython.core.display.HTML object>"
      ]
     },
     "metadata": {},
     "output_type": "display_data"
    },
    {
     "data": {
      "application/vnd.jupyter.widget-view+json": {
       "model_id": "ab52642cd1cf4e4781037efc3c407fe2",
       "version_major": 2,
       "version_minor": 0
      },
      "text/plain": [
       "Map(center=[0, 0], controls=(WidgetControl(options=['position', 'transparent_bg'], widget=SearchDataGUI(childr…"
      ]
     },
     "execution_count": 15,
     "metadata": {},
     "output_type": "execute_result"
    }
   ],
   "source": [
    "map_2018.addLayer(l8_2018_NMA, vis_params,'L8_NMA')\n",
    "map_2018.centerObject(NMA)\n",
    "map_2018"
   ]
  },
  {
   "cell_type": "markdown",
   "id": "975b8670",
   "metadata": {},
   "source": [
    "### Training parameters"
   ]
  },
  {
   "cell_type": "code",
   "execution_count": 16,
   "id": "0b879588",
   "metadata": {},
   "outputs": [
    {
     "data": {
      "text/html": [
       "\n",
       "            <style>\n",
       "                .geemap-dark {\n",
       "                    --jp-widgets-color: white;\n",
       "                    --jp-widgets-label-color: white;\n",
       "                    --jp-ui-font-color1: white;\n",
       "                    --jp-layout-color2: #454545;\n",
       "                    background-color: #383838;\n",
       "                }\n",
       "\n",
       "                .geemap-dark .jupyter-button {\n",
       "                    --jp-layout-color3: #383838;\n",
       "                }\n",
       "\n",
       "                .geemap-colab {\n",
       "                    background-color: var(--colab-primary-surface-color, white);\n",
       "                }\n",
       "\n",
       "                .geemap-colab .jupyter-button {\n",
       "                    --jp-layout-color3: var(--colab-primary-surface-color, white);\n",
       "                }\n",
       "            </style>\n",
       "            "
      ],
      "text/plain": [
       "<IPython.core.display.HTML object>"
      ]
     },
     "metadata": {},
     "output_type": "display_data"
    }
   ],
   "source": [
    "label = 'Class'\n",
    "bands = ['SR_B1','SR_B2','SR_B3','SR_B4','SR_B5','SR_B7'];\n",
    "inputImage = l8_2018_NMA.select(bands);"
   ]
  },
  {
   "cell_type": "code",
   "execution_count": 17,
   "id": "4054ba9b",
   "metadata": {},
   "outputs": [
    {
     "data": {
      "text/html": [
       "\n",
       "            <style>\n",
       "                .geemap-dark {\n",
       "                    --jp-widgets-color: white;\n",
       "                    --jp-widgets-label-color: white;\n",
       "                    --jp-ui-font-color1: white;\n",
       "                    --jp-layout-color2: #454545;\n",
       "                    background-color: #383838;\n",
       "                }\n",
       "\n",
       "                .geemap-dark .jupyter-button {\n",
       "                    --jp-layout-color3: #383838;\n",
       "                }\n",
       "\n",
       "                .geemap-colab {\n",
       "                    background-color: var(--colab-primary-surface-color, white);\n",
       "                }\n",
       "\n",
       "                .geemap-colab .jupyter-button {\n",
       "                    --jp-layout-color3: var(--colab-primary-surface-color, white);\n",
       "                }\n",
       "            </style>\n",
       "            "
      ],
      "text/plain": [
       "<IPython.core.display.HTML object>"
      ]
     },
     "metadata": {},
     "output_type": "display_data"
    }
   ],
   "source": [
    "training = Urban.merge(Forest).merge(Agriculture).merge(Water).merge(Rangeland)"
   ]
  },
  {
   "cell_type": "code",
   "execution_count": 18,
   "id": "9354a75f",
   "metadata": {},
   "outputs": [
    {
     "data": {
      "text/html": [
       "\n",
       "            <style>\n",
       "                .geemap-dark {\n",
       "                    --jp-widgets-color: white;\n",
       "                    --jp-widgets-label-color: white;\n",
       "                    --jp-ui-font-color1: white;\n",
       "                    --jp-layout-color2: #454545;\n",
       "                    background-color: #383838;\n",
       "                }\n",
       "\n",
       "                .geemap-dark .jupyter-button {\n",
       "                    --jp-layout-color3: #383838;\n",
       "                }\n",
       "\n",
       "                .geemap-colab {\n",
       "                    background-color: var(--colab-primary-surface-color, white);\n",
       "                }\n",
       "\n",
       "                .geemap-colab .jupyter-button {\n",
       "                    --jp-layout-color3: var(--colab-primary-surface-color, white);\n",
       "                }\n",
       "            </style>\n",
       "            "
      ],
      "text/plain": [
       "<IPython.core.display.HTML object>"
      ]
     },
     "metadata": {},
     "output_type": "display_data"
    }
   ],
   "source": [
    "trainImage = inputImage.sampleRegions(\n",
    "    **{'collection': training, 'properties': [label], 'scale': 30}\n",
    ")"
   ]
  },
  {
   "cell_type": "markdown",
   "id": "16c19055",
   "metadata": {},
   "source": [
    "### Split training data into training and validation sets"
   ]
  },
  {
   "cell_type": "code",
   "execution_count": 19,
   "id": "0bfe3179",
   "metadata": {},
   "outputs": [
    {
     "data": {
      "text/html": [
       "\n",
       "            <style>\n",
       "                .geemap-dark {\n",
       "                    --jp-widgets-color: white;\n",
       "                    --jp-widgets-label-color: white;\n",
       "                    --jp-ui-font-color1: white;\n",
       "                    --jp-layout-color2: #454545;\n",
       "                    background-color: #383838;\n",
       "                }\n",
       "\n",
       "                .geemap-dark .jupyter-button {\n",
       "                    --jp-layout-color3: #383838;\n",
       "                }\n",
       "\n",
       "                .geemap-colab {\n",
       "                    background-color: var(--colab-primary-surface-color, white);\n",
       "                }\n",
       "\n",
       "                .geemap-colab .jupyter-button {\n",
       "                    --jp-layout-color3: var(--colab-primary-surface-color, white);\n",
       "                }\n",
       "            </style>\n",
       "            "
      ],
      "text/plain": [
       "<IPython.core.display.HTML object>"
      ]
     },
     "metadata": {},
     "output_type": "display_data"
    }
   ],
   "source": [
    "trainingData = trainImage.randomColumn()\n",
    "split = 0.8\n",
    "trainSet = trainingData.filter(ee.Filter.lessThan('random', split))\n",
    "validationSet = trainingData.filter(ee.Filter.greaterThanOrEquals('random', split))"
   ]
  },
  {
   "cell_type": "markdown",
   "id": "c301fcdb",
   "metadata": {},
   "source": [
    "### Train the smileCART classifier"
   ]
  },
  {
   "cell_type": "code",
   "execution_count": 20,
   "id": "859823f1",
   "metadata": {},
   "outputs": [
    {
     "data": {
      "text/html": [
       "\n",
       "            <style>\n",
       "                .geemap-dark {\n",
       "                    --jp-widgets-color: white;\n",
       "                    --jp-widgets-label-color: white;\n",
       "                    --jp-ui-font-color1: white;\n",
       "                    --jp-layout-color2: #454545;\n",
       "                    background-color: #383838;\n",
       "                }\n",
       "\n",
       "                .geemap-dark .jupyter-button {\n",
       "                    --jp-layout-color3: #383838;\n",
       "                }\n",
       "\n",
       "                .geemap-colab {\n",
       "                    background-color: var(--colab-primary-surface-color, white);\n",
       "                }\n",
       "\n",
       "                .geemap-colab .jupyter-button {\n",
       "                    --jp-layout-color3: var(--colab-primary-surface-color, white);\n",
       "                }\n",
       "            </style>\n",
       "            "
      ],
      "text/plain": [
       "<IPython.core.display.HTML object>"
      ]
     },
     "metadata": {},
     "output_type": "display_data"
    }
   ],
   "source": [
    "classifier = ee.Classifier.smileCart().train(trainSet, label, bands)\n"
   ]
  },
  {
   "cell_type": "markdown",
   "id": "2b4f5fda",
   "metadata": {},
   "source": [
    "### Classify the image"
   ]
  },
  {
   "cell_type": "code",
   "execution_count": 21,
   "id": "020f20fe",
   "metadata": {},
   "outputs": [
    {
     "data": {
      "text/html": [
       "\n",
       "            <style>\n",
       "                .geemap-dark {\n",
       "                    --jp-widgets-color: white;\n",
       "                    --jp-widgets-label-color: white;\n",
       "                    --jp-ui-font-color1: white;\n",
       "                    --jp-layout-color2: #454545;\n",
       "                    background-color: #383838;\n",
       "                }\n",
       "\n",
       "                .geemap-dark .jupyter-button {\n",
       "                    --jp-layout-color3: #383838;\n",
       "                }\n",
       "\n",
       "                .geemap-colab {\n",
       "                    background-color: var(--colab-primary-surface-color, white);\n",
       "                }\n",
       "\n",
       "                .geemap-colab .jupyter-button {\n",
       "                    --jp-layout-color3: var(--colab-primary-surface-color, white);\n",
       "                }\n",
       "            </style>\n",
       "            "
      ],
      "text/plain": [
       "<IPython.core.display.HTML object>"
      ]
     },
     "metadata": {},
     "output_type": "display_data"
    }
   ],
   "source": [
    "classified = inputImage.classify(classifier)"
   ]
  },
  {
   "cell_type": "markdown",
   "id": "048df8a4",
   "metadata": {},
   "source": [
    "### Create a visualisation pallete for the classified image"
   ]
  },
  {
   "cell_type": "code",
   "execution_count": 22,
   "id": "486e5257",
   "metadata": {},
   "outputs": [
    {
     "data": {
      "text/html": [
       "\n",
       "            <style>\n",
       "                .geemap-dark {\n",
       "                    --jp-widgets-color: white;\n",
       "                    --jp-widgets-label-color: white;\n",
       "                    --jp-ui-font-color1: white;\n",
       "                    --jp-layout-color2: #454545;\n",
       "                    background-color: #383838;\n",
       "                }\n",
       "\n",
       "                .geemap-dark .jupyter-button {\n",
       "                    --jp-layout-color3: #383838;\n",
       "                }\n",
       "\n",
       "                .geemap-colab {\n",
       "                    background-color: var(--colab-primary-surface-color, white);\n",
       "                }\n",
       "\n",
       "                .geemap-colab .jupyter-button {\n",
       "                    --jp-layout-color3: var(--colab-primary-surface-color, white);\n",
       "                }\n",
       "            </style>\n",
       "            "
      ],
      "text/plain": [
       "<IPython.core.display.HTML object>"
      ]
     },
     "metadata": {},
     "output_type": "display_data"
    }
   ],
   "source": [
    "LULC_palette = [\n",
    "  'd63000', # Urban (1)\n",
    "  '05450a', # Forest (2)\n",
    "  'f096ff', # Agriculture (3)\n",
    "  '0064c8', # Water (4)\n",
    "  'ffff4c', # Rangeland (4)\n",
    "  ]"
   ]
  },
  {
   "cell_type": "markdown",
   "id": "0a75e534",
   "metadata": {},
   "source": [
    "### Add classified image to map"
   ]
  },
  {
   "cell_type": "code",
   "execution_count": 23,
   "id": "2a9459bb",
   "metadata": {},
   "outputs": [
    {
     "data": {
      "text/html": [
       "\n",
       "            <style>\n",
       "                .geemap-dark {\n",
       "                    --jp-widgets-color: white;\n",
       "                    --jp-widgets-label-color: white;\n",
       "                    --jp-ui-font-color1: white;\n",
       "                    --jp-layout-color2: #454545;\n",
       "                    background-color: #383838;\n",
       "                }\n",
       "\n",
       "                .geemap-dark .jupyter-button {\n",
       "                    --jp-layout-color3: #383838;\n",
       "                }\n",
       "\n",
       "                .geemap-colab {\n",
       "                    background-color: var(--colab-primary-surface-color, white);\n",
       "                }\n",
       "\n",
       "                .geemap-colab .jupyter-button {\n",
       "                    --jp-layout-color3: var(--colab-primary-surface-color, white);\n",
       "                }\n",
       "            </style>\n",
       "            "
      ],
      "text/plain": [
       "<IPython.core.display.HTML object>"
      ]
     },
     "metadata": {},
     "output_type": "display_data"
    },
    {
     "data": {
      "application/vnd.jupyter.widget-view+json": {
       "model_id": "ab52642cd1cf4e4781037efc3c407fe2",
       "version_major": 2,
       "version_minor": 0
      },
      "text/plain": [
       "Map(bottom=132309.0, center=[-1.3026461017265567, 36.95923680466546], controls=(WidgetControl(options=['positi…"
      ]
     },
     "execution_count": 23,
     "metadata": {},
     "output_type": "execute_result"
    }
   ],
   "source": [
    "map_2018.centerObject(NMA)\n",
    "map_2018.addLayer(classified, {'palette': LULC_palette, 'min': 1, 'max': 5},'LULC_2023')\n",
    "map_2018"
   ]
  },
  {
   "cell_type": "markdown",
   "id": "866ee004",
   "metadata": {},
   "source": [
    "### Model validation"
   ]
  },
  {
   "cell_type": "code",
   "execution_count": 26,
   "id": "92523a60",
   "metadata": {},
   "outputs": [
    {
     "data": {
      "text/html": [
       "\n",
       "            <style>\n",
       "                .geemap-dark {\n",
       "                    --jp-widgets-color: white;\n",
       "                    --jp-widgets-label-color: white;\n",
       "                    --jp-ui-font-color1: white;\n",
       "                    --jp-layout-color2: #454545;\n",
       "                    background-color: #383838;\n",
       "                }\n",
       "\n",
       "                .geemap-dark .jupyter-button {\n",
       "                    --jp-layout-color3: #383838;\n",
       "                }\n",
       "\n",
       "                .geemap-colab {\n",
       "                    background-color: var(--colab-primary-surface-color, white);\n",
       "                }\n",
       "\n",
       "                .geemap-colab .jupyter-button {\n",
       "                    --jp-layout-color3: var(--colab-primary-surface-color, white);\n",
       "                }\n",
       "            </style>\n",
       "            "
      ],
      "text/plain": [
       "<IPython.core.display.HTML object>"
      ]
     },
     "metadata": {},
     "output_type": "display_data"
    }
   ],
   "source": [
    "validated = validationSet.classify(classifier)"
   ]
  },
  {
   "cell_type": "code",
   "execution_count": 27,
   "id": "42c85442",
   "metadata": {},
   "outputs": [
    {
     "data": {
      "text/html": [
       "\n",
       "            <style>\n",
       "                .geemap-dark {\n",
       "                    --jp-widgets-color: white;\n",
       "                    --jp-widgets-label-color: white;\n",
       "                    --jp-ui-font-color1: white;\n",
       "                    --jp-layout-color2: #454545;\n",
       "                    background-color: #383838;\n",
       "                }\n",
       "\n",
       "                .geemap-dark .jupyter-button {\n",
       "                    --jp-layout-color3: #383838;\n",
       "                }\n",
       "\n",
       "                .geemap-colab {\n",
       "                    background-color: var(--colab-primary-surface-color, white);\n",
       "                }\n",
       "\n",
       "                .geemap-colab .jupyter-button {\n",
       "                    --jp-layout-color3: var(--colab-primary-surface-color, white);\n",
       "                }\n",
       "            </style>\n",
       "            "
      ],
      "text/plain": [
       "<IPython.core.display.HTML object>"
      ]
     },
     "metadata": {},
     "output_type": "display_data"
    },
    {
     "data": {
      "text/plain": [
       "{'type': 'Feature',\n",
       " 'geometry': None,\n",
       " 'id': '1_1_1_1_0000000000000000000c_0',\n",
       " 'properties': {'Class': 1,\n",
       "  'SR_B1': 9154,\n",
       "  'SR_B2': 9694,\n",
       "  'SR_B3': 10873,\n",
       "  'SR_B4': 11667,\n",
       "  'SR_B5': 14094,\n",
       "  'SR_B7': 15045,\n",
       "  'classification': 1,\n",
       "  'random': 0.9478296975690637}}"
      ]
     },
     "execution_count": 27,
     "metadata": {},
     "output_type": "execute_result"
    }
   ],
   "source": [
    "validated.first().getInfo()"
   ]
  },
  {
   "cell_type": "code",
   "execution_count": 26,
   "id": "947626f5",
   "metadata": {},
   "outputs": [
    {
     "data": {
      "text/html": [
       "\n",
       "            <style>\n",
       "                .geemap-dark {\n",
       "                    --jp-widgets-color: white;\n",
       "                    --jp-widgets-label-color: white;\n",
       "                    --jp-ui-font-color1: white;\n",
       "                    --jp-layout-color2: #454545;\n",
       "                    background-color: #383838;\n",
       "                }\n",
       "\n",
       "                .geemap-dark .jupyter-button {\n",
       "                    --jp-layout-color3: #383838;\n",
       "                }\n",
       "\n",
       "                .geemap-colab {\n",
       "                    background-color: var(--colab-primary-surface-color, white);\n",
       "                }\n",
       "\n",
       "                .geemap-colab .jupyter-button {\n",
       "                    --jp-layout-color3: var(--colab-primary-surface-color, white);\n",
       "                }\n",
       "            </style>\n",
       "            "
      ],
      "text/plain": [
       "<IPython.core.display.HTML object>"
      ]
     },
     "metadata": {},
     "output_type": "display_data"
    }
   ],
   "source": [
    "test_accuracy = validated.errorMatrix('Class','classification')"
   ]
  },
  {
   "cell_type": "code",
   "execution_count": 27,
   "id": "82bf3c14",
   "metadata": {},
   "outputs": [
    {
     "data": {
      "text/html": [
       "\n",
       "            <style>\n",
       "                .geemap-dark {\n",
       "                    --jp-widgets-color: white;\n",
       "                    --jp-widgets-label-color: white;\n",
       "                    --jp-ui-font-color1: white;\n",
       "                    --jp-layout-color2: #454545;\n",
       "                    background-color: #383838;\n",
       "                }\n",
       "\n",
       "                .geemap-dark .jupyter-button {\n",
       "                    --jp-layout-color3: #383838;\n",
       "                }\n",
       "\n",
       "                .geemap-colab {\n",
       "                    background-color: var(--colab-primary-surface-color, white);\n",
       "                }\n",
       "\n",
       "                .geemap-colab .jupyter-button {\n",
       "                    --jp-layout-color3: var(--colab-primary-surface-color, white);\n",
       "                }\n",
       "            </style>\n",
       "            "
      ],
      "text/plain": [
       "<IPython.core.display.HTML object>"
      ]
     },
     "metadata": {},
     "output_type": "display_data"
    },
    {
     "data": {
      "text/plain": [
       "[[0, 0, 0, 0, 0, 0],\n",
       " [0, 20, 0, 1, 0, 7],\n",
       " [0, 0, 21, 0, 0, 0],\n",
       " [0, 1, 0, 16, 0, 0],\n",
       " [0, 0, 1, 0, 19, 0],\n",
       " [0, 1, 0, 0, 0, 26]]"
      ]
     },
     "execution_count": 27,
     "metadata": {},
     "output_type": "execute_result"
    }
   ],
   "source": [
    "test_accuracy.getInfo()"
   ]
  },
  {
   "cell_type": "code",
   "execution_count": 28,
   "id": "e5c3d178",
   "metadata": {},
   "outputs": [
    {
     "data": {
      "text/html": [
       "\n",
       "            <style>\n",
       "                .geemap-dark {\n",
       "                    --jp-widgets-color: white;\n",
       "                    --jp-widgets-label-color: white;\n",
       "                    --jp-ui-font-color1: white;\n",
       "                    --jp-layout-color2: #454545;\n",
       "                    background-color: #383838;\n",
       "                }\n",
       "\n",
       "                .geemap-dark .jupyter-button {\n",
       "                    --jp-layout-color3: #383838;\n",
       "                }\n",
       "\n",
       "                .geemap-colab {\n",
       "                    background-color: var(--colab-primary-surface-color, white);\n",
       "                }\n",
       "\n",
       "                .geemap-colab .jupyter-button {\n",
       "                    --jp-layout-color3: var(--colab-primary-surface-color, white);\n",
       "                }\n",
       "            </style>\n",
       "            "
      ],
      "text/plain": [
       "<IPython.core.display.HTML object>"
      ]
     },
     "metadata": {},
     "output_type": "display_data"
    },
    {
     "data": {
      "text/plain": [
       "0.9026548672566371"
      ]
     },
     "execution_count": 28,
     "metadata": {},
     "output_type": "execute_result"
    }
   ],
   "source": [
    "test_accuracy.accuracy().getInfo()"
   ]
  },
  {
   "cell_type": "code",
   "execution_count": 29,
   "id": "440d000d",
   "metadata": {},
   "outputs": [
    {
     "data": {
      "text/html": [
       "\n",
       "            <style>\n",
       "                .geemap-dark {\n",
       "                    --jp-widgets-color: white;\n",
       "                    --jp-widgets-label-color: white;\n",
       "                    --jp-ui-font-color1: white;\n",
       "                    --jp-layout-color2: #454545;\n",
       "                    background-color: #383838;\n",
       "                }\n",
       "\n",
       "                .geemap-dark .jupyter-button {\n",
       "                    --jp-layout-color3: #383838;\n",
       "                }\n",
       "\n",
       "                .geemap-colab {\n",
       "                    background-color: var(--colab-primary-surface-color, white);\n",
       "                }\n",
       "\n",
       "                .geemap-colab .jupyter-button {\n",
       "                    --jp-layout-color3: var(--colab-primary-surface-color, white);\n",
       "                }\n",
       "            </style>\n",
       "            "
      ],
      "text/plain": [
       "<IPython.core.display.HTML object>"
      ]
     },
     "metadata": {},
     "output_type": "display_data"
    },
    {
     "data": {
      "text/plain": [
       "0.8773072747014115"
      ]
     },
     "execution_count": 29,
     "metadata": {},
     "output_type": "execute_result"
    }
   ],
   "source": [
    "test_accuracy.kappa().getInfo()"
   ]
  },
  {
   "cell_type": "code",
   "execution_count": 30,
   "id": "d890e4eb",
   "metadata": {},
   "outputs": [
    {
     "data": {
      "text/html": [
       "\n",
       "            <style>\n",
       "                .geemap-dark {\n",
       "                    --jp-widgets-color: white;\n",
       "                    --jp-widgets-label-color: white;\n",
       "                    --jp-ui-font-color1: white;\n",
       "                    --jp-layout-color2: #454545;\n",
       "                    background-color: #383838;\n",
       "                }\n",
       "\n",
       "                .geemap-dark .jupyter-button {\n",
       "                    --jp-layout-color3: #383838;\n",
       "                }\n",
       "\n",
       "                .geemap-colab {\n",
       "                    background-color: var(--colab-primary-surface-color, white);\n",
       "                }\n",
       "\n",
       "                .geemap-colab .jupyter-button {\n",
       "                    --jp-layout-color3: var(--colab-primary-surface-color, white);\n",
       "                }\n",
       "            </style>\n",
       "            "
      ],
      "text/plain": [
       "<IPython.core.display.HTML object>"
      ]
     },
     "metadata": {},
     "output_type": "display_data"
    },
    {
     "data": {
      "text/plain": [
       "[[0],\n",
       " [0.7142857142857143],\n",
       " [1],\n",
       " [0.9411764705882353],\n",
       " [0.95],\n",
       " [0.9629629629629629]]"
      ]
     },
     "execution_count": 30,
     "metadata": {},
     "output_type": "execute_result"
    }
   ],
   "source": [
    "test_accuracy.producersAccuracy().getInfo()"
   ]
  },
  {
   "cell_type": "code",
   "execution_count": 31,
   "id": "05eee519",
   "metadata": {},
   "outputs": [
    {
     "data": {
      "text/html": [
       "\n",
       "            <style>\n",
       "                .geemap-dark {\n",
       "                    --jp-widgets-color: white;\n",
       "                    --jp-widgets-label-color: white;\n",
       "                    --jp-ui-font-color1: white;\n",
       "                    --jp-layout-color2: #454545;\n",
       "                    background-color: #383838;\n",
       "                }\n",
       "\n",
       "                .geemap-dark .jupyter-button {\n",
       "                    --jp-layout-color3: #383838;\n",
       "                }\n",
       "\n",
       "                .geemap-colab {\n",
       "                    background-color: var(--colab-primary-surface-color, white);\n",
       "                }\n",
       "\n",
       "                .geemap-colab .jupyter-button {\n",
       "                    --jp-layout-color3: var(--colab-primary-surface-color, white);\n",
       "                }\n",
       "            </style>\n",
       "            "
      ],
      "text/plain": [
       "<IPython.core.display.HTML object>"
      ]
     },
     "metadata": {},
     "output_type": "display_data"
    },
    {
     "data": {
      "text/plain": [
       "[[0,\n",
       "  0.9090909090909091,\n",
       "  0.9545454545454546,\n",
       "  0.9411764705882353,\n",
       "  1,\n",
       "  0.7878787878787878]]"
      ]
     },
     "execution_count": 31,
     "metadata": {},
     "output_type": "execute_result"
    }
   ],
   "source": [
    "test_accuracy.consumersAccuracy().getInfo()"
   ]
  },
  {
   "cell_type": "markdown",
   "id": "c5be9695",
   "metadata": {},
   "source": [
    "### Export classified image"
   ]
  },
  {
   "cell_type": "code",
   "execution_count": 32,
   "id": "16dfd6ca",
   "metadata": {},
   "outputs": [
    {
     "data": {
      "text/html": [
       "\n",
       "            <style>\n",
       "                .geemap-dark {\n",
       "                    --jp-widgets-color: white;\n",
       "                    --jp-widgets-label-color: white;\n",
       "                    --jp-ui-font-color1: white;\n",
       "                    --jp-layout-color2: #454545;\n",
       "                    background-color: #383838;\n",
       "                }\n",
       "\n",
       "                .geemap-dark .jupyter-button {\n",
       "                    --jp-layout-color3: #383838;\n",
       "                }\n",
       "\n",
       "                .geemap-colab {\n",
       "                    background-color: var(--colab-primary-surface-color, white);\n",
       "                }\n",
       "\n",
       "                .geemap-colab .jupyter-button {\n",
       "                    --jp-layout-color3: var(--colab-primary-surface-color, white);\n",
       "                }\n",
       "            </style>\n",
       "            "
      ],
      "text/plain": [
       "<IPython.core.display.HTML object>"
      ]
     },
     "metadata": {},
     "output_type": "display_data"
    }
   ],
   "source": [
    "import os"
   ]
  },
  {
   "cell_type": "code",
   "execution_count": 33,
   "id": "da44430f",
   "metadata": {},
   "outputs": [
    {
     "data": {
      "text/html": [
       "\n",
       "            <style>\n",
       "                .geemap-dark {\n",
       "                    --jp-widgets-color: white;\n",
       "                    --jp-widgets-label-color: white;\n",
       "                    --jp-ui-font-color1: white;\n",
       "                    --jp-layout-color2: #454545;\n",
       "                    background-color: #383838;\n",
       "                }\n",
       "\n",
       "                .geemap-dark .jupyter-button {\n",
       "                    --jp-layout-color3: #383838;\n",
       "                }\n",
       "\n",
       "                .geemap-colab {\n",
       "                    background-color: var(--colab-primary-surface-color, white);\n",
       "                }\n",
       "\n",
       "                .geemap-colab .jupyter-button {\n",
       "                    --jp-layout-color3: var(--colab-primary-surface-color, white);\n",
       "                }\n",
       "            </style>\n",
       "            "
      ],
      "text/plain": [
       "<IPython.core.display.HTML object>"
      ]
     },
     "metadata": {},
     "output_type": "display_data"
    },
    {
     "name": "stdout",
     "output_type": "stream",
     "text": [
      "C:\\Users\\MARK\n"
     ]
    }
   ],
   "source": [
    "cwd = os.getcwd() \n",
    "print(cwd)"
   ]
  },
  {
   "cell_type": "code",
   "execution_count": 34,
   "id": "d1a754ce",
   "metadata": {},
   "outputs": [
    {
     "data": {
      "text/html": [
       "\n",
       "            <style>\n",
       "                .geemap-dark {\n",
       "                    --jp-widgets-color: white;\n",
       "                    --jp-widgets-label-color: white;\n",
       "                    --jp-ui-font-color1: white;\n",
       "                    --jp-layout-color2: #454545;\n",
       "                    background-color: #383838;\n",
       "                }\n",
       "\n",
       "                .geemap-dark .jupyter-button {\n",
       "                    --jp-layout-color3: #383838;\n",
       "                }\n",
       "\n",
       "                .geemap-colab {\n",
       "                    background-color: var(--colab-primary-surface-color, white);\n",
       "                }\n",
       "\n",
       "                .geemap-colab .jupyter-button {\n",
       "                    --jp-layout-color3: var(--colab-primary-surface-color, white);\n",
       "                }\n",
       "            </style>\n",
       "            "
      ],
      "text/plain": [
       "<IPython.core.display.HTML object>"
      ]
     },
     "metadata": {},
     "output_type": "display_data"
    }
   ],
   "source": [
    "filename_01 = os.path.join(cwd, 'NMA_LULC_2023.tif')"
   ]
  },
  {
   "cell_type": "code",
   "execution_count": 35,
   "id": "64f828a6",
   "metadata": {},
   "outputs": [
    {
     "data": {
      "text/html": [
       "\n",
       "            <style>\n",
       "                .geemap-dark {\n",
       "                    --jp-widgets-color: white;\n",
       "                    --jp-widgets-label-color: white;\n",
       "                    --jp-ui-font-color1: white;\n",
       "                    --jp-layout-color2: #454545;\n",
       "                    background-color: #383838;\n",
       "                }\n",
       "\n",
       "                .geemap-dark .jupyter-button {\n",
       "                    --jp-layout-color3: #383838;\n",
       "                }\n",
       "\n",
       "                .geemap-colab {\n",
       "                    background-color: var(--colab-primary-surface-color, white);\n",
       "                }\n",
       "\n",
       "                .geemap-colab .jupyter-button {\n",
       "                    --jp-layout-color3: var(--colab-primary-surface-color, white);\n",
       "                }\n",
       "            </style>\n",
       "            "
      ],
      "text/plain": [
       "<IPython.core.display.HTML object>"
      ]
     },
     "metadata": {},
     "output_type": "display_data"
    }
   ],
   "source": [
    "NMA_roi = NMA.geometry()"
   ]
  },
  {
   "cell_type": "code",
   "execution_count": 36,
   "id": "ed6616ea",
   "metadata": {},
   "outputs": [
    {
     "data": {
      "text/html": [
       "\n",
       "            <style>\n",
       "                .geemap-dark {\n",
       "                    --jp-widgets-color: white;\n",
       "                    --jp-widgets-label-color: white;\n",
       "                    --jp-ui-font-color1: white;\n",
       "                    --jp-layout-color2: #454545;\n",
       "                    background-color: #383838;\n",
       "                }\n",
       "\n",
       "                .geemap-dark .jupyter-button {\n",
       "                    --jp-layout-color3: #383838;\n",
       "                }\n",
       "\n",
       "                .geemap-colab {\n",
       "                    background-color: var(--colab-primary-surface-color, white);\n",
       "                }\n",
       "\n",
       "                .geemap-colab .jupyter-button {\n",
       "                    --jp-layout-color3: var(--colab-primary-surface-color, white);\n",
       "                }\n",
       "            </style>\n",
       "            "
      ],
      "text/plain": [
       "<IPython.core.display.HTML object>"
      ]
     },
     "metadata": {},
     "output_type": "display_data"
    },
    {
     "name": "stdout",
     "output_type": "stream",
     "text": [
      "Generating URL ...\n",
      "Downloading data from https://earthengine.googleapis.com/v1/projects/741521329129/thumbnails/b3df7d13a40196908a4a241a9f06bba6-e9b6fa126910d06e5a35ccb80664d023:getPixels\n",
      "Please wait ...\n",
      "Data downloaded to C:\\Users\\MARK\\NMA_LULC_2023.tif\n"
     ]
    }
   ],
   "source": [
    "geemap.ee_export_image(classified, filename=filename_01, scale=90, region=NMA_roi, file_per_band=False)"
   ]
  },
  {
   "cell_type": "code",
   "execution_count": null,
   "id": "ae860c4b",
   "metadata": {},
   "outputs": [],
   "source": []
  },
  {
   "cell_type": "code",
   "execution_count": null,
   "id": "1bb956fa",
   "metadata": {},
   "outputs": [],
   "source": []
  },
  {
   "cell_type": "code",
   "execution_count": null,
   "id": "741f7e72",
   "metadata": {},
   "outputs": [],
   "source": []
  },
  {
   "cell_type": "code",
   "execution_count": null,
   "id": "74618b11",
   "metadata": {},
   "outputs": [],
   "source": []
  },
  {
   "cell_type": "code",
   "execution_count": null,
   "id": "82cf84bd",
   "metadata": {},
   "outputs": [],
   "source": []
  },
  {
   "cell_type": "code",
   "execution_count": null,
   "id": "e0542b3e",
   "metadata": {},
   "outputs": [],
   "source": []
  },
  {
   "cell_type": "code",
   "execution_count": null,
   "id": "270d3491",
   "metadata": {},
   "outputs": [],
   "source": []
  },
  {
   "cell_type": "code",
   "execution_count": null,
   "id": "1e8120ed",
   "metadata": {},
   "outputs": [],
   "source": []
  },
  {
   "cell_type": "code",
   "execution_count": null,
   "id": "2ce6f939",
   "metadata": {},
   "outputs": [],
   "source": [
    "DEM = ee.Image('projects/ee-maichmarc/assets/my_dem')"
   ]
  },
  {
   "cell_type": "code",
   "execution_count": null,
   "id": "79b2bbf6",
   "metadata": {},
   "outputs": [],
   "source": []
  },
  {
   "cell_type": "code",
   "execution_count": null,
   "id": "037c0cf5",
   "metadata": {},
   "outputs": [],
   "source": [
    "slope = ee.Terrain.slope(DEM)\n",
    "slopevis = {'min':0, 'max':35, 'palette': ['green', 'yellow', 'red']}"
   ]
  },
  {
   "cell_type": "code",
   "execution_count": null,
   "id": "eed0802e",
   "metadata": {},
   "outputs": [],
   "source": [
    "DEM_map = geemap.Map()"
   ]
  },
  {
   "cell_type": "code",
   "execution_count": null,
   "id": "b33c2ba0",
   "metadata": {},
   "outputs": [],
   "source": [
    "DEM_map.addLayer(DEM.clip(NMA), {'min':0, 'max':4000}, 'DEM')\n",
    "DEM_map"
   ]
  },
  {
   "cell_type": "code",
   "execution_count": null,
   "id": "30e95f74",
   "metadata": {},
   "outputs": [],
   "source": [
    "Slope_map = geemap.Map()"
   ]
  },
  {
   "cell_type": "code",
   "execution_count": null,
   "id": "a22ed352",
   "metadata": {},
   "outputs": [],
   "source": [
    "Slope_map.addLayer(slope.clip(NMA), slopevis, 'slope')\n",
    "Slope_map"
   ]
  },
  {
   "cell_type": "code",
   "execution_count": null,
   "id": "ca5067e4",
   "metadata": {},
   "outputs": [],
   "source": [
    "filename_DEM = os.path.join(cwd, 'DEM_NMA.tif')"
   ]
  },
  {
   "cell_type": "code",
   "execution_count": null,
   "id": "79606be2",
   "metadata": {},
   "outputs": [],
   "source": [
    "geemap.ee_export_image(DEM.clip(NMA), filename=filename_DEM, scale=60, region=NMA_roi, file_per_band=True)"
   ]
  },
  {
   "cell_type": "code",
   "execution_count": null,
   "id": "9f5f5b0e",
   "metadata": {},
   "outputs": [],
   "source": [
    "filename_slope = os.path.join(cwd, 'slope_NMA.tif')"
   ]
  },
  {
   "cell_type": "code",
   "execution_count": null,
   "id": "d7f1e1d3",
   "metadata": {},
   "outputs": [],
   "source": [
    "geemap.ee_export_image(slope.clip(NMA), filename=filename_slope, scale=60, region=NMA_roi, file_per_band=True)"
   ]
  },
  {
   "cell_type": "code",
   "execution_count": null,
   "id": "68fbd02c",
   "metadata": {},
   "outputs": [],
   "source": []
  },
  {
   "cell_type": "code",
   "execution_count": null,
   "id": "fcf0b7a1",
   "metadata": {},
   "outputs": [],
   "source": []
  },
  {
   "cell_type": "code",
   "execution_count": null,
   "id": "5e62b59e",
   "metadata": {},
   "outputs": [],
   "source": []
  },
  {
   "cell_type": "code",
   "execution_count": null,
   "id": "49887e2a",
   "metadata": {},
   "outputs": [],
   "source": []
  },
  {
   "cell_type": "code",
   "execution_count": null,
   "id": "0bd78f75",
   "metadata": {},
   "outputs": [],
   "source": []
  },
  {
   "cell_type": "code",
   "execution_count": null,
   "id": "64933a73",
   "metadata": {},
   "outputs": [],
   "source": [
    "geemap.ee_export_image(slope.clip(NMA), filename=filename_slope, scale=60, region=NMA_roi, file_per_band=True)"
   ]
  },
  {
   "cell_type": "code",
   "execution_count": null,
   "id": "0aaddb55",
   "metadata": {},
   "outputs": [],
   "source": [
    "filename_slope = os.path.join(cwd, 'NMA_slope.tif')"
   ]
  },
  {
   "cell_type": "code",
   "execution_count": null,
   "id": "014ece07",
   "metadata": {},
   "outputs": [],
   "source": [
    "geemap.ee_export_image(DEM.clip(NMA), filename=filename_DEM, scale=60, region=NMA_roi, file_per_band=True)"
   ]
  },
  {
   "cell_type": "code",
   "execution_count": null,
   "id": "5d1ab1af",
   "metadata": {},
   "outputs": [],
   "source": [
    "filename_DEM = os.path.join(cwd, 'NMA_DEM.tif')"
   ]
  },
  {
   "cell_type": "markdown",
   "id": "e01ed58f",
   "metadata": {},
   "source": [
    "#### Export as tif files"
   ]
  },
  {
   "cell_type": "code",
   "execution_count": null,
   "id": "ecaccdfd",
   "metadata": {},
   "outputs": [],
   "source": [
    "Slope_map.addLayer(slope.clip(NMA), slopevis, 'slope')\n",
    "Slope_map"
   ]
  },
  {
   "cell_type": "code",
   "execution_count": null,
   "id": "d85e9540",
   "metadata": {},
   "outputs": [],
   "source": [
    "Slope_map = geemap.Map()"
   ]
  },
  {
   "cell_type": "code",
   "execution_count": null,
   "id": "db2be808",
   "metadata": {},
   "outputs": [],
   "source": [
    "DEM_map.addLayer(DEM.clip(NMA), {'min':0, 'max':4000}, 'DEM')\n",
    "DEM_map"
   ]
  },
  {
   "cell_type": "code",
   "execution_count": null,
   "id": "130f81f7",
   "metadata": {},
   "outputs": [],
   "source": [
    "DEM_map = geemap.Map()"
   ]
  },
  {
   "cell_type": "markdown",
   "id": "4447b6b7",
   "metadata": {},
   "source": [
    "#### Dispaly both maps"
   ]
  },
  {
   "cell_type": "code",
   "execution_count": null,
   "id": "9de94fc1",
   "metadata": {},
   "outputs": [],
   "source": [
    "slope = ee.Terrain.slope(DEM)\n",
    "slopevis = {'min':0, 'max':35, 'palette': ['green', 'yellow', 'red']}"
   ]
  },
  {
   "cell_type": "markdown",
   "id": "967b0bfb",
   "metadata": {},
   "source": [
    "#### Create slope image from DEM tif file"
   ]
  },
  {
   "cell_type": "code",
   "execution_count": null,
   "id": "be61dfa4",
   "metadata": {},
   "outputs": [],
   "source": [
    "DEM = ee.Image('projects/ee-maichmarc/assets/my_dem')"
   ]
  },
  {
   "cell_type": "markdown",
   "id": "a799e77e",
   "metadata": {},
   "source": [
    "#### Import DEM tif file from Earth Engine"
   ]
  },
  {
   "cell_type": "markdown",
   "id": "c1c8eddf",
   "metadata": {},
   "source": [
    "### Prepare DEM map and Slope map for QGIS prediction"
   ]
  },
  {
   "cell_type": "code",
   "execution_count": null,
   "id": "dd6a8b51",
   "metadata": {},
   "outputs": [],
   "source": [
    "geemap.ee_export_image(NMA_Modis_2021, filename=filename_21_1, scale=60, region=NMA_roi, file_per_band=True)"
   ]
  },
  {
   "cell_type": "code",
   "execution_count": null,
   "id": "d8977d79",
   "metadata": {},
   "outputs": [],
   "source": [
    "filename_21_1 = os.path.join(cwd, 'NMA_2021_1.tif')"
   ]
  }
 ],
 "metadata": {
  "kernelspec": {
   "display_name": "Python 3 (ipykernel)",
   "language": "python",
   "name": "python3"
  },
  "language_info": {
   "codemirror_mode": {
    "name": "ipython",
    "version": 3
   },
   "file_extension": ".py",
   "mimetype": "text/x-python",
   "name": "python",
   "nbconvert_exporter": "python",
   "pygments_lexer": "ipython3",
   "version": "3.11.10"
  }
 },
 "nbformat": 4,
 "nbformat_minor": 5
}
