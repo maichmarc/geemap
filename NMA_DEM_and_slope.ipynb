{
 "cells": [
  {
   "cell_type": "markdown",
   "id": "da461040",
   "metadata": {},
   "source": [
    "### Install Geemap"
   ]
  },
  {
   "cell_type": "code",
   "execution_count": 1,
   "id": "cd908d03",
   "metadata": {
    "scrolled": true
   },
   "outputs": [
    {
     "name": "stdout",
     "output_type": "stream",
     "text": [
      "Collecting geemap\n",
      "  Downloading geemap-0.35.1-py2.py3-none-any.whl.metadata (12 kB)\n",
      "Collecting bqplot (from geemap)\n",
      "  Downloading bqplot-0.12.43-py2.py3-none-any.whl.metadata (6.4 kB)\n",
      "Collecting colour (from geemap)\n",
      "  Downloading colour-0.1.5-py2.py3-none-any.whl.metadata (18 kB)\n",
      "Collecting earthengine-api>=1.0.0 (from geemap)\n",
      "  Downloading earthengine_api-1.4.0-py3-none-any.whl.metadata (1.8 kB)\n",
      "Collecting eerepr>=0.0.4 (from geemap)\n",
      "  Downloading eerepr-0.0.4-py3-none-any.whl.metadata (4.0 kB)\n",
      "Collecting folium>=0.17.0 (from geemap)\n",
      "  Downloading folium-0.18.0-py2.py3-none-any.whl.metadata (3.8 kB)\n",
      "Collecting geocoder (from geemap)\n",
      "  Downloading geocoder-1.38.1-py2.py3-none-any.whl.metadata (14 kB)\n",
      "Collecting ipyevents (from geemap)\n",
      "  Downloading ipyevents-2.0.2-py3-none-any.whl.metadata (2.9 kB)\n",
      "Collecting ipyfilechooser>=0.6.0 (from geemap)\n",
      "  Downloading ipyfilechooser-0.6.0-py3-none-any.whl.metadata (6.4 kB)\n",
      "Collecting ipyleaflet>=0.19.2 (from geemap)\n",
      "  Downloading ipyleaflet-0.19.2-py3-none-any.whl.metadata (5.3 kB)\n",
      "Collecting ipytree (from geemap)\n",
      "  Downloading ipytree-0.2.2-py2.py3-none-any.whl.metadata (849 bytes)\n",
      "Collecting matplotlib (from geemap)\n",
      "  Downloading matplotlib-3.9.2-cp311-cp311-win_amd64.whl.metadata (11 kB)\n",
      "Collecting numpy (from geemap)\n",
      "  Downloading numpy-2.1.3-cp311-cp311-win_amd64.whl.metadata (60 kB)\n",
      "Collecting pandas (from geemap)\n",
      "  Downloading pandas-2.2.3-cp311-cp311-win_amd64.whl.metadata (19 kB)\n",
      "Collecting plotly (from geemap)\n",
      "  Downloading plotly-5.24.1-py3-none-any.whl.metadata (7.3 kB)\n",
      "Collecting pyperclip (from geemap)\n",
      "  Downloading pyperclip-1.9.0.tar.gz (20 kB)\n",
      "  Preparing metadata (setup.py): started\n",
      "  Preparing metadata (setup.py): finished with status 'done'\n",
      "Collecting pyshp>=2.3.1 (from geemap)\n",
      "  Downloading pyshp-2.3.1-py2.py3-none-any.whl.metadata (55 kB)\n",
      "Collecting python-box (from geemap)\n",
      "  Downloading python_box-7.2.0-cp311-cp311-win_amd64.whl.metadata (8.0 kB)\n",
      "Collecting scooby (from geemap)\n",
      "  Downloading scooby-0.10.0-py3-none-any.whl.metadata (15 kB)\n",
      "Collecting google-cloud-storage (from earthengine-api>=1.0.0->geemap)\n",
      "  Downloading google_cloud_storage-2.18.2-py2.py3-none-any.whl.metadata (9.1 kB)\n",
      "Collecting google-api-python-client>=1.12.1 (from earthengine-api>=1.0.0->geemap)\n",
      "  Downloading google_api_python_client-2.154.0-py2.py3-none-any.whl.metadata (6.7 kB)\n",
      "Collecting google-auth>=1.4.1 (from earthengine-api>=1.0.0->geemap)\n",
      "  Downloading google_auth-2.36.0-py2.py3-none-any.whl.metadata (4.7 kB)\n",
      "Collecting google-auth-httplib2>=0.0.3 (from earthengine-api>=1.0.0->geemap)\n",
      "  Downloading google_auth_httplib2-0.2.0-py2.py3-none-any.whl.metadata (2.2 kB)\n",
      "Collecting httplib2<1dev,>=0.9.2 (from earthengine-api>=1.0.0->geemap)\n",
      "  Downloading httplib2-0.22.0-py3-none-any.whl.metadata (2.6 kB)\n",
      "Requirement already satisfied: requests in c:\\users\\mark\\anaconda3\\envs\\gee\\lib\\site-packages (from earthengine-api>=1.0.0->geemap) (2.32.3)\n",
      "Collecting branca>=0.6.0 (from folium>=0.17.0->geemap)\n",
      "  Downloading branca-0.8.0-py3-none-any.whl.metadata (1.5 kB)\n",
      "Requirement already satisfied: jinja2>=2.9 in c:\\users\\mark\\anaconda3\\envs\\gee\\lib\\site-packages (from folium>=0.17.0->geemap) (3.1.4)\n",
      "Collecting xyzservices (from folium>=0.17.0->geemap)\n",
      "  Downloading xyzservices-2024.9.0-py3-none-any.whl.metadata (4.1 kB)\n",
      "Collecting ipywidgets (from ipyfilechooser>=0.6.0->geemap)\n",
      "  Downloading ipywidgets-8.1.5-py3-none-any.whl.metadata (2.3 kB)\n",
      "Collecting jupyter-leaflet<0.20,>=0.19 (from ipyleaflet>=0.19.2->geemap)\n",
      "  Downloading jupyter_leaflet-0.19.2-py3-none-any.whl.metadata (2.4 kB)\n",
      "Collecting traittypes<3,>=0.2.1 (from ipyleaflet>=0.19.2->geemap)\n",
      "  Downloading traittypes-0.2.1-py2.py3-none-any.whl.metadata (1.0 kB)\n",
      "Requirement already satisfied: traitlets>=4.3.0 in c:\\users\\mark\\anaconda3\\envs\\gee\\lib\\site-packages (from bqplot->geemap) (5.14.3)\n",
      "Requirement already satisfied: python-dateutil>=2.8.2 in c:\\users\\mark\\anaconda3\\envs\\gee\\lib\\site-packages (from pandas->geemap) (2.9.0.post0)\n",
      "Requirement already satisfied: pytz>=2020.1 in c:\\users\\mark\\anaconda3\\envs\\gee\\lib\\site-packages (from pandas->geemap) (2024.1)\n",
      "Collecting tzdata>=2022.7 (from pandas->geemap)\n",
      "  Using cached tzdata-2024.2-py2.py3-none-any.whl.metadata (1.4 kB)\n",
      "Collecting click (from geocoder->geemap)\n",
      "  Downloading click-8.1.7-py3-none-any.whl.metadata (3.0 kB)\n",
      "Collecting future (from geocoder->geemap)\n",
      "  Downloading future-1.0.0-py3-none-any.whl.metadata (4.0 kB)\n",
      "Collecting ratelim (from geocoder->geemap)\n",
      "  Downloading ratelim-0.1.6-py2.py3-none-any.whl.metadata (1.4 kB)\n",
      "Requirement already satisfied: six in c:\\users\\mark\\anaconda3\\envs\\gee\\lib\\site-packages (from geocoder->geemap) (1.16.0)\n",
      "Collecting contourpy>=1.0.1 (from matplotlib->geemap)\n",
      "  Downloading contourpy-1.3.1-cp311-cp311-win_amd64.whl.metadata (5.4 kB)\n",
      "Collecting cycler>=0.10 (from matplotlib->geemap)\n",
      "  Using cached cycler-0.12.1-py3-none-any.whl.metadata (3.8 kB)\n",
      "Collecting fonttools>=4.22.0 (from matplotlib->geemap)\n",
      "  Downloading fonttools-4.55.0-cp311-cp311-win_amd64.whl.metadata (167 kB)\n",
      "Collecting kiwisolver>=1.3.1 (from matplotlib->geemap)\n",
      "  Downloading kiwisolver-1.4.7-cp311-cp311-win_amd64.whl.metadata (6.4 kB)\n",
      "Requirement already satisfied: packaging>=20.0 in c:\\users\\mark\\anaconda3\\envs\\gee\\lib\\site-packages (from matplotlib->geemap) (24.1)\n",
      "Collecting pillow>=8 (from matplotlib->geemap)\n",
      "  Downloading pillow-11.0.0-cp311-cp311-win_amd64.whl.metadata (9.3 kB)\n",
      "Collecting pyparsing>=2.3.1 (from matplotlib->geemap)\n",
      "  Using cached pyparsing-3.2.0-py3-none-any.whl.metadata (5.0 kB)\n",
      "Collecting tenacity>=6.2.0 (from plotly->geemap)\n",
      "  Downloading tenacity-9.0.0-py3-none-any.whl.metadata (1.2 kB)\n",
      "Collecting google-api-core!=2.0.*,!=2.1.*,!=2.2.*,!=2.3.0,<3.0.0.dev0,>=1.31.5 (from google-api-python-client>=1.12.1->earthengine-api>=1.0.0->geemap)\n",
      "  Downloading google_api_core-2.23.0-py3-none-any.whl.metadata (3.0 kB)\n",
      "Collecting uritemplate<5,>=3.0.1 (from google-api-python-client>=1.12.1->earthengine-api>=1.0.0->geemap)\n",
      "  Downloading uritemplate-4.1.1-py2.py3-none-any.whl.metadata (2.9 kB)\n",
      "Collecting cachetools<6.0,>=2.0.0 (from google-auth>=1.4.1->earthengine-api>=1.0.0->geemap)\n",
      "  Downloading cachetools-5.5.0-py3-none-any.whl.metadata (5.3 kB)\n",
      "Collecting pyasn1-modules>=0.2.1 (from google-auth>=1.4.1->earthengine-api>=1.0.0->geemap)\n",
      "  Downloading pyasn1_modules-0.4.1-py3-none-any.whl.metadata (3.5 kB)\n",
      "Collecting rsa<5,>=3.1.4 (from google-auth>=1.4.1->earthengine-api>=1.0.0->geemap)\n",
      "  Downloading rsa-4.9-py3-none-any.whl.metadata (4.2 kB)\n",
      "Requirement already satisfied: comm>=0.1.3 in c:\\users\\mark\\anaconda3\\envs\\gee\\lib\\site-packages (from ipywidgets->ipyfilechooser>=0.6.0->geemap) (0.2.1)\n",
      "Requirement already satisfied: ipython>=6.1.0 in c:\\users\\mark\\anaconda3\\envs\\gee\\lib\\site-packages (from ipywidgets->ipyfilechooser>=0.6.0->geemap) (8.27.0)\n",
      "Collecting widgetsnbextension~=4.0.12 (from ipywidgets->ipyfilechooser>=0.6.0->geemap)\n",
      "  Downloading widgetsnbextension-4.0.13-py3-none-any.whl.metadata (1.6 kB)\n",
      "Collecting jupyterlab-widgets~=3.0.12 (from ipywidgets->ipyfilechooser>=0.6.0->geemap)\n",
      "  Downloading jupyterlab_widgets-3.0.13-py3-none-any.whl.metadata (4.1 kB)\n",
      "Requirement already satisfied: MarkupSafe>=2.0 in c:\\users\\mark\\anaconda3\\envs\\gee\\lib\\site-packages (from jinja2>=2.9->folium>=0.17.0->geemap) (2.1.3)\n",
      "Requirement already satisfied: colorama in c:\\users\\mark\\anaconda3\\envs\\gee\\lib\\site-packages (from click->geocoder->geemap) (0.4.6)\n",
      "Collecting google-cloud-core<3.0dev,>=2.3.0 (from google-cloud-storage->earthengine-api>=1.0.0->geemap)\n",
      "  Downloading google_cloud_core-2.4.1-py2.py3-none-any.whl.metadata (2.7 kB)\n",
      "Collecting google-resumable-media>=2.7.2 (from google-cloud-storage->earthengine-api>=1.0.0->geemap)\n",
      "  Downloading google_resumable_media-2.7.2-py2.py3-none-any.whl.metadata (2.2 kB)\n",
      "Collecting google-crc32c<2.0dev,>=1.0 (from google-cloud-storage->earthengine-api>=1.0.0->geemap)\n",
      "  Downloading google_crc32c-1.6.0-cp311-cp311-win_amd64.whl.metadata (2.4 kB)\n",
      "Requirement already satisfied: charset-normalizer<4,>=2 in c:\\users\\mark\\anaconda3\\envs\\gee\\lib\\site-packages (from requests->earthengine-api>=1.0.0->geemap) (3.3.2)\n",
      "Requirement already satisfied: idna<4,>=2.5 in c:\\users\\mark\\anaconda3\\envs\\gee\\lib\\site-packages (from requests->earthengine-api>=1.0.0->geemap) (3.7)\n",
      "Requirement already satisfied: urllib3<3,>=1.21.1 in c:\\users\\mark\\anaconda3\\envs\\gee\\lib\\site-packages (from requests->earthengine-api>=1.0.0->geemap) (2.2.3)\n",
      "Requirement already satisfied: certifi>=2017.4.17 in c:\\users\\mark\\anaconda3\\envs\\gee\\lib\\site-packages (from requests->earthengine-api>=1.0.0->geemap) (2024.8.30)\n",
      "Requirement already satisfied: decorator in c:\\users\\mark\\anaconda3\\envs\\gee\\lib\\site-packages (from ratelim->geocoder->geemap) (5.1.1)\n",
      "Collecting googleapis-common-protos<2.0.dev0,>=1.56.2 (from google-api-core!=2.0.*,!=2.1.*,!=2.2.*,!=2.3.0,<3.0.0.dev0,>=1.31.5->google-api-python-client>=1.12.1->earthengine-api>=1.0.0->geemap)\n",
      "  Downloading googleapis_common_protos-1.66.0-py2.py3-none-any.whl.metadata (1.5 kB)\n",
      "Collecting protobuf!=3.20.0,!=3.20.1,!=4.21.0,!=4.21.1,!=4.21.2,!=4.21.3,!=4.21.4,!=4.21.5,<6.0.0.dev0,>=3.19.5 (from google-api-core!=2.0.*,!=2.1.*,!=2.2.*,!=2.3.0,<3.0.0.dev0,>=1.31.5->google-api-python-client>=1.12.1->earthengine-api>=1.0.0->geemap)\n",
      "  Downloading protobuf-5.28.3-cp310-abi3-win_amd64.whl.metadata (592 bytes)\n",
      "Collecting proto-plus<2.0.0dev,>=1.22.3 (from google-api-core!=2.0.*,!=2.1.*,!=2.2.*,!=2.3.0,<3.0.0.dev0,>=1.31.5->google-api-python-client>=1.12.1->earthengine-api>=1.0.0->geemap)\n",
      "  Downloading proto_plus-1.25.0-py3-none-any.whl.metadata (2.2 kB)\n",
      "Requirement already satisfied: jedi>=0.16 in c:\\users\\mark\\anaconda3\\envs\\gee\\lib\\site-packages (from ipython>=6.1.0->ipywidgets->ipyfilechooser>=0.6.0->geemap) (0.19.1)\n",
      "Requirement already satisfied: matplotlib-inline in c:\\users\\mark\\anaconda3\\envs\\gee\\lib\\site-packages (from ipython>=6.1.0->ipywidgets->ipyfilechooser>=0.6.0->geemap) (0.1.6)\n",
      "Requirement already satisfied: prompt-toolkit<3.1.0,>=3.0.41 in c:\\users\\mark\\anaconda3\\envs\\gee\\lib\\site-packages (from ipython>=6.1.0->ipywidgets->ipyfilechooser>=0.6.0->geemap) (3.0.43)\n",
      "Requirement already satisfied: pygments>=2.4.0 in c:\\users\\mark\\anaconda3\\envs\\gee\\lib\\site-packages (from ipython>=6.1.0->ipywidgets->ipyfilechooser>=0.6.0->geemap) (2.15.1)\n",
      "Requirement already satisfied: stack-data in c:\\users\\mark\\anaconda3\\envs\\gee\\lib\\site-packages (from ipython>=6.1.0->ipywidgets->ipyfilechooser>=0.6.0->geemap) (0.2.0)\n",
      "Requirement already satisfied: typing-extensions>=4.6 in c:\\users\\mark\\anaconda3\\envs\\gee\\lib\\site-packages (from ipython>=6.1.0->ipywidgets->ipyfilechooser>=0.6.0->geemap) (4.11.0)\n",
      "Collecting pyasn1<0.7.0,>=0.4.6 (from pyasn1-modules>=0.2.1->google-auth>=1.4.1->earthengine-api>=1.0.0->geemap)\n",
      "  Downloading pyasn1-0.6.1-py3-none-any.whl.metadata (8.4 kB)\n",
      "Requirement already satisfied: parso<0.9.0,>=0.8.3 in c:\\users\\mark\\anaconda3\\envs\\gee\\lib\\site-packages (from jedi>=0.16->ipython>=6.1.0->ipywidgets->ipyfilechooser>=0.6.0->geemap) (0.8.3)\n",
      "Requirement already satisfied: wcwidth in c:\\users\\mark\\anaconda3\\envs\\gee\\lib\\site-packages (from prompt-toolkit<3.1.0,>=3.0.41->ipython>=6.1.0->ipywidgets->ipyfilechooser>=0.6.0->geemap) (0.2.5)\n",
      "Requirement already satisfied: executing in c:\\users\\mark\\anaconda3\\envs\\gee\\lib\\site-packages (from stack-data->ipython>=6.1.0->ipywidgets->ipyfilechooser>=0.6.0->geemap) (0.8.3)\n",
      "Requirement already satisfied: asttokens in c:\\users\\mark\\anaconda3\\envs\\gee\\lib\\site-packages (from stack-data->ipython>=6.1.0->ipywidgets->ipyfilechooser>=0.6.0->geemap) (2.0.5)\n",
      "Requirement already satisfied: pure-eval in c:\\users\\mark\\anaconda3\\envs\\gee\\lib\\site-packages (from stack-data->ipython>=6.1.0->ipywidgets->ipyfilechooser>=0.6.0->geemap) (0.2.2)\n",
      "Downloading geemap-0.35.1-py2.py3-none-any.whl (2.3 MB)\n",
      "   ---------------------------------------- 0.0/2.3 MB ? eta -:--:--\n",
      "   --------- ------------------------------ 0.5/2.3 MB 3.4 MB/s eta 0:00:01\n",
      "   --------------------------- ------------ 1.6/2.3 MB 4.0 MB/s eta 0:00:01\n",
      "   --------------------------- ------------ 1.6/2.3 MB 4.0 MB/s eta 0:00:01\n",
      "   --------------------------- ------------ 1.6/2.3 MB 4.0 MB/s eta 0:00:01\n",
      "   ---------------------------------------- 2.3/2.3 MB 2.2 MB/s eta 0:00:00\n",
      "Downloading earthengine_api-1.4.0-py3-none-any.whl (457 kB)\n",
      "Downloading eerepr-0.0.4-py3-none-any.whl (9.7 kB)\n",
      "Downloading folium-0.18.0-py2.py3-none-any.whl (108 kB)\n",
      "Downloading ipyfilechooser-0.6.0-py3-none-any.whl (11 kB)\n",
      "Downloading ipyleaflet-0.19.2-py3-none-any.whl (31 kB)\n",
      "Downloading pyshp-2.3.1-py2.py3-none-any.whl (46 kB)\n",
      "Downloading bqplot-0.12.43-py2.py3-none-any.whl (1.2 MB)\n",
      "   ---------------------------------------- 0.0/1.2 MB ? eta -:--:--\n",
      "   ---------------- ----------------------- 0.5/1.2 MB 16.4 MB/s eta 0:00:01\n",
      "   --------------------------------- ------ 1.0/1.2 MB 2.6 MB/s eta 0:00:01\n",
      "   ---------------------------------------- 1.2/1.2 MB 2.1 MB/s eta 0:00:00\n",
      "Downloading numpy-2.1.3-cp311-cp311-win_amd64.whl (12.9 MB)\n",
      "   ---------------------------------------- 0.0/12.9 MB ? eta -:--:--\n",
      "   -- ------------------------------------- 0.8/12.9 MB 4.8 MB/s eta 0:00:03\n",
      "   ---- ----------------------------------- 1.6/12.9 MB 4.2 MB/s eta 0:00:03\n",
      "   ------- -------------------------------- 2.4/12.9 MB 4.1 MB/s eta 0:00:03\n",
      "   ------- -------------------------------- 2.4/12.9 MB 4.1 MB/s eta 0:00:03\n",
      "   --------- ------------------------------ 3.1/12.9 MB 3.3 MB/s eta 0:00:03\n",
      "   ----------- ---------------------------- 3.7/12.9 MB 3.1 MB/s eta 0:00:03\n",
      "   ------------ --------------------------- 3.9/12.9 MB 2.7 MB/s eta 0:00:04\n",
      "   ------------- -------------------------- 4.2/12.9 MB 2.5 MB/s eta 0:00:04\n",
      "   ------------- -------------------------- 4.2/12.9 MB 2.5 MB/s eta 0:00:04\n",
      "   -------------- ------------------------- 4.7/12.9 MB 2.2 MB/s eta 0:00:04\n",
      "   ----------------- ---------------------- 5.5/12.9 MB 2.4 MB/s eta 0:00:04\n",
      "   ------------------- -------------------- 6.3/12.9 MB 2.5 MB/s eta 0:00:03\n",
      "   ---------------------- ----------------- 7.3/12.9 MB 2.7 MB/s eta 0:00:03\n",
      "   ------------------------- -------------- 8.1/12.9 MB 2.8 MB/s eta 0:00:02\n",
      "   --------------------------- ------------ 8.9/12.9 MB 2.9 MB/s eta 0:00:02\n",
      "   ------------------------------ --------- 10.0/12.9 MB 3.0 MB/s eta 0:00:01\n",
      "   ---------------------------------- ----- 11.0/12.9 MB 3.1 MB/s eta 0:00:01\n",
      "   ------------------------------------ --- 11.8/12.9 MB 3.1 MB/s eta 0:00:01\n",
      "   ---------------------------------------  12.8/12.9 MB 3.2 MB/s eta 0:00:01\n",
      "   ---------------------------------------- 12.9/12.9 MB 3.1 MB/s eta 0:00:00\n",
      "Downloading pandas-2.2.3-cp311-cp311-win_amd64.whl (11.6 MB)\n",
      "   ---------------------------------------- 0.0/11.6 MB ? eta -:--:--\n",
      "   -- ------------------------------------- 0.8/11.6 MB 3.7 MB/s eta 0:00:03\n",
      "   ----- ---------------------------------- 1.6/11.6 MB 4.0 MB/s eta 0:00:03\n",
      "   ------- -------------------------------- 2.1/11.6 MB 3.3 MB/s eta 0:00:03\n",
      "   -------- ------------------------------- 2.4/11.6 MB 3.0 MB/s eta 0:00:04\n",
      "   --------- ------------------------------ 2.9/11.6 MB 2.7 MB/s eta 0:00:04\n",
      "   ----------- ---------------------------- 3.4/11.6 MB 2.6 MB/s eta 0:00:04\n",
      "   ------------- -------------------------- 3.9/11.6 MB 2.6 MB/s eta 0:00:03\n",
      "   --------------- ------------------------ 4.5/11.6 MB 2.6 MB/s eta 0:00:03\n",
      "   ----------------- ---------------------- 5.0/11.6 MB 2.6 MB/s eta 0:00:03\n",
      "   ------------------ --------------------- 5.5/11.6 MB 2.5 MB/s eta 0:00:03\n",
      "   ------------------- -------------------- 5.8/11.6 MB 2.5 MB/s eta 0:00:03\n",
      "   --------------------- ------------------ 6.3/11.6 MB 2.5 MB/s eta 0:00:03\n",
      "   ------------------------ --------------- 7.1/11.6 MB 2.5 MB/s eta 0:00:02\n",
      "   --------------------------- ------------ 7.9/11.6 MB 2.6 MB/s eta 0:00:02\n",
      "   ------------------------------ --------- 8.9/11.6 MB 2.7 MB/s eta 0:00:01\n",
      "   --------------------------------- ------ 9.7/11.6 MB 2.8 MB/s eta 0:00:01\n",
      "   ----------------------------------- ---- 10.2/11.6 MB 2.8 MB/s eta 0:00:01\n",
      "   ------------------------------------- -- 10.7/11.6 MB 2.8 MB/s eta 0:00:01\n",
      "   ---------------------------------------  11.5/11.6 MB 2.8 MB/s eta 0:00:01\n",
      "   ---------------------------------------- 11.6/11.6 MB 2.8 MB/s eta 0:00:00\n",
      "Downloading colour-0.1.5-py2.py3-none-any.whl (23 kB)\n",
      "Downloading geocoder-1.38.1-py2.py3-none-any.whl (98 kB)\n",
      "Downloading ipyevents-2.0.2-py3-none-any.whl (101 kB)\n",
      "Downloading ipytree-0.2.2-py2.py3-none-any.whl (1.3 MB)\n",
      "   ---------------------------------------- 0.0/1.3 MB ? eta -:--:--\n",
      "   ------------------------ --------------- 0.8/1.3 MB 3.7 MB/s eta 0:00:01\n",
      "   ---------------------------------------- 1.3/1.3 MB 3.4 MB/s eta 0:00:00\n",
      "Downloading matplotlib-3.9.2-cp311-cp311-win_amd64.whl (7.8 MB)\n",
      "   ---------------------------------------- 0.0/7.8 MB ? eta -:--:--\n",
      "   ---- ----------------------------------- 0.8/7.8 MB 3.7 MB/s eta 0:00:02\n",
      "   -------- ------------------------------- 1.6/7.8 MB 4.0 MB/s eta 0:00:02\n",
      "   ------------ --------------------------- 2.4/7.8 MB 3.6 MB/s eta 0:00:02\n",
      "   -------------- ------------------------- 2.9/7.8 MB 3.5 MB/s eta 0:00:02\n",
      "   ------------------ --------------------- 3.7/7.8 MB 3.5 MB/s eta 0:00:02\n",
      "   --------------------- ------------------ 4.2/7.8 MB 3.4 MB/s eta 0:00:02\n",
      "   ------------------------- -------------- 5.0/7.8 MB 3.4 MB/s eta 0:00:01\n",
      "   ---------------------------- ----------- 5.5/7.8 MB 3.4 MB/s eta 0:00:01\n",
      "   ------------------------------ --------- 6.0/7.8 MB 3.2 MB/s eta 0:00:01\n",
      "   --------------------------------- ------ 6.6/7.8 MB 3.2 MB/s eta 0:00:01\n",
      "   ------------------------------------- -- 7.3/7.8 MB 3.2 MB/s eta 0:00:01\n",
      "   -------------------------------------- - 7.6/7.8 MB 3.0 MB/s eta 0:00:01\n",
      "   ---------------------------------------- 7.8/7.8 MB 3.0 MB/s eta 0:00:00\n",
      "Downloading plotly-5.24.1-py3-none-any.whl (19.1 MB)\n",
      "   ---------------------------------------- 0.0/19.1 MB ? eta -:--:--\n",
      "    --------------------------------------- 0.3/19.1 MB ? eta -:--:--\n",
      "   - -------------------------------------- 0.8/19.1 MB 2.4 MB/s eta 0:00:08\n",
      "   -- ------------------------------------- 1.3/19.1 MB 2.4 MB/s eta 0:00:08\n",
      "   --- ------------------------------------ 1.8/19.1 MB 2.6 MB/s eta 0:00:07\n",
      "   ---- ----------------------------------- 2.1/19.1 MB 2.3 MB/s eta 0:00:08\n",
      "   ----- ---------------------------------- 2.6/19.1 MB 2.3 MB/s eta 0:00:08\n",
      "   ------- -------------------------------- 3.4/19.1 MB 2.5 MB/s eta 0:00:07\n",
      "   -------- ------------------------------- 4.2/19.1 MB 2.7 MB/s eta 0:00:06\n",
      "   ---------- ----------------------------- 5.0/19.1 MB 2.8 MB/s eta 0:00:05\n",
      "   ----------- ---------------------------- 5.5/19.1 MB 2.9 MB/s eta 0:00:05\n",
      "   ------------ --------------------------- 6.0/19.1 MB 2.8 MB/s eta 0:00:05\n",
      "   -------------- ------------------------- 6.8/19.1 MB 2.9 MB/s eta 0:00:05\n",
      "   --------------- ------------------------ 7.3/19.1 MB 2.9 MB/s eta 0:00:05\n",
      "   ----------------- ---------------------- 8.1/19.1 MB 2.9 MB/s eta 0:00:04\n",
      "   ------------------ --------------------- 8.9/19.1 MB 2.9 MB/s eta 0:00:04\n",
      "   ------------------- -------------------- 9.4/19.1 MB 3.0 MB/s eta 0:00:04\n",
      "   --------------------- ------------------ 10.2/19.1 MB 3.0 MB/s eta 0:00:03\n",
      "   ---------------------- ----------------- 10.7/19.1 MB 3.0 MB/s eta 0:00:03\n",
      "   ------------------------ --------------- 11.5/19.1 MB 3.0 MB/s eta 0:00:03\n",
      "   ------------------------- -------------- 12.1/19.1 MB 3.0 MB/s eta 0:00:03\n",
      "   -------------------------- ------------- 12.6/19.1 MB 2.9 MB/s eta 0:00:03\n",
      "   -------------------------- ------------- 12.8/19.1 MB 2.9 MB/s eta 0:00:03\n",
      "   ---------------------------- ----------- 13.4/19.1 MB 2.9 MB/s eta 0:00:02\n",
      "   ----------------------------- ---------- 13.9/19.1 MB 2.8 MB/s eta 0:00:02\n",
      "   ------------------------------ --------- 14.4/19.1 MB 2.8 MB/s eta 0:00:02\n",
      "   ------------------------------ --------- 14.4/19.1 MB 2.8 MB/s eta 0:00:02\n",
      "   ------------------------------ --------- 14.7/19.1 MB 2.7 MB/s eta 0:00:02\n",
      "   ------------------------------- -------- 14.9/19.1 MB 2.7 MB/s eta 0:00:02\n",
      "   ------------------------------- -------- 14.9/19.1 MB 2.7 MB/s eta 0:00:02\n",
      "   --------------------------------- ------ 15.7/19.1 MB 2.6 MB/s eta 0:00:02\n",
      "   ---------------------------------- ----- 16.3/19.1 MB 2.6 MB/s eta 0:00:02\n",
      "   ----------------------------------- ---- 16.8/19.1 MB 2.6 MB/s eta 0:00:01\n",
      "   ------------------------------------ --- 17.3/19.1 MB 2.5 MB/s eta 0:00:01\n",
      "   ------------------------------------- -- 17.8/19.1 MB 2.5 MB/s eta 0:00:01\n",
      "   ------------------------------------- -- 17.8/19.1 MB 2.5 MB/s eta 0:00:01\n",
      "   ------------------------------------- -- 18.1/19.1 MB 2.5 MB/s eta 0:00:01\n",
      "   -------------------------------------- - 18.4/19.1 MB 2.4 MB/s eta 0:00:01\n",
      "   ---------------------------------------- 19.1/19.1 MB 2.4 MB/s eta 0:00:00\n",
      "Downloading python_box-7.2.0-cp311-cp311-win_amd64.whl (1.2 MB)\n",
      "   ---------------------------------------- 0.0/1.2 MB ? eta -:--:--\n",
      "   ----------------- ---------------------- 0.5/1.2 MB 4.2 MB/s eta 0:00:01\n",
      "   ---------------------------------------- 1.2/1.2 MB 3.1 MB/s eta 0:00:00\n",
      "Downloading scooby-0.10.0-py3-none-any.whl (18 kB)\n",
      "Downloading branca-0.8.0-py3-none-any.whl (25 kB)\n",
      "Downloading contourpy-1.3.1-cp311-cp311-win_amd64.whl (219 kB)\n",
      "Using cached cycler-0.12.1-py3-none-any.whl (8.3 kB)\n",
      "Downloading fonttools-4.55.0-cp311-cp311-win_amd64.whl (2.2 MB)\n",
      "   ---------------------------------------- 0.0/2.2 MB ? eta -:--:--\n",
      "   -------------- ------------------------- 0.8/2.2 MB 2.8 MB/s eta 0:00:01\n",
      "   ----------------------- ---------------- 1.3/2.2 MB 3.2 MB/s eta 0:00:01\n",
      "   ---------------------------------------- 2.2/2.2 MB 3.4 MB/s eta 0:00:00\n",
      "Downloading google_api_python_client-2.154.0-py2.py3-none-any.whl (12.6 MB)\n",
      "   ---------------------------------------- 0.0/12.6 MB ? eta -:--:--\n",
      "   - -------------------------------------- 0.5/12.6 MB 3.4 MB/s eta 0:00:04\n",
      "   --- ------------------------------------ 1.0/12.6 MB 2.5 MB/s eta 0:00:05\n",
      "   ---- ----------------------------------- 1.3/12.6 MB 2.8 MB/s eta 0:00:05\n",
      "   ------- -------------------------------- 2.4/12.6 MB 2.9 MB/s eta 0:00:04\n",
      "   -------- ------------------------------- 2.6/12.6 MB 2.9 MB/s eta 0:00:04\n",
      "   --------- ------------------------------ 2.9/12.6 MB 2.3 MB/s eta 0:00:05\n",
      "   ------------- -------------------------- 4.2/12.6 MB 2.9 MB/s eta 0:00:03\n",
      "   --------------- ------------------------ 4.7/12.6 MB 2.9 MB/s eta 0:00:03\n",
      "   ---------------- ----------------------- 5.2/12.6 MB 2.8 MB/s eta 0:00:03\n",
      "   ----------------- ---------------------- 5.5/12.6 MB 2.7 MB/s eta 0:00:03\n",
      "   -------------------- ------------------- 6.3/12.6 MB 2.7 MB/s eta 0:00:03\n",
      "   --------------------- ------------------ 6.8/12.6 MB 2.8 MB/s eta 0:00:03\n",
      "   ------------------------ --------------- 7.6/12.6 MB 2.8 MB/s eta 0:00:02\n",
      "   -------------------------- ------------- 8.4/12.6 MB 2.9 MB/s eta 0:00:02\n",
      "   --------------------------- ------------ 8.7/12.6 MB 2.9 MB/s eta 0:00:02\n",
      "   ---------------------------- ----------- 8.9/12.6 MB 2.8 MB/s eta 0:00:02\n",
      "   ------------------------------ --------- 9.4/12.6 MB 2.7 MB/s eta 0:00:02\n",
      "   ------------------------------- -------- 10.0/12.6 MB 2.7 MB/s eta 0:00:01\n",
      "   -------------------------------- ------- 10.2/12.6 MB 2.6 MB/s eta 0:00:01\n",
      "   -------------------------------- ------- 10.2/12.6 MB 2.6 MB/s eta 0:00:01\n",
      "   ----------------------------------- ---- 11.3/12.6 MB 2.6 MB/s eta 0:00:01\n",
      "   ------------------------------------ --- 11.5/12.6 MB 2.5 MB/s eta 0:00:01\n",
      "   ------------------------------------- -- 11.8/12.6 MB 2.5 MB/s eta 0:00:01\n",
      "   ------------------------------------- -- 11.8/12.6 MB 2.5 MB/s eta 0:00:01\n",
      "   -------------------------------------- - 12.1/12.6 MB 2.3 MB/s eta 0:00:01\n",
      "   ---------------------------------------- 12.6/12.6 MB 2.4 MB/s eta 0:00:00\n",
      "Downloading google_auth-2.36.0-py2.py3-none-any.whl (209 kB)\n",
      "Downloading google_auth_httplib2-0.2.0-py2.py3-none-any.whl (9.3 kB)\n",
      "Downloading httplib2-0.22.0-py3-none-any.whl (96 kB)\n",
      "Downloading ipywidgets-8.1.5-py3-none-any.whl (139 kB)\n",
      "Downloading jupyter_leaflet-0.19.2-py3-none-any.whl (1.1 MB)\n",
      "   ---------------------------------------- 0.0/1.1 MB ? eta -:--:--\n",
      "   ---------------------------------------- 1.1/1.1 MB 5.8 MB/s eta 0:00:00\n",
      "Downloading kiwisolver-1.4.7-cp311-cp311-win_amd64.whl (56 kB)\n",
      "Downloading pillow-11.0.0-cp311-cp311-win_amd64.whl (2.6 MB)\n",
      "   ---------------------------------------- 0.0/2.6 MB ? eta -:--:--\n",
      "   ---------------------------------------- 0.0/2.6 MB ? eta -:--:--\n",
      "   ---- ----------------------------------- 0.3/2.6 MB ? eta -:--:--\n",
      "   -------- ------------------------------- 0.5/2.6 MB 1.2 MB/s eta 0:00:02\n",
      "   ------------ --------------------------- 0.8/2.6 MB 1.2 MB/s eta 0:00:02\n",
      "   ---------------- ----------------------- 1.0/2.6 MB 1.3 MB/s eta 0:00:02\n",
      "   -------------------- ------------------- 1.3/2.6 MB 1.4 MB/s eta 0:00:01\n",
      "   -------------------------------- ------- 2.1/2.6 MB 1.6 MB/s eta 0:00:01\n",
      "   ---------------------------------------- 2.6/2.6 MB 1.7 MB/s eta 0:00:00\n",
      "Using cached pyparsing-3.2.0-py3-none-any.whl (106 kB)\n",
      "Downloading tenacity-9.0.0-py3-none-any.whl (28 kB)\n",
      "Downloading traittypes-0.2.1-py2.py3-none-any.whl (8.6 kB)\n",
      "Using cached tzdata-2024.2-py2.py3-none-any.whl (346 kB)\n",
      "Downloading xyzservices-2024.9.0-py3-none-any.whl (85 kB)\n",
      "Downloading click-8.1.7-py3-none-any.whl (97 kB)\n",
      "Downloading future-1.0.0-py3-none-any.whl (491 kB)\n",
      "Downloading google_cloud_storage-2.18.2-py2.py3-none-any.whl (130 kB)\n",
      "Downloading ratelim-0.1.6-py2.py3-none-any.whl (4.0 kB)\n",
      "Downloading cachetools-5.5.0-py3-none-any.whl (9.5 kB)\n",
      "Downloading google_api_core-2.23.0-py3-none-any.whl (156 kB)\n",
      "Downloading google_cloud_core-2.4.1-py2.py3-none-any.whl (29 kB)\n",
      "Downloading google_crc32c-1.6.0-cp311-cp311-win_amd64.whl (33 kB)\n",
      "Downloading google_resumable_media-2.7.2-py2.py3-none-any.whl (81 kB)\n",
      "Downloading jupyterlab_widgets-3.0.13-py3-none-any.whl (214 kB)\n",
      "Downloading pyasn1_modules-0.4.1-py3-none-any.whl (181 kB)\n",
      "Downloading rsa-4.9-py3-none-any.whl (34 kB)\n",
      "Downloading uritemplate-4.1.1-py2.py3-none-any.whl (10 kB)\n",
      "Downloading widgetsnbextension-4.0.13-py3-none-any.whl (2.3 MB)\n",
      "   ---------------------------------------- 0.0/2.3 MB ? eta -:--:--\n",
      "   ---- ----------------------------------- 0.3/2.3 MB ? eta -:--:--\n",
      "   ------------- -------------------------- 0.8/2.3 MB 1.8 MB/s eta 0:00:01\n",
      "   ----------------- ---------------------- 1.0/2.3 MB 1.7 MB/s eta 0:00:01\n",
      "   ---------------------- ----------------- 1.3/2.3 MB 1.6 MB/s eta 0:00:01\n",
      "   -------------------------- ------------- 1.6/2.3 MB 1.6 MB/s eta 0:00:01\n",
      "   ---------------------------------------- 2.3/2.3 MB 1.8 MB/s eta 0:00:00\n",
      "Downloading googleapis_common_protos-1.66.0-py2.py3-none-any.whl (221 kB)\n",
      "Downloading proto_plus-1.25.0-py3-none-any.whl (50 kB)\n",
      "Downloading protobuf-5.28.3-cp310-abi3-win_amd64.whl (431 kB)\n",
      "Downloading pyasn1-0.6.1-py3-none-any.whl (83 kB)\n",
      "Building wheels for collected packages: pyperclip\n",
      "  Building wheel for pyperclip (setup.py): started\n",
      "  Building wheel for pyperclip (setup.py): finished with status 'done'\n",
      "  Created wheel for pyperclip: filename=pyperclip-1.9.0-py3-none-any.whl size=11019 sha256=72fb86ecc95500d5beae2b0b95c8b3f5875015ca2a4fb776efdf8bd5a48f8311\n",
      "  Stored in directory: c:\\users\\mark\\appdata\\local\\pip\\cache\\wheels\\e8\\e7\\56\\591cb88ba1783b38c40d584026e766aac9c3a048e34128ce8b\n",
      "Successfully built pyperclip\n",
      "Installing collected packages: pyperclip, colour, xyzservices, widgetsnbextension, uritemplate, tzdata, traittypes, tenacity, scooby, ratelim, python-box, pyshp, pyparsing, pyasn1, protobuf, pillow, numpy, kiwisolver, jupyterlab-widgets, jupyter-leaflet, google-crc32c, future, fonttools, cycler, click, cachetools, rsa, pyasn1-modules, proto-plus, plotly, pandas, httplib2, googleapis-common-protos, google-resumable-media, geocoder, contourpy, branca, matplotlib, google-auth, folium, ipywidgets, google-auth-httplib2, google-api-core, ipytree, ipyleaflet, ipyfilechooser, ipyevents, google-cloud-core, google-api-python-client, bqplot, google-cloud-storage, earthengine-api, eerepr, geemap\n",
      "Successfully installed bqplot-0.12.43 branca-0.8.0 cachetools-5.5.0 click-8.1.7 colour-0.1.5 contourpy-1.3.1 cycler-0.12.1 earthengine-api-1.4.0 eerepr-0.0.4 folium-0.18.0 fonttools-4.55.0 future-1.0.0 geemap-0.35.1 geocoder-1.38.1 google-api-core-2.23.0 google-api-python-client-2.154.0 google-auth-2.36.0 google-auth-httplib2-0.2.0 google-cloud-core-2.4.1 google-cloud-storage-2.18.2 google-crc32c-1.6.0 google-resumable-media-2.7.2 googleapis-common-protos-1.66.0 httplib2-0.22.0 ipyevents-2.0.2 ipyfilechooser-0.6.0 ipyleaflet-0.19.2 ipytree-0.2.2 ipywidgets-8.1.5 jupyter-leaflet-0.19.2 jupyterlab-widgets-3.0.13 kiwisolver-1.4.7 matplotlib-3.9.2 numpy-2.1.3 pandas-2.2.3 pillow-11.0.0 plotly-5.24.1 proto-plus-1.25.0 protobuf-5.28.3 pyasn1-0.6.1 pyasn1-modules-0.4.1 pyparsing-3.2.0 pyperclip-1.9.0 pyshp-2.3.1 python-box-7.2.0 ratelim-0.1.6 rsa-4.9 scooby-0.10.0 tenacity-9.0.0 traittypes-0.2.1 tzdata-2024.2 uritemplate-4.1.1 widgetsnbextension-4.0.13 xyzservices-2024.9.0\n"
     ]
    }
   ],
   "source": [
    "!pip install geemap"
   ]
  },
  {
   "cell_type": "markdown",
   "id": "f0e07599",
   "metadata": {},
   "source": [
    "### Import Geemap"
   ]
  },
  {
   "cell_type": "code",
   "execution_count": 37,
   "id": "60e180f9",
   "metadata": {},
   "outputs": [
    {
     "data": {
      "text/html": [
       "\n",
       "            <style>\n",
       "                .geemap-dark {\n",
       "                    --jp-widgets-color: white;\n",
       "                    --jp-widgets-label-color: white;\n",
       "                    --jp-ui-font-color1: white;\n",
       "                    --jp-layout-color2: #454545;\n",
       "                    background-color: #383838;\n",
       "                }\n",
       "\n",
       "                .geemap-dark .jupyter-button {\n",
       "                    --jp-layout-color3: #383838;\n",
       "                }\n",
       "\n",
       "                .geemap-colab {\n",
       "                    background-color: var(--colab-primary-surface-color, white);\n",
       "                }\n",
       "\n",
       "                .geemap-colab .jupyter-button {\n",
       "                    --jp-layout-color3: var(--colab-primary-surface-color, white);\n",
       "                }\n",
       "            </style>\n",
       "            "
      ],
      "text/plain": [
       "<IPython.core.display.HTML object>"
      ]
     },
     "metadata": {},
     "output_type": "display_data"
    }
   ],
   "source": [
    "import geemap"
   ]
  },
  {
   "cell_type": "code",
   "execution_count": 2,
   "id": "55831710",
   "metadata": {},
   "outputs": [
    {
     "data": {
      "text/html": [
       "\n",
       "            <style>\n",
       "                .geemap-dark {\n",
       "                    --jp-widgets-color: white;\n",
       "                    --jp-widgets-label-color: white;\n",
       "                    --jp-ui-font-color1: white;\n",
       "                    --jp-layout-color2: #454545;\n",
       "                    background-color: #383838;\n",
       "                }\n",
       "\n",
       "                .geemap-dark .jupyter-button {\n",
       "                    --jp-layout-color3: #383838;\n",
       "                }\n",
       "\n",
       "                .geemap-colab {\n",
       "                    background-color: var(--colab-primary-surface-color, white);\n",
       "                }\n",
       "\n",
       "                .geemap-colab .jupyter-button {\n",
       "                    --jp-layout-color3: var(--colab-primary-surface-color, white);\n",
       "                }\n",
       "            </style>\n",
       "            "
      ],
      "text/plain": [
       "<IPython.core.display.HTML object>"
      ]
     },
     "metadata": {},
     "output_type": "display_data"
    }
   ],
   "source": [
    "import ipyleaflet"
   ]
  },
  {
   "cell_type": "markdown",
   "id": "ad334f82",
   "metadata": {},
   "source": [
    "### Verification for Earth Engine to Notebooks"
   ]
  },
  {
   "cell_type": "code",
   "execution_count": 3,
   "id": "5ffc83b1",
   "metadata": {},
   "outputs": [
    {
     "data": {
      "text/html": [
       "\n",
       "            <style>\n",
       "                .geemap-dark {\n",
       "                    --jp-widgets-color: white;\n",
       "                    --jp-widgets-label-color: white;\n",
       "                    --jp-ui-font-color1: white;\n",
       "                    --jp-layout-color2: #454545;\n",
       "                    background-color: #383838;\n",
       "                }\n",
       "\n",
       "                .geemap-dark .jupyter-button {\n",
       "                    --jp-layout-color3: #383838;\n",
       "                }\n",
       "\n",
       "                .geemap-colab {\n",
       "                    background-color: var(--colab-primary-surface-color, white);\n",
       "                }\n",
       "\n",
       "                .geemap-colab .jupyter-button {\n",
       "                    --jp-layout-color3: var(--colab-primary-surface-color, white);\n",
       "                }\n",
       "            </style>\n",
       "            "
      ],
      "text/plain": [
       "<IPython.core.display.HTML object>"
      ]
     },
     "metadata": {},
     "output_type": "display_data"
    }
   ],
   "source": [
    "m = ipyleaflet.Map()"
   ]
  },
  {
   "cell_type": "code",
   "execution_count": 4,
   "id": "5b1e06ff",
   "metadata": {},
   "outputs": [
    {
     "data": {
      "text/html": [
       "\n",
       "            <style>\n",
       "                .geemap-dark {\n",
       "                    --jp-widgets-color: white;\n",
       "                    --jp-widgets-label-color: white;\n",
       "                    --jp-ui-font-color1: white;\n",
       "                    --jp-layout-color2: #454545;\n",
       "                    background-color: #383838;\n",
       "                }\n",
       "\n",
       "                .geemap-dark .jupyter-button {\n",
       "                    --jp-layout-color3: #383838;\n",
       "                }\n",
       "\n",
       "                .geemap-colab {\n",
       "                    background-color: var(--colab-primary-surface-color, white);\n",
       "                }\n",
       "\n",
       "                .geemap-colab .jupyter-button {\n",
       "                    --jp-layout-color3: var(--colab-primary-surface-color, white);\n",
       "                }\n",
       "            </style>\n",
       "            "
      ],
      "text/plain": [
       "<IPython.core.display.HTML object>"
      ]
     },
     "metadata": {},
     "output_type": "display_data"
    },
    {
     "data": {
      "application/vnd.jupyter.widget-view+json": {
       "model_id": "7277762ce8124e88a037d684f2c9d606",
       "version_major": 2,
       "version_minor": 0
      },
      "text/plain": [
       "Map(center=[0.0, 0.0], controls=(ZoomControl(options=['position', 'zoom_in_text', 'zoom_in_title', 'zoom_out_t…"
      ]
     },
     "execution_count": 4,
     "metadata": {},
     "output_type": "execute_result"
    }
   ],
   "source": [
    "m"
   ]
  },
  {
   "cell_type": "markdown",
   "id": "2eeed0e5-8ad3-46fc-9133-e2ce9f30edb0",
   "metadata": {},
   "source": [
    "### Import DEM image saved in GEE"
   ]
  },
  {
   "cell_type": "code",
   "execution_count": 38,
   "id": "2ce6f939",
   "metadata": {},
   "outputs": [
    {
     "data": {
      "text/html": [
       "\n",
       "            <style>\n",
       "                .geemap-dark {\n",
       "                    --jp-widgets-color: white;\n",
       "                    --jp-widgets-label-color: white;\n",
       "                    --jp-ui-font-color1: white;\n",
       "                    --jp-layout-color2: #454545;\n",
       "                    background-color: #383838;\n",
       "                }\n",
       "\n",
       "                .geemap-dark .jupyter-button {\n",
       "                    --jp-layout-color3: #383838;\n",
       "                }\n",
       "\n",
       "                .geemap-colab {\n",
       "                    background-color: var(--colab-primary-surface-color, white);\n",
       "                }\n",
       "\n",
       "                .geemap-colab .jupyter-button {\n",
       "                    --jp-layout-color3: var(--colab-primary-surface-color, white);\n",
       "                }\n",
       "            </style>\n",
       "            "
      ],
      "text/plain": [
       "<IPython.core.display.HTML object>"
      ]
     },
     "metadata": {},
     "output_type": "display_data"
    }
   ],
   "source": [
    "DEM = ee.Image('projects/ee-maichmarc/assets/my_dem')"
   ]
  },
  {
   "cell_type": "markdown",
   "id": "e128710d-9bbb-4db0-b47e-307c0be45e68",
   "metadata": {},
   "source": [
    "### Create Slope map from DEM data"
   ]
  },
  {
   "cell_type": "code",
   "execution_count": 39,
   "id": "037c0cf5",
   "metadata": {},
   "outputs": [
    {
     "data": {
      "text/html": [
       "\n",
       "            <style>\n",
       "                .geemap-dark {\n",
       "                    --jp-widgets-color: white;\n",
       "                    --jp-widgets-label-color: white;\n",
       "                    --jp-ui-font-color1: white;\n",
       "                    --jp-layout-color2: #454545;\n",
       "                    background-color: #383838;\n",
       "                }\n",
       "\n",
       "                .geemap-dark .jupyter-button {\n",
       "                    --jp-layout-color3: #383838;\n",
       "                }\n",
       "\n",
       "                .geemap-colab {\n",
       "                    background-color: var(--colab-primary-surface-color, white);\n",
       "                }\n",
       "\n",
       "                .geemap-colab .jupyter-button {\n",
       "                    --jp-layout-color3: var(--colab-primary-surface-color, white);\n",
       "                }\n",
       "            </style>\n",
       "            "
      ],
      "text/plain": [
       "<IPython.core.display.HTML object>"
      ]
     },
     "metadata": {},
     "output_type": "display_data"
    }
   ],
   "source": [
    "slope = ee.Terrain.slope(DEM)\n",
    "slopevis = {'min':0, 'max':35, 'palette': ['green', 'yellow', 'red']}"
   ]
  },
  {
   "cell_type": "markdown",
   "id": "dc58595a-9f3f-495a-a97e-37ffe659ea3b",
   "metadata": {},
   "source": [
    "### Display DEM map"
   ]
  },
  {
   "cell_type": "code",
   "execution_count": 40,
   "id": "eed0802e",
   "metadata": {},
   "outputs": [
    {
     "data": {
      "text/html": [
       "\n",
       "            <style>\n",
       "                .geemap-dark {\n",
       "                    --jp-widgets-color: white;\n",
       "                    --jp-widgets-label-color: white;\n",
       "                    --jp-ui-font-color1: white;\n",
       "                    --jp-layout-color2: #454545;\n",
       "                    background-color: #383838;\n",
       "                }\n",
       "\n",
       "                .geemap-dark .jupyter-button {\n",
       "                    --jp-layout-color3: #383838;\n",
       "                }\n",
       "\n",
       "                .geemap-colab {\n",
       "                    background-color: var(--colab-primary-surface-color, white);\n",
       "                }\n",
       "\n",
       "                .geemap-colab .jupyter-button {\n",
       "                    --jp-layout-color3: var(--colab-primary-surface-color, white);\n",
       "                }\n",
       "            </style>\n",
       "            "
      ],
      "text/plain": [
       "<IPython.core.display.HTML object>"
      ]
     },
     "metadata": {},
     "output_type": "display_data"
    }
   ],
   "source": [
    "DEM_map = geemap.Map()"
   ]
  },
  {
   "cell_type": "code",
   "execution_count": 41,
   "id": "b33c2ba0",
   "metadata": {},
   "outputs": [
    {
     "data": {
      "text/html": [
       "\n",
       "            <style>\n",
       "                .geemap-dark {\n",
       "                    --jp-widgets-color: white;\n",
       "                    --jp-widgets-label-color: white;\n",
       "                    --jp-ui-font-color1: white;\n",
       "                    --jp-layout-color2: #454545;\n",
       "                    background-color: #383838;\n",
       "                }\n",
       "\n",
       "                .geemap-dark .jupyter-button {\n",
       "                    --jp-layout-color3: #383838;\n",
       "                }\n",
       "\n",
       "                .geemap-colab {\n",
       "                    background-color: var(--colab-primary-surface-color, white);\n",
       "                }\n",
       "\n",
       "                .geemap-colab .jupyter-button {\n",
       "                    --jp-layout-color3: var(--colab-primary-surface-color, white);\n",
       "                }\n",
       "            </style>\n",
       "            "
      ],
      "text/plain": [
       "<IPython.core.display.HTML object>"
      ]
     },
     "metadata": {},
     "output_type": "display_data"
    },
    {
     "data": {
      "application/vnd.jupyter.widget-view+json": {
       "model_id": "3ef354c267f84bb182350ea9515f742f",
       "version_major": 2,
       "version_minor": 0
      },
      "text/plain": [
       "Map(center=[0, 0], controls=(WidgetControl(options=['position', 'transparent_bg'], widget=SearchDataGUI(childr…"
      ]
     },
     "execution_count": 41,
     "metadata": {},
     "output_type": "execute_result"
    }
   ],
   "source": [
    "DEM_map.addLayer(DEM.clip(NMA), {'min':0, 'max':4000}, 'DEM')\n",
    "DEM_map"
   ]
  },
  {
   "cell_type": "markdown",
   "id": "59cb4194-6e13-48bc-ae9a-c84a4406cdf5",
   "metadata": {},
   "source": [
    "### Display slope map"
   ]
  },
  {
   "cell_type": "code",
   "execution_count": 42,
   "id": "30e95f74",
   "metadata": {},
   "outputs": [
    {
     "data": {
      "text/html": [
       "\n",
       "            <style>\n",
       "                .geemap-dark {\n",
       "                    --jp-widgets-color: white;\n",
       "                    --jp-widgets-label-color: white;\n",
       "                    --jp-ui-font-color1: white;\n",
       "                    --jp-layout-color2: #454545;\n",
       "                    background-color: #383838;\n",
       "                }\n",
       "\n",
       "                .geemap-dark .jupyter-button {\n",
       "                    --jp-layout-color3: #383838;\n",
       "                }\n",
       "\n",
       "                .geemap-colab {\n",
       "                    background-color: var(--colab-primary-surface-color, white);\n",
       "                }\n",
       "\n",
       "                .geemap-colab .jupyter-button {\n",
       "                    --jp-layout-color3: var(--colab-primary-surface-color, white);\n",
       "                }\n",
       "            </style>\n",
       "            "
      ],
      "text/plain": [
       "<IPython.core.display.HTML object>"
      ]
     },
     "metadata": {},
     "output_type": "display_data"
    }
   ],
   "source": [
    "Slope_map = geemap.Map()"
   ]
  },
  {
   "cell_type": "code",
   "execution_count": 43,
   "id": "a22ed352",
   "metadata": {},
   "outputs": [
    {
     "data": {
      "text/html": [
       "\n",
       "            <style>\n",
       "                .geemap-dark {\n",
       "                    --jp-widgets-color: white;\n",
       "                    --jp-widgets-label-color: white;\n",
       "                    --jp-ui-font-color1: white;\n",
       "                    --jp-layout-color2: #454545;\n",
       "                    background-color: #383838;\n",
       "                }\n",
       "\n",
       "                .geemap-dark .jupyter-button {\n",
       "                    --jp-layout-color3: #383838;\n",
       "                }\n",
       "\n",
       "                .geemap-colab {\n",
       "                    background-color: var(--colab-primary-surface-color, white);\n",
       "                }\n",
       "\n",
       "                .geemap-colab .jupyter-button {\n",
       "                    --jp-layout-color3: var(--colab-primary-surface-color, white);\n",
       "                }\n",
       "            </style>\n",
       "            "
      ],
      "text/plain": [
       "<IPython.core.display.HTML object>"
      ]
     },
     "metadata": {},
     "output_type": "display_data"
    },
    {
     "data": {
      "application/vnd.jupyter.widget-view+json": {
       "model_id": "c4443ae76753495b8a6d526ebd6ee877",
       "version_major": 2,
       "version_minor": 0
      },
      "text/plain": [
       "Map(center=[0, 0], controls=(WidgetControl(options=['position', 'transparent_bg'], widget=SearchDataGUI(childr…"
      ]
     },
     "execution_count": 43,
     "metadata": {},
     "output_type": "execute_result"
    }
   ],
   "source": [
    "Slope_map.addLayer(slope.clip(NMA), slopevis, 'slope')\n",
    "Slope_map"
   ]
  },
  {
   "cell_type": "markdown",
   "id": "f2c08b7a-4c75-4eb5-a8b9-06a15d5be9c6",
   "metadata": {},
   "source": [
    "### Save DEM and slope maps on Local drive"
   ]
  },
  {
   "cell_type": "code",
   "execution_count": 49,
   "id": "ca5067e4",
   "metadata": {},
   "outputs": [
    {
     "data": {
      "text/html": [
       "\n",
       "            <style>\n",
       "                .geemap-dark {\n",
       "                    --jp-widgets-color: white;\n",
       "                    --jp-widgets-label-color: white;\n",
       "                    --jp-ui-font-color1: white;\n",
       "                    --jp-layout-color2: #454545;\n",
       "                    background-color: #383838;\n",
       "                }\n",
       "\n",
       "                .geemap-dark .jupyter-button {\n",
       "                    --jp-layout-color3: #383838;\n",
       "                }\n",
       "\n",
       "                .geemap-colab {\n",
       "                    background-color: var(--colab-primary-surface-color, white);\n",
       "                }\n",
       "\n",
       "                .geemap-colab .jupyter-button {\n",
       "                    --jp-layout-color3: var(--colab-primary-surface-color, white);\n",
       "                }\n",
       "            </style>\n",
       "            "
      ],
      "text/plain": [
       "<IPython.core.display.HTML object>"
      ]
     },
     "metadata": {},
     "output_type": "display_data"
    }
   ],
   "source": [
    "filename_DEM = os.path.join(cwd, 'DEM_NMA.tif')"
   ]
  },
  {
   "cell_type": "code",
   "execution_count": 45,
   "id": "79606be2",
   "metadata": {},
   "outputs": [
    {
     "data": {
      "text/html": [
       "\n",
       "            <style>\n",
       "                .geemap-dark {\n",
       "                    --jp-widgets-color: white;\n",
       "                    --jp-widgets-label-color: white;\n",
       "                    --jp-ui-font-color1: white;\n",
       "                    --jp-layout-color2: #454545;\n",
       "                    background-color: #383838;\n",
       "                }\n",
       "\n",
       "                .geemap-dark .jupyter-button {\n",
       "                    --jp-layout-color3: #383838;\n",
       "                }\n",
       "\n",
       "                .geemap-colab {\n",
       "                    background-color: var(--colab-primary-surface-color, white);\n",
       "                }\n",
       "\n",
       "                .geemap-colab .jupyter-button {\n",
       "                    --jp-layout-color3: var(--colab-primary-surface-color, white);\n",
       "                }\n",
       "            </style>\n",
       "            "
      ],
      "text/plain": [
       "<IPython.core.display.HTML object>"
      ]
     },
     "metadata": {},
     "output_type": "display_data"
    },
    {
     "name": "stdout",
     "output_type": "stream",
     "text": [
      "Generating URL ...\n",
      "Downloading data from https://earthengine.googleapis.com/v1/projects/741521329129/thumbnails/a2f3232e99194bc4b51683dd4285527f-95e035837a0609d4d0ec9d98dc9d84ca:getPixels\n",
      "Please wait ...\n",
      "Data downloaded to C:\\Users\\MARK\n"
     ]
    }
   ],
   "source": [
    "geemap.ee_export_image(DEM.clip(NMA), filename=filename_DEM, scale=60, region=NMA_roi, file_per_band=True)"
   ]
  },
  {
   "cell_type": "code",
   "execution_count": 46,
   "id": "9f5f5b0e",
   "metadata": {},
   "outputs": [
    {
     "data": {
      "text/html": [
       "\n",
       "            <style>\n",
       "                .geemap-dark {\n",
       "                    --jp-widgets-color: white;\n",
       "                    --jp-widgets-label-color: white;\n",
       "                    --jp-ui-font-color1: white;\n",
       "                    --jp-layout-color2: #454545;\n",
       "                    background-color: #383838;\n",
       "                }\n",
       "\n",
       "                .geemap-dark .jupyter-button {\n",
       "                    --jp-layout-color3: #383838;\n",
       "                }\n",
       "\n",
       "                .geemap-colab {\n",
       "                    background-color: var(--colab-primary-surface-color, white);\n",
       "                }\n",
       "\n",
       "                .geemap-colab .jupyter-button {\n",
       "                    --jp-layout-color3: var(--colab-primary-surface-color, white);\n",
       "                }\n",
       "            </style>\n",
       "            "
      ],
      "text/plain": [
       "<IPython.core.display.HTML object>"
      ]
     },
     "metadata": {},
     "output_type": "display_data"
    }
   ],
   "source": [
    "filename_slope = os.path.join(cwd, 'slope_NMA.tif')"
   ]
  },
  {
   "cell_type": "code",
   "execution_count": 47,
   "id": "d7f1e1d3",
   "metadata": {},
   "outputs": [
    {
     "data": {
      "text/html": [
       "\n",
       "            <style>\n",
       "                .geemap-dark {\n",
       "                    --jp-widgets-color: white;\n",
       "                    --jp-widgets-label-color: white;\n",
       "                    --jp-ui-font-color1: white;\n",
       "                    --jp-layout-color2: #454545;\n",
       "                    background-color: #383838;\n",
       "                }\n",
       "\n",
       "                .geemap-dark .jupyter-button {\n",
       "                    --jp-layout-color3: #383838;\n",
       "                }\n",
       "\n",
       "                .geemap-colab {\n",
       "                    background-color: var(--colab-primary-surface-color, white);\n",
       "                }\n",
       "\n",
       "                .geemap-colab .jupyter-button {\n",
       "                    --jp-layout-color3: var(--colab-primary-surface-color, white);\n",
       "                }\n",
       "            </style>\n",
       "            "
      ],
      "text/plain": [
       "<IPython.core.display.HTML object>"
      ]
     },
     "metadata": {},
     "output_type": "display_data"
    },
    {
     "name": "stdout",
     "output_type": "stream",
     "text": [
      "Generating URL ...\n",
      "Downloading data from https://earthengine.googleapis.com/v1/projects/741521329129/thumbnails/36eecf54cfeed505d09ba001925c662e-25dd34f7ecfcb55cbf5e89991aee3027:getPixels\n",
      "Please wait ...\n",
      "Data downloaded to C:\\Users\\MARK\n"
     ]
    }
   ],
   "source": [
    "geemap.ee_export_image(slope.clip(NMA), filename=filename_slope, scale=60, region=NMA_roi, file_per_band=True)"
   ]
  },
  {
   "cell_type": "code",
   "execution_count": null,
   "id": "e2c86cff-cc07-46ed-bf2f-fc97556883b3",
   "metadata": {},
   "outputs": [],
   "source": []
  }
 ],
 "metadata": {
  "kernelspec": {
   "display_name": "Python 3 (ipykernel)",
   "language": "python",
   "name": "python3"
  },
  "language_info": {
   "codemirror_mode": {
    "name": "ipython",
    "version": 3
   },
   "file_extension": ".py",
   "mimetype": "text/x-python",
   "name": "python",
   "nbconvert_exporter": "python",
   "pygments_lexer": "ipython3",
   "version": "3.11.10"
  }
 },
 "nbformat": 4,
 "nbformat_minor": 5
}
