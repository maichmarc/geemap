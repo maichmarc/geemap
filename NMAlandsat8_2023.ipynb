{
 "cells": [
  {
   "cell_type": "code",
   "execution_count": null,
   "id": "1ea1becb",
   "metadata": {},
   "outputs": [],
   "source": []
  },
  {
   "cell_type": "markdown",
   "id": "da461040",
   "metadata": {},
   "source": [
    "### Install Geemap"
   ]
  },
  {
   "cell_type": "code",
   "execution_count": 1,
   "id": "cd908d03",
   "metadata": {
    "scrolled": true
   },
   "outputs": [
    {
     "name": "stdout",
     "output_type": "stream",
     "text": [
      "Requirement already satisfied: geemap in c:\\users\\mark\\anaconda3\\envs\\gee\\lib\\site-packages (0.35.1)\n",
      "Requirement already satisfied: bqplot in c:\\users\\mark\\anaconda3\\envs\\gee\\lib\\site-packages (from geemap) (0.12.43)\n",
      "Requirement already satisfied: colour in c:\\users\\mark\\anaconda3\\envs\\gee\\lib\\site-packages (from geemap) (0.1.5)\n",
      "Requirement already satisfied: earthengine-api>=1.0.0 in c:\\users\\mark\\anaconda3\\envs\\gee\\lib\\site-packages (from geemap) (1.4.0)\n",
      "Requirement already satisfied: eerepr>=0.0.4 in c:\\users\\mark\\anaconda3\\envs\\gee\\lib\\site-packages (from geemap) (0.0.4)\n",
      "Requirement already satisfied: folium>=0.17.0 in c:\\users\\mark\\anaconda3\\envs\\gee\\lib\\site-packages (from geemap) (0.18.0)\n",
      "Requirement already satisfied: geocoder in c:\\users\\mark\\anaconda3\\envs\\gee\\lib\\site-packages (from geemap) (1.38.1)\n",
      "Requirement already satisfied: ipyevents in c:\\users\\mark\\anaconda3\\envs\\gee\\lib\\site-packages (from geemap) (2.0.2)\n",
      "Requirement already satisfied: ipyfilechooser>=0.6.0 in c:\\users\\mark\\anaconda3\\envs\\gee\\lib\\site-packages (from geemap) (0.6.0)\n",
      "Collecting ipyleaflet>=0.19.2 (from geemap)\n",
      "  Using cached ipyleaflet-0.19.2-py3-none-any.whl.metadata (5.3 kB)\n",
      "Requirement already satisfied: ipytree in c:\\users\\mark\\anaconda3\\envs\\gee\\lib\\site-packages (from geemap) (0.2.2)\n",
      "Requirement already satisfied: matplotlib in c:\\users\\mark\\anaconda3\\envs\\gee\\lib\\site-packages (from geemap) (3.9.2)\n",
      "Requirement already satisfied: numpy in c:\\users\\mark\\anaconda3\\envs\\gee\\lib\\site-packages (from geemap) (2.1.3)\n",
      "Requirement already satisfied: pandas in c:\\users\\mark\\anaconda3\\envs\\gee\\lib\\site-packages (from geemap) (2.2.3)\n",
      "Requirement already satisfied: plotly in c:\\users\\mark\\anaconda3\\envs\\gee\\lib\\site-packages (from geemap) (5.24.1)\n",
      "Requirement already satisfied: pyperclip in c:\\users\\mark\\anaconda3\\envs\\gee\\lib\\site-packages (from geemap) (1.9.0)\n",
      "Requirement already satisfied: pyshp>=2.3.1 in c:\\users\\mark\\anaconda3\\envs\\gee\\lib\\site-packages (from geemap) (2.3.1)\n",
      "Requirement already satisfied: python-box in c:\\users\\mark\\anaconda3\\envs\\gee\\lib\\site-packages (from geemap) (7.2.0)\n",
      "Requirement already satisfied: scooby in c:\\users\\mark\\anaconda3\\envs\\gee\\lib\\site-packages (from geemap) (0.10.0)\n",
      "Requirement already satisfied: google-cloud-storage in c:\\users\\mark\\anaconda3\\envs\\gee\\lib\\site-packages (from earthengine-api>=1.0.0->geemap) (2.18.2)\n",
      "Requirement already satisfied: google-api-python-client>=1.12.1 in c:\\users\\mark\\anaconda3\\envs\\gee\\lib\\site-packages (from earthengine-api>=1.0.0->geemap) (2.154.0)\n",
      "Requirement already satisfied: google-auth>=1.4.1 in c:\\users\\mark\\anaconda3\\envs\\gee\\lib\\site-packages (from earthengine-api>=1.0.0->geemap) (2.36.0)\n",
      "Requirement already satisfied: google-auth-httplib2>=0.0.3 in c:\\users\\mark\\anaconda3\\envs\\gee\\lib\\site-packages (from earthengine-api>=1.0.0->geemap) (0.2.0)\n",
      "Requirement already satisfied: httplib2<1dev,>=0.9.2 in c:\\users\\mark\\anaconda3\\envs\\gee\\lib\\site-packages (from earthengine-api>=1.0.0->geemap) (0.22.0)\n",
      "Requirement already satisfied: requests in c:\\users\\mark\\anaconda3\\envs\\gee\\lib\\site-packages (from earthengine-api>=1.0.0->geemap) (2.32.3)\n",
      "Requirement already satisfied: branca>=0.6.0 in c:\\users\\mark\\anaconda3\\envs\\gee\\lib\\site-packages (from folium>=0.17.0->geemap) (0.6.0)\n",
      "Requirement already satisfied: jinja2>=2.9 in c:\\users\\mark\\anaconda3\\envs\\gee\\lib\\site-packages (from folium>=0.17.0->geemap) (3.1.4)\n",
      "Requirement already satisfied: xyzservices in c:\\users\\mark\\anaconda3\\envs\\gee\\lib\\site-packages (from folium>=0.17.0->geemap) (2022.9.0)\n",
      "Requirement already satisfied: ipywidgets in c:\\users\\mark\\anaconda3\\envs\\gee\\lib\\site-packages (from ipyfilechooser>=0.6.0->geemap) (8.1.2)\n",
      "Requirement already satisfied: jupyter-leaflet<0.20,>=0.19 in c:\\users\\mark\\anaconda3\\envs\\gee\\lib\\site-packages (from ipyleaflet>=0.19.2->geemap) (0.19.2)\n",
      "Requirement already satisfied: traittypes<3,>=0.2.1 in c:\\users\\mark\\anaconda3\\envs\\gee\\lib\\site-packages (from ipyleaflet>=0.19.2->geemap) (0.2.1)\n",
      "Requirement already satisfied: traitlets>=4.3.0 in c:\\users\\mark\\anaconda3\\envs\\gee\\lib\\site-packages (from bqplot->geemap) (5.14.3)\n",
      "Requirement already satisfied: python-dateutil>=2.8.2 in c:\\users\\mark\\anaconda3\\envs\\gee\\lib\\site-packages (from pandas->geemap) (2.9.0.post0)\n",
      "Requirement already satisfied: pytz>=2020.1 in c:\\users\\mark\\anaconda3\\envs\\gee\\lib\\site-packages (from pandas->geemap) (2024.1)\n",
      "Requirement already satisfied: tzdata>=2022.7 in c:\\users\\mark\\anaconda3\\envs\\gee\\lib\\site-packages (from pandas->geemap) (2024.2)\n",
      "Requirement already satisfied: click in c:\\users\\mark\\anaconda3\\envs\\gee\\lib\\site-packages (from geocoder->geemap) (8.1.7)\n",
      "Requirement already satisfied: future in c:\\users\\mark\\anaconda3\\envs\\gee\\lib\\site-packages (from geocoder->geemap) (1.0.0)\n",
      "Requirement already satisfied: ratelim in c:\\users\\mark\\anaconda3\\envs\\gee\\lib\\site-packages (from geocoder->geemap) (0.1.6)\n",
      "Requirement already satisfied: six in c:\\users\\mark\\anaconda3\\envs\\gee\\lib\\site-packages (from geocoder->geemap) (1.16.0)\n",
      "Requirement already satisfied: contourpy>=1.0.1 in c:\\users\\mark\\anaconda3\\envs\\gee\\lib\\site-packages (from matplotlib->geemap) (1.3.1)\n",
      "Requirement already satisfied: cycler>=0.10 in c:\\users\\mark\\anaconda3\\envs\\gee\\lib\\site-packages (from matplotlib->geemap) (0.12.1)\n",
      "Requirement already satisfied: fonttools>=4.22.0 in c:\\users\\mark\\anaconda3\\envs\\gee\\lib\\site-packages (from matplotlib->geemap) (4.55.0)\n",
      "Requirement already satisfied: kiwisolver>=1.3.1 in c:\\users\\mark\\anaconda3\\envs\\gee\\lib\\site-packages (from matplotlib->geemap) (1.4.7)\n",
      "Requirement already satisfied: packaging>=20.0 in c:\\users\\mark\\anaconda3\\envs\\gee\\lib\\site-packages (from matplotlib->geemap) (24.1)\n",
      "Requirement already satisfied: pillow>=8 in c:\\users\\mark\\anaconda3\\envs\\gee\\lib\\site-packages (from matplotlib->geemap) (11.0.0)\n",
      "Requirement already satisfied: pyparsing>=2.3.1 in c:\\users\\mark\\anaconda3\\envs\\gee\\lib\\site-packages (from matplotlib->geemap) (3.2.0)\n",
      "Requirement already satisfied: tenacity>=6.2.0 in c:\\users\\mark\\anaconda3\\envs\\gee\\lib\\site-packages (from plotly->geemap) (9.0.0)\n",
      "Requirement already satisfied: google-api-core!=2.0.*,!=2.1.*,!=2.2.*,!=2.3.0,<3.0.0.dev0,>=1.31.5 in c:\\users\\mark\\anaconda3\\envs\\gee\\lib\\site-packages (from google-api-python-client>=1.12.1->earthengine-api>=1.0.0->geemap) (2.23.0)\n",
      "Requirement already satisfied: uritemplate<5,>=3.0.1 in c:\\users\\mark\\anaconda3\\envs\\gee\\lib\\site-packages (from google-api-python-client>=1.12.1->earthengine-api>=1.0.0->geemap) (4.1.1)\n",
      "Requirement already satisfied: cachetools<6.0,>=2.0.0 in c:\\users\\mark\\anaconda3\\envs\\gee\\lib\\site-packages (from google-auth>=1.4.1->earthengine-api>=1.0.0->geemap) (5.5.0)\n",
      "Requirement already satisfied: pyasn1-modules>=0.2.1 in c:\\users\\mark\\anaconda3\\envs\\gee\\lib\\site-packages (from google-auth>=1.4.1->earthengine-api>=1.0.0->geemap) (0.4.1)\n",
      "Requirement already satisfied: rsa<5,>=3.1.4 in c:\\users\\mark\\anaconda3\\envs\\gee\\lib\\site-packages (from google-auth>=1.4.1->earthengine-api>=1.0.0->geemap) (4.9)\n",
      "Requirement already satisfied: comm>=0.1.3 in c:\\users\\mark\\anaconda3\\envs\\gee\\lib\\site-packages (from ipywidgets->ipyfilechooser>=0.6.0->geemap) (0.2.1)\n",
      "Requirement already satisfied: ipython>=6.1.0 in c:\\users\\mark\\anaconda3\\envs\\gee\\lib\\site-packages (from ipywidgets->ipyfilechooser>=0.6.0->geemap) (8.27.0)\n",
      "Requirement already satisfied: widgetsnbextension~=4.0.10 in c:\\users\\mark\\anaconda3\\envs\\gee\\lib\\site-packages (from ipywidgets->ipyfilechooser>=0.6.0->geemap) (4.0.10)\n",
      "Requirement already satisfied: jupyterlab-widgets~=3.0.10 in c:\\users\\mark\\anaconda3\\envs\\gee\\lib\\site-packages (from ipywidgets->ipyfilechooser>=0.6.0->geemap) (3.0.10)\n",
      "Requirement already satisfied: MarkupSafe>=2.0 in c:\\users\\mark\\anaconda3\\envs\\gee\\lib\\site-packages (from jinja2>=2.9->folium>=0.17.0->geemap) (2.1.3)\n",
      "Requirement already satisfied: colorama in c:\\users\\mark\\anaconda3\\envs\\gee\\lib\\site-packages (from click->geocoder->geemap) (0.4.6)\n",
      "Requirement already satisfied: google-cloud-core<3.0dev,>=2.3.0 in c:\\users\\mark\\anaconda3\\envs\\gee\\lib\\site-packages (from google-cloud-storage->earthengine-api>=1.0.0->geemap) (2.4.1)\n",
      "Requirement already satisfied: google-resumable-media>=2.7.2 in c:\\users\\mark\\anaconda3\\envs\\gee\\lib\\site-packages (from google-cloud-storage->earthengine-api>=1.0.0->geemap) (2.7.2)\n",
      "Requirement already satisfied: google-crc32c<2.0dev,>=1.0 in c:\\users\\mark\\anaconda3\\envs\\gee\\lib\\site-packages (from google-cloud-storage->earthengine-api>=1.0.0->geemap) (1.6.0)\n",
      "Requirement already satisfied: charset-normalizer<4,>=2 in c:\\users\\mark\\anaconda3\\envs\\gee\\lib\\site-packages (from requests->earthengine-api>=1.0.0->geemap) (3.3.2)\n",
      "Requirement already satisfied: idna<4,>=2.5 in c:\\users\\mark\\anaconda3\\envs\\gee\\lib\\site-packages (from requests->earthengine-api>=1.0.0->geemap) (3.7)\n",
      "Requirement already satisfied: urllib3<3,>=1.21.1 in c:\\users\\mark\\anaconda3\\envs\\gee\\lib\\site-packages (from requests->earthengine-api>=1.0.0->geemap) (2.2.3)\n",
      "Requirement already satisfied: certifi>=2017.4.17 in c:\\users\\mark\\anaconda3\\envs\\gee\\lib\\site-packages (from requests->earthengine-api>=1.0.0->geemap) (2024.8.30)\n",
      "Requirement already satisfied: decorator in c:\\users\\mark\\anaconda3\\envs\\gee\\lib\\site-packages (from ratelim->geocoder->geemap) (5.1.1)\n",
      "Requirement already satisfied: googleapis-common-protos<2.0.dev0,>=1.56.2 in c:\\users\\mark\\anaconda3\\envs\\gee\\lib\\site-packages (from google-api-core!=2.0.*,!=2.1.*,!=2.2.*,!=2.3.0,<3.0.0.dev0,>=1.31.5->google-api-python-client>=1.12.1->earthengine-api>=1.0.0->geemap) (1.66.0)\n",
      "Requirement already satisfied: protobuf!=3.20.0,!=3.20.1,!=4.21.0,!=4.21.1,!=4.21.2,!=4.21.3,!=4.21.4,!=4.21.5,<6.0.0.dev0,>=3.19.5 in c:\\users\\mark\\anaconda3\\envs\\gee\\lib\\site-packages (from google-api-core!=2.0.*,!=2.1.*,!=2.2.*,!=2.3.0,<3.0.0.dev0,>=1.31.5->google-api-python-client>=1.12.1->earthengine-api>=1.0.0->geemap) (5.28.3)\n",
      "Requirement already satisfied: proto-plus<2.0.0dev,>=1.22.3 in c:\\users\\mark\\anaconda3\\envs\\gee\\lib\\site-packages (from google-api-core!=2.0.*,!=2.1.*,!=2.2.*,!=2.3.0,<3.0.0.dev0,>=1.31.5->google-api-python-client>=1.12.1->earthengine-api>=1.0.0->geemap) (1.25.0)\n",
      "Requirement already satisfied: jedi>=0.16 in c:\\users\\mark\\anaconda3\\envs\\gee\\lib\\site-packages (from ipython>=6.1.0->ipywidgets->ipyfilechooser>=0.6.0->geemap) (0.19.1)\n",
      "Requirement already satisfied: matplotlib-inline in c:\\users\\mark\\anaconda3\\envs\\gee\\lib\\site-packages (from ipython>=6.1.0->ipywidgets->ipyfilechooser>=0.6.0->geemap) (0.1.6)\n",
      "Requirement already satisfied: prompt-toolkit<3.1.0,>=3.0.41 in c:\\users\\mark\\anaconda3\\envs\\gee\\lib\\site-packages (from ipython>=6.1.0->ipywidgets->ipyfilechooser>=0.6.0->geemap) (3.0.43)\n",
      "Requirement already satisfied: pygments>=2.4.0 in c:\\users\\mark\\anaconda3\\envs\\gee\\lib\\site-packages (from ipython>=6.1.0->ipywidgets->ipyfilechooser>=0.6.0->geemap) (2.15.1)\n",
      "Requirement already satisfied: stack-data in c:\\users\\mark\\anaconda3\\envs\\gee\\lib\\site-packages (from ipython>=6.1.0->ipywidgets->ipyfilechooser>=0.6.0->geemap) (0.2.0)\n",
      "Requirement already satisfied: typing-extensions>=4.6 in c:\\users\\mark\\anaconda3\\envs\\gee\\lib\\site-packages (from ipython>=6.1.0->ipywidgets->ipyfilechooser>=0.6.0->geemap) (4.11.0)\n",
      "Requirement already satisfied: pyasn1<0.7.0,>=0.4.6 in c:\\users\\mark\\anaconda3\\envs\\gee\\lib\\site-packages (from pyasn1-modules>=0.2.1->google-auth>=1.4.1->earthengine-api>=1.0.0->geemap) (0.6.1)\n",
      "Requirement already satisfied: parso<0.9.0,>=0.8.3 in c:\\users\\mark\\anaconda3\\envs\\gee\\lib\\site-packages (from jedi>=0.16->ipython>=6.1.0->ipywidgets->ipyfilechooser>=0.6.0->geemap) (0.8.3)\n",
      "Requirement already satisfied: wcwidth in c:\\users\\mark\\anaconda3\\envs\\gee\\lib\\site-packages (from prompt-toolkit<3.1.0,>=3.0.41->ipython>=6.1.0->ipywidgets->ipyfilechooser>=0.6.0->geemap) (0.2.5)\n",
      "Requirement already satisfied: executing in c:\\users\\mark\\anaconda3\\envs\\gee\\lib\\site-packages (from stack-data->ipython>=6.1.0->ipywidgets->ipyfilechooser>=0.6.0->geemap) (0.8.3)\n",
      "Requirement already satisfied: asttokens in c:\\users\\mark\\anaconda3\\envs\\gee\\lib\\site-packages (from stack-data->ipython>=6.1.0->ipywidgets->ipyfilechooser>=0.6.0->geemap) (2.0.5)\n",
      "Requirement already satisfied: pure-eval in c:\\users\\mark\\anaconda3\\envs\\gee\\lib\\site-packages (from stack-data->ipython>=6.1.0->ipywidgets->ipyfilechooser>=0.6.0->geemap) (0.2.2)\n",
      "Using cached ipyleaflet-0.19.2-py3-none-any.whl (31 kB)\n",
      "Installing collected packages: ipyleaflet\n",
      "  Attempting uninstall: ipyleaflet\n",
      "    Found existing installation: ipyleaflet 0.17.4\n",
      "    Uninstalling ipyleaflet-0.17.4:\n",
      "      Successfully uninstalled ipyleaflet-0.17.4\n",
      "Successfully installed ipyleaflet-0.19.2\n",
      "Note: you may need to restart the kernel to use updated packages.\n"
     ]
    }
   ],
   "source": [
    "pip install geemap"
   ]
  },
  {
   "cell_type": "markdown",
   "id": "f0e07599",
   "metadata": {},
   "source": [
    "### Import Geemap"
   ]
  },
  {
   "cell_type": "code",
   "execution_count": 2,
   "id": "60e180f9",
   "metadata": {},
   "outputs": [],
   "source": [
    "import geemap"
   ]
  },
  {
   "cell_type": "markdown",
   "id": "ad334f82",
   "metadata": {},
   "source": [
    "### Verification for Earth Engine to Notebooks"
   ]
  },
  {
   "cell_type": "code",
   "execution_count": 4,
   "id": "7e70c6c0",
   "metadata": {},
   "outputs": [
    {
     "data": {
      "text/html": [
       "\n",
       "            <style>\n",
       "                .geemap-dark {\n",
       "                    --jp-widgets-color: white;\n",
       "                    --jp-widgets-label-color: white;\n",
       "                    --jp-ui-font-color1: white;\n",
       "                    --jp-layout-color2: #454545;\n",
       "                    background-color: #383838;\n",
       "                }\n",
       "\n",
       "                .geemap-dark .jupyter-button {\n",
       "                    --jp-layout-color3: #383838;\n",
       "                }\n",
       "\n",
       "                .geemap-colab {\n",
       "                    background-color: var(--colab-primary-surface-color, white);\n",
       "                }\n",
       "\n",
       "                .geemap-colab .jupyter-button {\n",
       "                    --jp-layout-color3: var(--colab-primary-surface-color, white);\n",
       "                }\n",
       "            </style>\n",
       "            "
      ],
      "text/plain": [
       "<IPython.core.display.HTML object>"
      ]
     },
     "metadata": {},
     "output_type": "display_data"
    },
    {
     "data": {
      "application/vnd.jupyter.widget-view+json": {
       "model_id": "6f783e40651244b19c237e122a6b82cc",
       "version_major": 2,
       "version_minor": 0
      },
      "text/plain": [
       "Map(center=[0, 0], controls=(WidgetControl(options=['position', 'transparent_bg'], widget=SearchDataGUI(childr…"
      ]
     },
     "execution_count": 4,
     "metadata": {},
     "output_type": "execute_result"
    }
   ],
   "source": [
    "my_map = geemap.Map()\n",
    "my_map"
   ]
  },
  {
   "cell_type": "markdown",
   "id": "d6a01a2f",
   "metadata": {},
   "source": [
    "### Import Earth Engine"
   ]
  },
  {
   "cell_type": "code",
   "execution_count": 5,
   "id": "d0d917f8",
   "metadata": {},
   "outputs": [
    {
     "data": {
      "text/html": [
       "\n",
       "            <style>\n",
       "                .geemap-dark {\n",
       "                    --jp-widgets-color: white;\n",
       "                    --jp-widgets-label-color: white;\n",
       "                    --jp-ui-font-color1: white;\n",
       "                    --jp-layout-color2: #454545;\n",
       "                    background-color: #383838;\n",
       "                }\n",
       "\n",
       "                .geemap-dark .jupyter-button {\n",
       "                    --jp-layout-color3: #383838;\n",
       "                }\n",
       "\n",
       "                .geemap-colab {\n",
       "                    background-color: var(--colab-primary-surface-color, white);\n",
       "                }\n",
       "\n",
       "                .geemap-colab .jupyter-button {\n",
       "                    --jp-layout-color3: var(--colab-primary-surface-color, white);\n",
       "                }\n",
       "            </style>\n",
       "            "
      ],
      "text/plain": [
       "<IPython.core.display.HTML object>"
      ]
     },
     "metadata": {},
     "output_type": "display_data"
    }
   ],
   "source": [
    "import ee"
   ]
  },
  {
   "cell_type": "markdown",
   "id": "f37ea6b8",
   "metadata": {},
   "source": [
    "### Import Area of interest"
   ]
  },
  {
   "cell_type": "code",
   "execution_count": 6,
   "id": "ad2c6b25",
   "metadata": {},
   "outputs": [
    {
     "data": {
      "text/html": [
       "\n",
       "            <style>\n",
       "                .geemap-dark {\n",
       "                    --jp-widgets-color: white;\n",
       "                    --jp-widgets-label-color: white;\n",
       "                    --jp-ui-font-color1: white;\n",
       "                    --jp-layout-color2: #454545;\n",
       "                    background-color: #383838;\n",
       "                }\n",
       "\n",
       "                .geemap-dark .jupyter-button {\n",
       "                    --jp-layout-color3: #383838;\n",
       "                }\n",
       "\n",
       "                .geemap-colab {\n",
       "                    background-color: var(--colab-primary-surface-color, white);\n",
       "                }\n",
       "\n",
       "                .geemap-colab .jupyter-button {\n",
       "                    --jp-layout-color3: var(--colab-primary-surface-color, white);\n",
       "                }\n",
       "            </style>\n",
       "            "
      ],
      "text/plain": [
       "<IPython.core.display.HTML object>"
      ]
     },
     "metadata": {},
     "output_type": "display_data"
    }
   ],
   "source": [
    "NMA = ee.FeatureCollection('projects/ee-maichmarc/assets/NMA')"
   ]
  },
  {
   "cell_type": "markdown",
   "id": "a9f95a14",
   "metadata": {},
   "source": [
    "### Import Training Data"
   ]
  },
  {
   "cell_type": "code",
   "execution_count": 7,
   "id": "db6d4cb4",
   "metadata": {},
   "outputs": [
    {
     "data": {
      "text/html": [
       "\n",
       "            <style>\n",
       "                .geemap-dark {\n",
       "                    --jp-widgets-color: white;\n",
       "                    --jp-widgets-label-color: white;\n",
       "                    --jp-ui-font-color1: white;\n",
       "                    --jp-layout-color2: #454545;\n",
       "                    background-color: #383838;\n",
       "                }\n",
       "\n",
       "                .geemap-dark .jupyter-button {\n",
       "                    --jp-layout-color3: #383838;\n",
       "                }\n",
       "\n",
       "                .geemap-colab {\n",
       "                    background-color: var(--colab-primary-surface-color, white);\n",
       "                }\n",
       "\n",
       "                .geemap-colab .jupyter-button {\n",
       "                    --jp-layout-color3: var(--colab-primary-surface-color, white);\n",
       "                }\n",
       "            </style>\n",
       "            "
      ],
      "text/plain": [
       "<IPython.core.display.HTML object>"
      ]
     },
     "metadata": {},
     "output_type": "display_data"
    }
   ],
   "source": [
    "Urban = ee.FeatureCollection('projects/ee-maichmarc/assets/Urban')\n",
    "Forest = ee.FeatureCollection('projects/ee-maichmarc/assets/Forest')\n",
    "Agriculture = ee.FeatureCollection('projects/ee-maichmarc/assets/Agriculture')\n",
    "Water = ee.FeatureCollection('projects/ee-maichmarc/assets/Water')\n",
    "Rangeland = ee.FeatureCollection('projects/ee-maichmarc/assets/Rangeland')"
   ]
  },
  {
   "cell_type": "markdown",
   "id": "660cdd32",
   "metadata": {},
   "source": [
    "### Import landsat 8 data for 2023"
   ]
  },
  {
   "cell_type": "code",
   "execution_count": 8,
   "id": "bed96887",
   "metadata": {},
   "outputs": [
    {
     "data": {
      "text/html": [
       "\n",
       "            <style>\n",
       "                .geemap-dark {\n",
       "                    --jp-widgets-color: white;\n",
       "                    --jp-widgets-label-color: white;\n",
       "                    --jp-ui-font-color1: white;\n",
       "                    --jp-layout-color2: #454545;\n",
       "                    background-color: #383838;\n",
       "                }\n",
       "\n",
       "                .geemap-dark .jupyter-button {\n",
       "                    --jp-layout-color3: #383838;\n",
       "                }\n",
       "\n",
       "                .geemap-colab {\n",
       "                    background-color: var(--colab-primary-surface-color, white);\n",
       "                }\n",
       "\n",
       "                .geemap-colab .jupyter-button {\n",
       "                    --jp-layout-color3: var(--colab-primary-surface-color, white);\n",
       "                }\n",
       "            </style>\n",
       "            "
      ],
      "text/plain": [
       "<IPython.core.display.HTML object>"
      ]
     },
     "metadata": {},
     "output_type": "display_data"
    }
   ],
   "source": [
    "l8_2023_dataset = ee.ImageCollection(\"LANDSAT/LC08/C02/T1_L2\")\\\n",
    "    .filterDate('2023-01-01', '2023-12-31')\\\n",
    "    .filterBounds(NMA)\\\n",
    "    .sort('CLOUD_COVER')\\\n",
    "    .first()"
   ]
  },
  {
   "cell_type": "markdown",
   "id": "8f2fb23e",
   "metadata": {},
   "source": [
    "### Create visaualisation parameters"
   ]
  },
  {
   "cell_type": "code",
   "execution_count": 9,
   "id": "6e1bd689",
   "metadata": {},
   "outputs": [
    {
     "data": {
      "text/html": [
       "\n",
       "            <style>\n",
       "                .geemap-dark {\n",
       "                    --jp-widgets-color: white;\n",
       "                    --jp-widgets-label-color: white;\n",
       "                    --jp-ui-font-color1: white;\n",
       "                    --jp-layout-color2: #454545;\n",
       "                    background-color: #383838;\n",
       "                }\n",
       "\n",
       "                .geemap-dark .jupyter-button {\n",
       "                    --jp-layout-color3: #383838;\n",
       "                }\n",
       "\n",
       "                .geemap-colab {\n",
       "                    background-color: var(--colab-primary-surface-color, white);\n",
       "                }\n",
       "\n",
       "                .geemap-colab .jupyter-button {\n",
       "                    --jp-layout-color3: var(--colab-primary-surface-color, white);\n",
       "                }\n",
       "            </style>\n",
       "            "
      ],
      "text/plain": [
       "<IPython.core.display.HTML object>"
      ]
     },
     "metadata": {},
     "output_type": "display_data"
    }
   ],
   "source": [
    "vis_params = {\n",
    "  'min': 0,\n",
    "  'bands': ['SR_B4', 'SR_B3', 'SR_B2']\n",
    "}"
   ]
  },
  {
   "cell_type": "markdown",
   "id": "12db9b69",
   "metadata": {},
   "source": [
    "### Add imported dataset to our Geemap map"
   ]
  },
  {
   "cell_type": "code",
   "execution_count": 10,
   "id": "1c30a13e",
   "metadata": {},
   "outputs": [
    {
     "data": {
      "text/html": [
       "\n",
       "            <style>\n",
       "                .geemap-dark {\n",
       "                    --jp-widgets-color: white;\n",
       "                    --jp-widgets-label-color: white;\n",
       "                    --jp-ui-font-color1: white;\n",
       "                    --jp-layout-color2: #454545;\n",
       "                    background-color: #383838;\n",
       "                }\n",
       "\n",
       "                .geemap-dark .jupyter-button {\n",
       "                    --jp-layout-color3: #383838;\n",
       "                }\n",
       "\n",
       "                .geemap-colab {\n",
       "                    background-color: var(--colab-primary-surface-color, white);\n",
       "                }\n",
       "\n",
       "                .geemap-colab .jupyter-button {\n",
       "                    --jp-layout-color3: var(--colab-primary-surface-color, white);\n",
       "                }\n",
       "            </style>\n",
       "            "
      ],
      "text/plain": [
       "<IPython.core.display.HTML object>"
      ]
     },
     "metadata": {},
     "output_type": "display_data"
    }
   ],
   "source": [
    "my_map.addLayer(l8_2023_dataset, vis_params,'L8_2023')"
   ]
  },
  {
   "cell_type": "code",
   "execution_count": 11,
   "id": "137ea2a7",
   "metadata": {},
   "outputs": [
    {
     "data": {
      "text/html": [
       "\n",
       "            <style>\n",
       "                .geemap-dark {\n",
       "                    --jp-widgets-color: white;\n",
       "                    --jp-widgets-label-color: white;\n",
       "                    --jp-ui-font-color1: white;\n",
       "                    --jp-layout-color2: #454545;\n",
       "                    background-color: #383838;\n",
       "                }\n",
       "\n",
       "                .geemap-dark .jupyter-button {\n",
       "                    --jp-layout-color3: #383838;\n",
       "                }\n",
       "\n",
       "                .geemap-colab {\n",
       "                    background-color: var(--colab-primary-surface-color, white);\n",
       "                }\n",
       "\n",
       "                .geemap-colab .jupyter-button {\n",
       "                    --jp-layout-color3: var(--colab-primary-surface-color, white);\n",
       "                }\n",
       "            </style>\n",
       "            "
      ],
      "text/plain": [
       "<IPython.core.display.HTML object>"
      ]
     },
     "metadata": {},
     "output_type": "display_data"
    },
    {
     "data": {
      "application/vnd.jupyter.widget-view+json": {
       "model_id": "6f783e40651244b19c237e122a6b82cc",
       "version_major": 2,
       "version_minor": 0
      },
      "text/plain": [
       "Map(bottom=812.0, center=[0, 0], controls=(WidgetControl(options=['position', 'transparent_bg'], widget=Search…"
      ]
     },
     "execution_count": 11,
     "metadata": {},
     "output_type": "execute_result"
    }
   ],
   "source": [
    "my_map.centerObject(NMA)\n",
    "my_map"
   ]
  },
  {
   "cell_type": "code",
   "execution_count": 12,
   "id": "78068b6c",
   "metadata": {},
   "outputs": [
    {
     "data": {
      "text/html": [
       "\n",
       "            <style>\n",
       "                .geemap-dark {\n",
       "                    --jp-widgets-color: white;\n",
       "                    --jp-widgets-label-color: white;\n",
       "                    --jp-ui-font-color1: white;\n",
       "                    --jp-layout-color2: #454545;\n",
       "                    background-color: #383838;\n",
       "                }\n",
       "\n",
       "                .geemap-dark .jupyter-button {\n",
       "                    --jp-layout-color3: #383838;\n",
       "                }\n",
       "\n",
       "                .geemap-colab {\n",
       "                    background-color: var(--colab-primary-surface-color, white);\n",
       "                }\n",
       "\n",
       "                .geemap-colab .jupyter-button {\n",
       "                    --jp-layout-color3: var(--colab-primary-surface-color, white);\n",
       "                }\n",
       "            </style>\n",
       "            "
      ],
      "text/plain": [
       "<IPython.core.display.HTML object>"
      ]
     },
     "metadata": {},
     "output_type": "display_data"
    }
   ],
   "source": [
    "map_2023 = geemap.Map()"
   ]
  },
  {
   "cell_type": "code",
   "execution_count": 13,
   "id": "6ff2e35b",
   "metadata": {},
   "outputs": [
    {
     "data": {
      "text/html": [
       "\n",
       "            <style>\n",
       "                .geemap-dark {\n",
       "                    --jp-widgets-color: white;\n",
       "                    --jp-widgets-label-color: white;\n",
       "                    --jp-ui-font-color1: white;\n",
       "                    --jp-layout-color2: #454545;\n",
       "                    background-color: #383838;\n",
       "                }\n",
       "\n",
       "                .geemap-dark .jupyter-button {\n",
       "                    --jp-layout-color3: #383838;\n",
       "                }\n",
       "\n",
       "                .geemap-colab {\n",
       "                    background-color: var(--colab-primary-surface-color, white);\n",
       "                }\n",
       "\n",
       "                .geemap-colab .jupyter-button {\n",
       "                    --jp-layout-color3: var(--colab-primary-surface-color, white);\n",
       "                }\n",
       "            </style>\n",
       "            "
      ],
      "text/plain": [
       "<IPython.core.display.HTML object>"
      ]
     },
     "metadata": {},
     "output_type": "display_data"
    }
   ],
   "source": [
    "l8_2023_NMA = l8_2023_dataset.clip(NMA)"
   ]
  },
  {
   "cell_type": "code",
   "execution_count": 14,
   "id": "5a26d1be",
   "metadata": {},
   "outputs": [
    {
     "data": {
      "text/html": [
       "\n",
       "            <style>\n",
       "                .geemap-dark {\n",
       "                    --jp-widgets-color: white;\n",
       "                    --jp-widgets-label-color: white;\n",
       "                    --jp-ui-font-color1: white;\n",
       "                    --jp-layout-color2: #454545;\n",
       "                    background-color: #383838;\n",
       "                }\n",
       "\n",
       "                .geemap-dark .jupyter-button {\n",
       "                    --jp-layout-color3: #383838;\n",
       "                }\n",
       "\n",
       "                .geemap-colab {\n",
       "                    background-color: var(--colab-primary-surface-color, white);\n",
       "                }\n",
       "\n",
       "                .geemap-colab .jupyter-button {\n",
       "                    --jp-layout-color3: var(--colab-primary-surface-color, white);\n",
       "                }\n",
       "            </style>\n",
       "            "
      ],
      "text/plain": [
       "<IPython.core.display.HTML object>"
      ]
     },
     "metadata": {},
     "output_type": "display_data"
    },
    {
     "data": {
      "application/vnd.jupyter.widget-view+json": {
       "model_id": "70c26af23113484fbef815e383f7acb9",
       "version_major": 2,
       "version_minor": 0
      },
      "text/plain": [
       "Map(center=[0, 0], controls=(WidgetControl(options=['position', 'transparent_bg'], widget=SearchDataGUI(childr…"
      ]
     },
     "execution_count": 14,
     "metadata": {},
     "output_type": "execute_result"
    }
   ],
   "source": [
    "map_2023.addLayer(l8_2023_NMA, vis_params,'L8_NMA')\n",
    "map_2023.centerObject(NMA)\n",
    "map_2023"
   ]
  },
  {
   "cell_type": "markdown",
   "id": "975b8670",
   "metadata": {},
   "source": [
    "### Training parameters"
   ]
  },
  {
   "cell_type": "code",
   "execution_count": 15,
   "id": "0b879588",
   "metadata": {},
   "outputs": [
    {
     "data": {
      "text/html": [
       "\n",
       "            <style>\n",
       "                .geemap-dark {\n",
       "                    --jp-widgets-color: white;\n",
       "                    --jp-widgets-label-color: white;\n",
       "                    --jp-ui-font-color1: white;\n",
       "                    --jp-layout-color2: #454545;\n",
       "                    background-color: #383838;\n",
       "                }\n",
       "\n",
       "                .geemap-dark .jupyter-button {\n",
       "                    --jp-layout-color3: #383838;\n",
       "                }\n",
       "\n",
       "                .geemap-colab {\n",
       "                    background-color: var(--colab-primary-surface-color, white);\n",
       "                }\n",
       "\n",
       "                .geemap-colab .jupyter-button {\n",
       "                    --jp-layout-color3: var(--colab-primary-surface-color, white);\n",
       "                }\n",
       "            </style>\n",
       "            "
      ],
      "text/plain": [
       "<IPython.core.display.HTML object>"
      ]
     },
     "metadata": {},
     "output_type": "display_data"
    }
   ],
   "source": [
    "label = 'Class'\n",
    "bands = ['SR_B1','SR_B2','SR_B3','SR_B4','SR_B5','SR_B7'];\n",
    "inputImage = l8_2023_NMA.select(bands);"
   ]
  },
  {
   "cell_type": "code",
   "execution_count": 16,
   "id": "4054ba9b",
   "metadata": {},
   "outputs": [
    {
     "data": {
      "text/html": [
       "\n",
       "            <style>\n",
       "                .geemap-dark {\n",
       "                    --jp-widgets-color: white;\n",
       "                    --jp-widgets-label-color: white;\n",
       "                    --jp-ui-font-color1: white;\n",
       "                    --jp-layout-color2: #454545;\n",
       "                    background-color: #383838;\n",
       "                }\n",
       "\n",
       "                .geemap-dark .jupyter-button {\n",
       "                    --jp-layout-color3: #383838;\n",
       "                }\n",
       "\n",
       "                .geemap-colab {\n",
       "                    background-color: var(--colab-primary-surface-color, white);\n",
       "                }\n",
       "\n",
       "                .geemap-colab .jupyter-button {\n",
       "                    --jp-layout-color3: var(--colab-primary-surface-color, white);\n",
       "                }\n",
       "            </style>\n",
       "            "
      ],
      "text/plain": [
       "<IPython.core.display.HTML object>"
      ]
     },
     "metadata": {},
     "output_type": "display_data"
    }
   ],
   "source": [
    "training = Urban.merge(Forest).merge(Agriculture).merge(Water).merge(Rangeland)"
   ]
  },
  {
   "cell_type": "code",
   "execution_count": 17,
   "id": "9354a75f",
   "metadata": {},
   "outputs": [
    {
     "data": {
      "text/html": [
       "\n",
       "            <style>\n",
       "                .geemap-dark {\n",
       "                    --jp-widgets-color: white;\n",
       "                    --jp-widgets-label-color: white;\n",
       "                    --jp-ui-font-color1: white;\n",
       "                    --jp-layout-color2: #454545;\n",
       "                    background-color: #383838;\n",
       "                }\n",
       "\n",
       "                .geemap-dark .jupyter-button {\n",
       "                    --jp-layout-color3: #383838;\n",
       "                }\n",
       "\n",
       "                .geemap-colab {\n",
       "                    background-color: var(--colab-primary-surface-color, white);\n",
       "                }\n",
       "\n",
       "                .geemap-colab .jupyter-button {\n",
       "                    --jp-layout-color3: var(--colab-primary-surface-color, white);\n",
       "                }\n",
       "            </style>\n",
       "            "
      ],
      "text/plain": [
       "<IPython.core.display.HTML object>"
      ]
     },
     "metadata": {},
     "output_type": "display_data"
    }
   ],
   "source": [
    "trainImage = inputImage.sampleRegions(\n",
    "    **{'collection': training, 'properties': [label], 'scale': 30}\n",
    ")"
   ]
  },
  {
   "cell_type": "markdown",
   "id": "16c19055",
   "metadata": {},
   "source": [
    "### Split training data into training and validation sets"
   ]
  },
  {
   "cell_type": "code",
   "execution_count": 18,
   "id": "0bfe3179",
   "metadata": {},
   "outputs": [
    {
     "data": {
      "text/html": [
       "\n",
       "            <style>\n",
       "                .geemap-dark {\n",
       "                    --jp-widgets-color: white;\n",
       "                    --jp-widgets-label-color: white;\n",
       "                    --jp-ui-font-color1: white;\n",
       "                    --jp-layout-color2: #454545;\n",
       "                    background-color: #383838;\n",
       "                }\n",
       "\n",
       "                .geemap-dark .jupyter-button {\n",
       "                    --jp-layout-color3: #383838;\n",
       "                }\n",
       "\n",
       "                .geemap-colab {\n",
       "                    background-color: var(--colab-primary-surface-color, white);\n",
       "                }\n",
       "\n",
       "                .geemap-colab .jupyter-button {\n",
       "                    --jp-layout-color3: var(--colab-primary-surface-color, white);\n",
       "                }\n",
       "            </style>\n",
       "            "
      ],
      "text/plain": [
       "<IPython.core.display.HTML object>"
      ]
     },
     "metadata": {},
     "output_type": "display_data"
    }
   ],
   "source": [
    "trainingData = trainImage.randomColumn()\n",
    "split = 0.8\n",
    "trainSet = trainingData.filter(ee.Filter.lessThan('random', split))\n",
    "validationSet = trainingData.filter(ee.Filter.greaterThanOrEquals('random', split))"
   ]
  },
  {
   "cell_type": "markdown",
   "id": "c301fcdb",
   "metadata": {},
   "source": [
    "### Train the smileCART classifier"
   ]
  },
  {
   "cell_type": "code",
   "execution_count": 19,
   "id": "859823f1",
   "metadata": {},
   "outputs": [
    {
     "data": {
      "text/html": [
       "\n",
       "            <style>\n",
       "                .geemap-dark {\n",
       "                    --jp-widgets-color: white;\n",
       "                    --jp-widgets-label-color: white;\n",
       "                    --jp-ui-font-color1: white;\n",
       "                    --jp-layout-color2: #454545;\n",
       "                    background-color: #383838;\n",
       "                }\n",
       "\n",
       "                .geemap-dark .jupyter-button {\n",
       "                    --jp-layout-color3: #383838;\n",
       "                }\n",
       "\n",
       "                .geemap-colab {\n",
       "                    background-color: var(--colab-primary-surface-color, white);\n",
       "                }\n",
       "\n",
       "                .geemap-colab .jupyter-button {\n",
       "                    --jp-layout-color3: var(--colab-primary-surface-color, white);\n",
       "                }\n",
       "            </style>\n",
       "            "
      ],
      "text/plain": [
       "<IPython.core.display.HTML object>"
      ]
     },
     "metadata": {},
     "output_type": "display_data"
    }
   ],
   "source": [
    "classifier = ee.Classifier.smileCart().train(trainSet, label, bands)\n"
   ]
  },
  {
   "cell_type": "markdown",
   "id": "2b4f5fda",
   "metadata": {},
   "source": [
    "### Classify the image"
   ]
  },
  {
   "cell_type": "code",
   "execution_count": 20,
   "id": "020f20fe",
   "metadata": {},
   "outputs": [
    {
     "data": {
      "text/html": [
       "\n",
       "            <style>\n",
       "                .geemap-dark {\n",
       "                    --jp-widgets-color: white;\n",
       "                    --jp-widgets-label-color: white;\n",
       "                    --jp-ui-font-color1: white;\n",
       "                    --jp-layout-color2: #454545;\n",
       "                    background-color: #383838;\n",
       "                }\n",
       "\n",
       "                .geemap-dark .jupyter-button {\n",
       "                    --jp-layout-color3: #383838;\n",
       "                }\n",
       "\n",
       "                .geemap-colab {\n",
       "                    background-color: var(--colab-primary-surface-color, white);\n",
       "                }\n",
       "\n",
       "                .geemap-colab .jupyter-button {\n",
       "                    --jp-layout-color3: var(--colab-primary-surface-color, white);\n",
       "                }\n",
       "            </style>\n",
       "            "
      ],
      "text/plain": [
       "<IPython.core.display.HTML object>"
      ]
     },
     "metadata": {},
     "output_type": "display_data"
    }
   ],
   "source": [
    "classified = inputImage.classify(classifier)"
   ]
  },
  {
   "cell_type": "markdown",
   "id": "048df8a4",
   "metadata": {},
   "source": [
    "### Create a visualisation pallete for the classified image"
   ]
  },
  {
   "cell_type": "code",
   "execution_count": 21,
   "id": "486e5257",
   "metadata": {},
   "outputs": [
    {
     "data": {
      "text/html": [
       "\n",
       "            <style>\n",
       "                .geemap-dark {\n",
       "                    --jp-widgets-color: white;\n",
       "                    --jp-widgets-label-color: white;\n",
       "                    --jp-ui-font-color1: white;\n",
       "                    --jp-layout-color2: #454545;\n",
       "                    background-color: #383838;\n",
       "                }\n",
       "\n",
       "                .geemap-dark .jupyter-button {\n",
       "                    --jp-layout-color3: #383838;\n",
       "                }\n",
       "\n",
       "                .geemap-colab {\n",
       "                    background-color: var(--colab-primary-surface-color, white);\n",
       "                }\n",
       "\n",
       "                .geemap-colab .jupyter-button {\n",
       "                    --jp-layout-color3: var(--colab-primary-surface-color, white);\n",
       "                }\n",
       "            </style>\n",
       "            "
      ],
      "text/plain": [
       "<IPython.core.display.HTML object>"
      ]
     },
     "metadata": {},
     "output_type": "display_data"
    }
   ],
   "source": [
    "LULC_palette = [\n",
    "  'd63000', # Urban (1)\n",
    "  '05450a', # Forest (2)\n",
    "  'f096ff', # Agriculture (3)\n",
    "  '0064c8', # Water (4)\n",
    "  'ffff4c', # Rangeland (4)\n",
    "  ]"
   ]
  },
  {
   "cell_type": "markdown",
   "id": "0a75e534",
   "metadata": {},
   "source": [
    "### Add classified image to map"
   ]
  },
  {
   "cell_type": "code",
   "execution_count": 22,
   "id": "2a9459bb",
   "metadata": {},
   "outputs": [
    {
     "data": {
      "text/html": [
       "\n",
       "            <style>\n",
       "                .geemap-dark {\n",
       "                    --jp-widgets-color: white;\n",
       "                    --jp-widgets-label-color: white;\n",
       "                    --jp-ui-font-color1: white;\n",
       "                    --jp-layout-color2: #454545;\n",
       "                    background-color: #383838;\n",
       "                }\n",
       "\n",
       "                .geemap-dark .jupyter-button {\n",
       "                    --jp-layout-color3: #383838;\n",
       "                }\n",
       "\n",
       "                .geemap-colab {\n",
       "                    background-color: var(--colab-primary-surface-color, white);\n",
       "                }\n",
       "\n",
       "                .geemap-colab .jupyter-button {\n",
       "                    --jp-layout-color3: var(--colab-primary-surface-color, white);\n",
       "                }\n",
       "            </style>\n",
       "            "
      ],
      "text/plain": [
       "<IPython.core.display.HTML object>"
      ]
     },
     "metadata": {},
     "output_type": "display_data"
    },
    {
     "data": {
      "application/vnd.jupyter.widget-view+json": {
       "model_id": "70c26af23113484fbef815e383f7acb9",
       "version_major": 2,
       "version_minor": 0
      },
      "text/plain": [
       "Map(bottom=132279.0, center=[-1.2453394220662761, 37.14196530502723], controls=(WidgetControl(options=['positi…"
      ]
     },
     "execution_count": 22,
     "metadata": {},
     "output_type": "execute_result"
    }
   ],
   "source": [
    "map_2023.centerObject(NMA)\n",
    "map_2023.addLayer(classified, {'palette': LULC_palette, 'min': 1, 'max': 5},'LULC_2023')\n",
    "map_2023"
   ]
  },
  {
   "cell_type": "markdown",
   "id": "866ee004",
   "metadata": {},
   "source": [
    "### Model validation"
   ]
  },
  {
   "cell_type": "code",
   "execution_count": 23,
   "id": "92523a60",
   "metadata": {},
   "outputs": [
    {
     "data": {
      "text/html": [
       "\n",
       "            <style>\n",
       "                .geemap-dark {\n",
       "                    --jp-widgets-color: white;\n",
       "                    --jp-widgets-label-color: white;\n",
       "                    --jp-ui-font-color1: white;\n",
       "                    --jp-layout-color2: #454545;\n",
       "                    background-color: #383838;\n",
       "                }\n",
       "\n",
       "                .geemap-dark .jupyter-button {\n",
       "                    --jp-layout-color3: #383838;\n",
       "                }\n",
       "\n",
       "                .geemap-colab {\n",
       "                    background-color: var(--colab-primary-surface-color, white);\n",
       "                }\n",
       "\n",
       "                .geemap-colab .jupyter-button {\n",
       "                    --jp-layout-color3: var(--colab-primary-surface-color, white);\n",
       "                }\n",
       "            </style>\n",
       "            "
      ],
      "text/plain": [
       "<IPython.core.display.HTML object>"
      ]
     },
     "metadata": {},
     "output_type": "display_data"
    }
   ],
   "source": [
    "validated = validationSet.classify(classifier)"
   ]
  },
  {
   "cell_type": "code",
   "execution_count": 24,
   "id": "42c85442",
   "metadata": {},
   "outputs": [
    {
     "data": {
      "text/html": [
       "\n",
       "            <style>\n",
       "                .geemap-dark {\n",
       "                    --jp-widgets-color: white;\n",
       "                    --jp-widgets-label-color: white;\n",
       "                    --jp-ui-font-color1: white;\n",
       "                    --jp-layout-color2: #454545;\n",
       "                    background-color: #383838;\n",
       "                }\n",
       "\n",
       "                .geemap-dark .jupyter-button {\n",
       "                    --jp-layout-color3: #383838;\n",
       "                }\n",
       "\n",
       "                .geemap-colab {\n",
       "                    background-color: var(--colab-primary-surface-color, white);\n",
       "                }\n",
       "\n",
       "                .geemap-colab .jupyter-button {\n",
       "                    --jp-layout-color3: var(--colab-primary-surface-color, white);\n",
       "                }\n",
       "            </style>\n",
       "            "
      ],
      "text/plain": [
       "<IPython.core.display.HTML object>"
      ]
     },
     "metadata": {},
     "output_type": "display_data"
    },
    {
     "data": {
      "text/plain": [
       "{'type': 'Feature',\n",
       " 'geometry': None,\n",
       " 'id': '1_1_1_1_00000000000000000001_0',\n",
       " 'properties': {'Class': 1,\n",
       "  'SR_B1': 9194,\n",
       "  'SR_B2': 10073,\n",
       "  'SR_B3': 11608,\n",
       "  'SR_B4': 13057,\n",
       "  'SR_B5': 14942,\n",
       "  'SR_B7': 17184,\n",
       "  'classification': 1,\n",
       "  'random': 0.9087840747219302}}"
      ]
     },
     "execution_count": 24,
     "metadata": {},
     "output_type": "execute_result"
    }
   ],
   "source": [
    "validated.first().getInfo()"
   ]
  },
  {
   "cell_type": "code",
   "execution_count": 25,
   "id": "947626f5",
   "metadata": {},
   "outputs": [
    {
     "data": {
      "text/html": [
       "\n",
       "            <style>\n",
       "                .geemap-dark {\n",
       "                    --jp-widgets-color: white;\n",
       "                    --jp-widgets-label-color: white;\n",
       "                    --jp-ui-font-color1: white;\n",
       "                    --jp-layout-color2: #454545;\n",
       "                    background-color: #383838;\n",
       "                }\n",
       "\n",
       "                .geemap-dark .jupyter-button {\n",
       "                    --jp-layout-color3: #383838;\n",
       "                }\n",
       "\n",
       "                .geemap-colab {\n",
       "                    background-color: var(--colab-primary-surface-color, white);\n",
       "                }\n",
       "\n",
       "                .geemap-colab .jupyter-button {\n",
       "                    --jp-layout-color3: var(--colab-primary-surface-color, white);\n",
       "                }\n",
       "            </style>\n",
       "            "
      ],
      "text/plain": [
       "<IPython.core.display.HTML object>"
      ]
     },
     "metadata": {},
     "output_type": "display_data"
    }
   ],
   "source": [
    "test_accuracy = validated.errorMatrix('Class','classification')"
   ]
  },
  {
   "cell_type": "code",
   "execution_count": 26,
   "id": "82bf3c14",
   "metadata": {},
   "outputs": [
    {
     "data": {
      "text/html": [
       "\n",
       "            <style>\n",
       "                .geemap-dark {\n",
       "                    --jp-widgets-color: white;\n",
       "                    --jp-widgets-label-color: white;\n",
       "                    --jp-ui-font-color1: white;\n",
       "                    --jp-layout-color2: #454545;\n",
       "                    background-color: #383838;\n",
       "                }\n",
       "\n",
       "                .geemap-dark .jupyter-button {\n",
       "                    --jp-layout-color3: #383838;\n",
       "                }\n",
       "\n",
       "                .geemap-colab {\n",
       "                    background-color: var(--colab-primary-surface-color, white);\n",
       "                }\n",
       "\n",
       "                .geemap-colab .jupyter-button {\n",
       "                    --jp-layout-color3: var(--colab-primary-surface-color, white);\n",
       "                }\n",
       "            </style>\n",
       "            "
      ],
      "text/plain": [
       "<IPython.core.display.HTML object>"
      ]
     },
     "metadata": {},
     "output_type": "display_data"
    },
    {
     "data": {
      "text/plain": [
       "[[0, 0, 0, 0, 0, 0],\n",
       " [0, 20, 0, 1, 0, 7],\n",
       " [0, 0, 21, 0, 0, 0],\n",
       " [0, 1, 0, 16, 0, 0],\n",
       " [0, 0, 1, 0, 19, 0],\n",
       " [0, 1, 0, 0, 0, 26]]"
      ]
     },
     "execution_count": 26,
     "metadata": {},
     "output_type": "execute_result"
    }
   ],
   "source": [
    "test_accuracy.getInfo()"
   ]
  },
  {
   "cell_type": "code",
   "execution_count": 27,
   "id": "e5c3d178",
   "metadata": {},
   "outputs": [
    {
     "data": {
      "text/html": [
       "\n",
       "            <style>\n",
       "                .geemap-dark {\n",
       "                    --jp-widgets-color: white;\n",
       "                    --jp-widgets-label-color: white;\n",
       "                    --jp-ui-font-color1: white;\n",
       "                    --jp-layout-color2: #454545;\n",
       "                    background-color: #383838;\n",
       "                }\n",
       "\n",
       "                .geemap-dark .jupyter-button {\n",
       "                    --jp-layout-color3: #383838;\n",
       "                }\n",
       "\n",
       "                .geemap-colab {\n",
       "                    background-color: var(--colab-primary-surface-color, white);\n",
       "                }\n",
       "\n",
       "                .geemap-colab .jupyter-button {\n",
       "                    --jp-layout-color3: var(--colab-primary-surface-color, white);\n",
       "                }\n",
       "            </style>\n",
       "            "
      ],
      "text/plain": [
       "<IPython.core.display.HTML object>"
      ]
     },
     "metadata": {},
     "output_type": "display_data"
    },
    {
     "data": {
      "text/plain": [
       "0.9026548672566371"
      ]
     },
     "execution_count": 27,
     "metadata": {},
     "output_type": "execute_result"
    }
   ],
   "source": [
    "test_accuracy.accuracy().getInfo()"
   ]
  },
  {
   "cell_type": "code",
   "execution_count": 29,
   "id": "440d000d",
   "metadata": {},
   "outputs": [
    {
     "data": {
      "text/html": [
       "\n",
       "            <style>\n",
       "                .geemap-dark {\n",
       "                    --jp-widgets-color: white;\n",
       "                    --jp-widgets-label-color: white;\n",
       "                    --jp-ui-font-color1: white;\n",
       "                    --jp-layout-color2: #454545;\n",
       "                    background-color: #383838;\n",
       "                }\n",
       "\n",
       "                .geemap-dark .jupyter-button {\n",
       "                    --jp-layout-color3: #383838;\n",
       "                }\n",
       "\n",
       "                .geemap-colab {\n",
       "                    background-color: var(--colab-primary-surface-color, white);\n",
       "                }\n",
       "\n",
       "                .geemap-colab .jupyter-button {\n",
       "                    --jp-layout-color3: var(--colab-primary-surface-color, white);\n",
       "                }\n",
       "            </style>\n",
       "            "
      ],
      "text/plain": [
       "<IPython.core.display.HTML object>"
      ]
     },
     "metadata": {},
     "output_type": "display_data"
    },
    {
     "data": {
      "text/plain": [
       "0.8773072747014115"
      ]
     },
     "execution_count": 29,
     "metadata": {},
     "output_type": "execute_result"
    }
   ],
   "source": [
    "test_accuracy.kappa().getInfo()"
   ]
  },
  {
   "cell_type": "code",
   "execution_count": 28,
   "id": "d890e4eb",
   "metadata": {},
   "outputs": [
    {
     "data": {
      "text/html": [
       "\n",
       "            <style>\n",
       "                .geemap-dark {\n",
       "                    --jp-widgets-color: white;\n",
       "                    --jp-widgets-label-color: white;\n",
       "                    --jp-ui-font-color1: white;\n",
       "                    --jp-layout-color2: #454545;\n",
       "                    background-color: #383838;\n",
       "                }\n",
       "\n",
       "                .geemap-dark .jupyter-button {\n",
       "                    --jp-layout-color3: #383838;\n",
       "                }\n",
       "\n",
       "                .geemap-colab {\n",
       "                    background-color: var(--colab-primary-surface-color, white);\n",
       "                }\n",
       "\n",
       "                .geemap-colab .jupyter-button {\n",
       "                    --jp-layout-color3: var(--colab-primary-surface-color, white);\n",
       "                }\n",
       "            </style>\n",
       "            "
      ],
      "text/plain": [
       "<IPython.core.display.HTML object>"
      ]
     },
     "metadata": {},
     "output_type": "display_data"
    },
    {
     "data": {
      "text/plain": [
       "[[0],\n",
       " [0.7142857142857143],\n",
       " [1],\n",
       " [0.9411764705882353],\n",
       " [0.95],\n",
       " [0.9629629629629629]]"
      ]
     },
     "execution_count": 28,
     "metadata": {},
     "output_type": "execute_result"
    }
   ],
   "source": [
    "test_accuracy.producersAccuracy().getInfo()"
   ]
  },
  {
   "cell_type": "code",
   "execution_count": 29,
   "id": "05eee519",
   "metadata": {},
   "outputs": [
    {
     "data": {
      "text/html": [
       "\n",
       "            <style>\n",
       "                .geemap-dark {\n",
       "                    --jp-widgets-color: white;\n",
       "                    --jp-widgets-label-color: white;\n",
       "                    --jp-ui-font-color1: white;\n",
       "                    --jp-layout-color2: #454545;\n",
       "                    background-color: #383838;\n",
       "                }\n",
       "\n",
       "                .geemap-dark .jupyter-button {\n",
       "                    --jp-layout-color3: #383838;\n",
       "                }\n",
       "\n",
       "                .geemap-colab {\n",
       "                    background-color: var(--colab-primary-surface-color, white);\n",
       "                }\n",
       "\n",
       "                .geemap-colab .jupyter-button {\n",
       "                    --jp-layout-color3: var(--colab-primary-surface-color, white);\n",
       "                }\n",
       "            </style>\n",
       "            "
      ],
      "text/plain": [
       "<IPython.core.display.HTML object>"
      ]
     },
     "metadata": {},
     "output_type": "display_data"
    },
    {
     "data": {
      "text/plain": [
       "[[0,\n",
       "  0.9090909090909091,\n",
       "  0.9545454545454546,\n",
       "  0.9411764705882353,\n",
       "  1,\n",
       "  0.7878787878787878]]"
      ]
     },
     "execution_count": 29,
     "metadata": {},
     "output_type": "execute_result"
    }
   ],
   "source": [
    "test_accuracy.consumersAccuracy().getInfo()"
   ]
  },
  {
   "cell_type": "markdown",
   "id": "c5be9695",
   "metadata": {},
   "source": [
    "### Export classified image"
   ]
  },
  {
   "cell_type": "code",
   "execution_count": 30,
   "id": "16dfd6ca",
   "metadata": {},
   "outputs": [
    {
     "data": {
      "text/html": [
       "\n",
       "            <style>\n",
       "                .geemap-dark {\n",
       "                    --jp-widgets-color: white;\n",
       "                    --jp-widgets-label-color: white;\n",
       "                    --jp-ui-font-color1: white;\n",
       "                    --jp-layout-color2: #454545;\n",
       "                    background-color: #383838;\n",
       "                }\n",
       "\n",
       "                .geemap-dark .jupyter-button {\n",
       "                    --jp-layout-color3: #383838;\n",
       "                }\n",
       "\n",
       "                .geemap-colab {\n",
       "                    background-color: var(--colab-primary-surface-color, white);\n",
       "                }\n",
       "\n",
       "                .geemap-colab .jupyter-button {\n",
       "                    --jp-layout-color3: var(--colab-primary-surface-color, white);\n",
       "                }\n",
       "            </style>\n",
       "            "
      ],
      "text/plain": [
       "<IPython.core.display.HTML object>"
      ]
     },
     "metadata": {},
     "output_type": "display_data"
    }
   ],
   "source": [
    "import os"
   ]
  },
  {
   "cell_type": "code",
   "execution_count": 31,
   "id": "da44430f",
   "metadata": {},
   "outputs": [
    {
     "data": {
      "text/html": [
       "\n",
       "            <style>\n",
       "                .geemap-dark {\n",
       "                    --jp-widgets-color: white;\n",
       "                    --jp-widgets-label-color: white;\n",
       "                    --jp-ui-font-color1: white;\n",
       "                    --jp-layout-color2: #454545;\n",
       "                    background-color: #383838;\n",
       "                }\n",
       "\n",
       "                .geemap-dark .jupyter-button {\n",
       "                    --jp-layout-color3: #383838;\n",
       "                }\n",
       "\n",
       "                .geemap-colab {\n",
       "                    background-color: var(--colab-primary-surface-color, white);\n",
       "                }\n",
       "\n",
       "                .geemap-colab .jupyter-button {\n",
       "                    --jp-layout-color3: var(--colab-primary-surface-color, white);\n",
       "                }\n",
       "            </style>\n",
       "            "
      ],
      "text/plain": [
       "<IPython.core.display.HTML object>"
      ]
     },
     "metadata": {},
     "output_type": "display_data"
    },
    {
     "name": "stdout",
     "output_type": "stream",
     "text": [
      "c:\\Users\\MARK\n"
     ]
    }
   ],
   "source": [
    "cwd = os.getcwd() \n",
    "print(cwd)"
   ]
  },
  {
   "cell_type": "code",
   "execution_count": 32,
   "id": "d1a754ce",
   "metadata": {},
   "outputs": [
    {
     "data": {
      "text/html": [
       "\n",
       "            <style>\n",
       "                .geemap-dark {\n",
       "                    --jp-widgets-color: white;\n",
       "                    --jp-widgets-label-color: white;\n",
       "                    --jp-ui-font-color1: white;\n",
       "                    --jp-layout-color2: #454545;\n",
       "                    background-color: #383838;\n",
       "                }\n",
       "\n",
       "                .geemap-dark .jupyter-button {\n",
       "                    --jp-layout-color3: #383838;\n",
       "                }\n",
       "\n",
       "                .geemap-colab {\n",
       "                    background-color: var(--colab-primary-surface-color, white);\n",
       "                }\n",
       "\n",
       "                .geemap-colab .jupyter-button {\n",
       "                    --jp-layout-color3: var(--colab-primary-surface-color, white);\n",
       "                }\n",
       "            </style>\n",
       "            "
      ],
      "text/plain": [
       "<IPython.core.display.HTML object>"
      ]
     },
     "metadata": {},
     "output_type": "display_data"
    }
   ],
   "source": [
    "filename_01 = os.path.join(cwd, 'NMA_LULC_2023a.tif')"
   ]
  },
  {
   "cell_type": "code",
   "execution_count": 33,
   "id": "64f828a6",
   "metadata": {},
   "outputs": [
    {
     "data": {
      "text/html": [
       "\n",
       "            <style>\n",
       "                .geemap-dark {\n",
       "                    --jp-widgets-color: white;\n",
       "                    --jp-widgets-label-color: white;\n",
       "                    --jp-ui-font-color1: white;\n",
       "                    --jp-layout-color2: #454545;\n",
       "                    background-color: #383838;\n",
       "                }\n",
       "\n",
       "                .geemap-dark .jupyter-button {\n",
       "                    --jp-layout-color3: #383838;\n",
       "                }\n",
       "\n",
       "                .geemap-colab {\n",
       "                    background-color: var(--colab-primary-surface-color, white);\n",
       "                }\n",
       "\n",
       "                .geemap-colab .jupyter-button {\n",
       "                    --jp-layout-color3: var(--colab-primary-surface-color, white);\n",
       "                }\n",
       "            </style>\n",
       "            "
      ],
      "text/plain": [
       "<IPython.core.display.HTML object>"
      ]
     },
     "metadata": {},
     "output_type": "display_data"
    }
   ],
   "source": [
    "NMA_roi = NMA.geometry()"
   ]
  },
  {
   "cell_type": "code",
   "execution_count": 34,
   "id": "ed6616ea",
   "metadata": {},
   "outputs": [
    {
     "data": {
      "text/html": [
       "\n",
       "            <style>\n",
       "                .geemap-dark {\n",
       "                    --jp-widgets-color: white;\n",
       "                    --jp-widgets-label-color: white;\n",
       "                    --jp-ui-font-color1: white;\n",
       "                    --jp-layout-color2: #454545;\n",
       "                    background-color: #383838;\n",
       "                }\n",
       "\n",
       "                .geemap-dark .jupyter-button {\n",
       "                    --jp-layout-color3: #383838;\n",
       "                }\n",
       "\n",
       "                .geemap-colab {\n",
       "                    background-color: var(--colab-primary-surface-color, white);\n",
       "                }\n",
       "\n",
       "                .geemap-colab .jupyter-button {\n",
       "                    --jp-layout-color3: var(--colab-primary-surface-color, white);\n",
       "                }\n",
       "            </style>\n",
       "            "
      ],
      "text/plain": [
       "<IPython.core.display.HTML object>"
      ]
     },
     "metadata": {},
     "output_type": "display_data"
    },
    {
     "name": "stdout",
     "output_type": "stream",
     "text": [
      "Generating URL ...\n",
      "Downloading data from https://earthengine.googleapis.com/v1/projects/741521329129/thumbnails/679c761be04cbee2318c3c756fe36008-12ab436caeba5c302749e7ae3a9f083c:getPixels\n",
      "Please wait ...\n",
      "Data downloaded to c:\\Users\\MARK\\NMA_LULC_2023a.tif\n"
     ]
    }
   ],
   "source": [
    "geemap.ee_export_image(classified, filename=filename_01, scale=90, region=NMA_roi, file_per_band=False)"
   ]
  },
  {
   "cell_type": "code",
   "execution_count": null,
   "id": "086b2c2d-c071-40bc-b07b-8419f3369d3a",
   "metadata": {},
   "outputs": [],
   "source": []
  }
 ],
 "metadata": {
  "kernelspec": {
   "display_name": "Gee",
   "language": "python",
   "name": "python3"
  },
  "language_info": {
   "codemirror_mode": {
    "name": "ipython",
    "version": 3
   },
   "file_extension": ".py",
   "mimetype": "text/x-python",
   "name": "python",
   "nbconvert_exporter": "python",
   "pygments_lexer": "ipython3",
   "version": "3.11.10"
  }
 },
 "nbformat": 4,
 "nbformat_minor": 5
}
